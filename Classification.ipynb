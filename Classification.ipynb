{
 "cells": [
  {
   "cell_type": "markdown",
   "id": "b567b0ae-e372-4527-a81b-12160368dd07",
   "metadata": {
    "tags": []
   },
   "source": [
    "# Repositorio"
   ]
  },
  {
   "cell_type": "markdown",
   "id": "e6d09a42-10a1-4229-a552-f34107cf0ee7",
   "metadata": {},
   "source": [
    "Se puede consultar la metodología de desarrollo del proyecto y el histórico de imágenes en el siguiente repositorio:\n",
    "\n",
    "- https://github.com/luperezsal/DM-Classification-Tree"
   ]
  },
  {
   "cell_type": "markdown",
   "id": "518810d7-1198-4d17-bf09-1170460e298e",
   "metadata": {},
   "source": [
    "[Dataset](https://github.com/JeffSackmann/tennis_atp)"
   ]
  },
  {
   "cell_type": "code",
   "execution_count": 219,
   "id": "6bafe547-7b13-4fc3-a030-79a48c4a9fe6",
   "metadata": {},
   "outputs": [],
   "source": [
    "import pandas as pd\n",
    "import matplotlib.pyplot as plt\n",
    "from matplotlib.pyplot import figure"
   ]
  },
  {
   "cell_type": "markdown",
   "id": "dc75f9d6-d140-495e-89bf-ddebbdef95b2",
   "metadata": {
    "tags": []
   },
   "source": [
    "# Directory and version specifications"
   ]
  },
  {
   "cell_type": "markdown",
   "id": "65aabc3d-7baf-446e-a914-1e31f6da93b1",
   "metadata": {},
   "source": [
    "Se definiarán variables globales como los directorios desde donde se leen los datos, directorios donde se guardan los resultados y el timestamp para guardar los archivos generados de cada ejecución indiviudal."
   ]
  },
  {
   "cell_type": "code",
   "execution_count": 220,
   "id": "18141381-2f3c-41f8-ad31-483859fd08fe",
   "metadata": {},
   "outputs": [],
   "source": [
    "from datetime import datetime\n",
    "\n",
    "MODEL_TIMESTAMP = datetime.now().strftime(\"%Y-%m-%d__%H-%M-%S\")\n",
    "\n",
    "DATA_PATH = 'data/'\n",
    "\n",
    "CLASSIFICATION_REPORTS_PATH = 'classification_reports/'\n",
    "CONFUSION_MATRIX_PATH = 'confusion_matrix/'\n",
    "CLASSIFICATION_TREE_PATH = 'tree/classification/'\n",
    "AUC_ROC_PATH = 'auc-roc_curves/'\n",
    "\n",
    "# Resolución de imágenes\n",
    "resolution = 300\n",
    "\n",
    "random_state = 2"
   ]
  },
  {
   "cell_type": "markdown",
   "id": "eae575b3-9abc-49ce-b503-0ab8cb794140",
   "metadata": {
    "tags": []
   },
   "source": [
    "# Download and Store Data"
   ]
  },
  {
   "cell_type": "markdown",
   "id": "a03abee3-4df7-4d48-b886-a0d6bbf609af",
   "metadata": {},
   "source": [
    "Se crea un método para descargar todos los datos de partidos pertenecientes al siguiente repositorio de [Github JeffSackmann/tennis_atp](https://github.com/JeffSackmann/tennis_atp) y posterior guardado de los csv."
   ]
  },
  {
   "cell_type": "code",
   "execution_count": 221,
   "id": "88491cb2-1ddf-4b8f-b609-c08e88df25bc",
   "metadata": {
    "tags": []
   },
   "outputs": [],
   "source": [
    "# for index in range(0,22):\n",
    "#     index_str = str(index)\n",
    "\n",
    "#     print(index_str)\n",
    "    \n",
    "#     if len(index_str) == 1:\n",
    "#         index_str = '0' + index_str\n",
    "\n",
    "#     print(index_str)\n",
    "\n",
    "#     url = \"https://raw.githubusercontent.com/JeffSackmann/tennis_atp/master/atp_matches_20{}.csv\".format(index_str)\n",
    "#     print(url)\n",
    "\n",
    "#     FILE_NAME = \"atp_matches_20{}.csv\".format(index_str)\n",
    "\n",
    "#     df = pd.read_csv(url, index_col=0, parse_dates=[0])\n",
    "#     df.to_csv(DATA_PATH + FILE_NAME)\n",
    "\n",
    "# # data_frame = pd.read_csv(DATA_PATH + FILE_NAME)"
   ]
  },
  {
   "cell_type": "markdown",
   "id": "a8970d34-1077-4de0-b7aa-6f0451abd506",
   "metadata": {
    "tags": []
   },
   "source": [
    "# Load Data"
   ]
  },
  {
   "cell_type": "markdown",
   "id": "049e2900-7763-4fb0-942e-368eb714d42e",
   "metadata": {},
   "source": [
    "Métod para cargar todos los datos de los partidos (desde el año 2000 hasta el 2022) en un único csv `atp`."
   ]
  },
  {
   "cell_type": "code",
   "execution_count": 222,
   "id": "6cbe2d02-eeb3-4e64-a153-fb2ccacc7763",
   "metadata": {
    "tags": []
   },
   "outputs": [
    {
     "data": {
      "text/html": [
       "<div>\n",
       "<style scoped>\n",
       "    .dataframe tbody tr th:only-of-type {\n",
       "        vertical-align: middle;\n",
       "    }\n",
       "\n",
       "    .dataframe tbody tr th {\n",
       "        vertical-align: top;\n",
       "    }\n",
       "\n",
       "    .dataframe thead th {\n",
       "        text-align: right;\n",
       "    }\n",
       "</style>\n",
       "<table border=\"1\" class=\"dataframe\">\n",
       "  <thead>\n",
       "    <tr style=\"text-align: right;\">\n",
       "      <th></th>\n",
       "      <th>tourney_id</th>\n",
       "      <th>tourney_name</th>\n",
       "      <th>surface</th>\n",
       "      <th>draw_size</th>\n",
       "      <th>tourney_level</th>\n",
       "      <th>tourney_date</th>\n",
       "      <th>match_num</th>\n",
       "      <th>winner_id</th>\n",
       "      <th>winner_seed</th>\n",
       "      <th>winner_entry</th>\n",
       "      <th>winner_name</th>\n",
       "      <th>winner_hand</th>\n",
       "      <th>winner_ht</th>\n",
       "      <th>winner_ioc</th>\n",
       "      <th>winner_age</th>\n",
       "      <th>loser_id</th>\n",
       "      <th>loser_seed</th>\n",
       "      <th>loser_entry</th>\n",
       "      <th>loser_name</th>\n",
       "      <th>loser_hand</th>\n",
       "      <th>loser_ht</th>\n",
       "      <th>loser_ioc</th>\n",
       "      <th>loser_age</th>\n",
       "      <th>score</th>\n",
       "      <th>best_of</th>\n",
       "      <th>round</th>\n",
       "      <th>minutes</th>\n",
       "      <th>w_ace</th>\n",
       "      <th>w_df</th>\n",
       "      <th>w_svpt</th>\n",
       "      <th>w_1stIn</th>\n",
       "      <th>w_1stWon</th>\n",
       "      <th>w_2ndWon</th>\n",
       "      <th>w_SvGms</th>\n",
       "      <th>w_bpSaved</th>\n",
       "      <th>w_bpFaced</th>\n",
       "      <th>l_ace</th>\n",
       "      <th>l_df</th>\n",
       "      <th>l_svpt</th>\n",
       "      <th>l_1stIn</th>\n",
       "      <th>l_1stWon</th>\n",
       "      <th>l_2ndWon</th>\n",
       "      <th>l_SvGms</th>\n",
       "      <th>l_bpSaved</th>\n",
       "      <th>l_bpFaced</th>\n",
       "      <th>winner_rank</th>\n",
       "      <th>winner_rank_points</th>\n",
       "      <th>loser_rank</th>\n",
       "      <th>loser_rank_points</th>\n",
       "    </tr>\n",
       "  </thead>\n",
       "  <tbody>\n",
       "    <tr>\n",
       "      <th>0</th>\n",
       "      <td>2000-301</td>\n",
       "      <td>Auckland</td>\n",
       "      <td>Hard</td>\n",
       "      <td>32</td>\n",
       "      <td>A</td>\n",
       "      <td>20000110</td>\n",
       "      <td>1</td>\n",
       "      <td>103163</td>\n",
       "      <td>1.0</td>\n",
       "      <td>NaN</td>\n",
       "      <td>Tommy Haas</td>\n",
       "      <td>R</td>\n",
       "      <td>188.0</td>\n",
       "      <td>GER</td>\n",
       "      <td>21.771389</td>\n",
       "      <td>101543</td>\n",
       "      <td>NaN</td>\n",
       "      <td>NaN</td>\n",
       "      <td>Jeff Tarango</td>\n",
       "      <td>L</td>\n",
       "      <td>180.0</td>\n",
       "      <td>USA</td>\n",
       "      <td>31.137577</td>\n",
       "      <td>7-5 4-6 7-5</td>\n",
       "      <td>3</td>\n",
       "      <td>R32</td>\n",
       "      <td>108.0</td>\n",
       "      <td>18.0</td>\n",
       "      <td>4.0</td>\n",
       "      <td>96.0</td>\n",
       "      <td>49.0</td>\n",
       "      <td>39.0</td>\n",
       "      <td>28.0</td>\n",
       "      <td>17.0</td>\n",
       "      <td>3.0</td>\n",
       "      <td>5.0</td>\n",
       "      <td>7.0</td>\n",
       "      <td>8.0</td>\n",
       "      <td>106.0</td>\n",
       "      <td>55.0</td>\n",
       "      <td>39.0</td>\n",
       "      <td>29.0</td>\n",
       "      <td>17.0</td>\n",
       "      <td>4.0</td>\n",
       "      <td>7.0</td>\n",
       "      <td>11.0</td>\n",
       "      <td>1612.0</td>\n",
       "      <td>63.0</td>\n",
       "      <td>595.0</td>\n",
       "    </tr>\n",
       "    <tr>\n",
       "      <th>1</th>\n",
       "      <td>2000-301</td>\n",
       "      <td>Auckland</td>\n",
       "      <td>Hard</td>\n",
       "      <td>32</td>\n",
       "      <td>A</td>\n",
       "      <td>20000110</td>\n",
       "      <td>2</td>\n",
       "      <td>102607</td>\n",
       "      <td>NaN</td>\n",
       "      <td>Q</td>\n",
       "      <td>Juan Balcells</td>\n",
       "      <td>R</td>\n",
       "      <td>190.0</td>\n",
       "      <td>ESP</td>\n",
       "      <td>24.558522</td>\n",
       "      <td>102644</td>\n",
       "      <td>NaN</td>\n",
       "      <td>NaN</td>\n",
       "      <td>Franco Squillari</td>\n",
       "      <td>L</td>\n",
       "      <td>183.0</td>\n",
       "      <td>ARG</td>\n",
       "      <td>24.386037</td>\n",
       "      <td>7-5 7-5</td>\n",
       "      <td>3</td>\n",
       "      <td>R32</td>\n",
       "      <td>85.0</td>\n",
       "      <td>5.0</td>\n",
       "      <td>3.0</td>\n",
       "      <td>76.0</td>\n",
       "      <td>52.0</td>\n",
       "      <td>39.0</td>\n",
       "      <td>13.0</td>\n",
       "      <td>12.0</td>\n",
       "      <td>5.0</td>\n",
       "      <td>6.0</td>\n",
       "      <td>5.0</td>\n",
       "      <td>10.0</td>\n",
       "      <td>74.0</td>\n",
       "      <td>32.0</td>\n",
       "      <td>25.0</td>\n",
       "      <td>18.0</td>\n",
       "      <td>12.0</td>\n",
       "      <td>3.0</td>\n",
       "      <td>6.0</td>\n",
       "      <td>211.0</td>\n",
       "      <td>157.0</td>\n",
       "      <td>49.0</td>\n",
       "      <td>723.0</td>\n",
       "    </tr>\n",
       "    <tr>\n",
       "      <th>2</th>\n",
       "      <td>2000-301</td>\n",
       "      <td>Auckland</td>\n",
       "      <td>Hard</td>\n",
       "      <td>32</td>\n",
       "      <td>A</td>\n",
       "      <td>20000110</td>\n",
       "      <td>3</td>\n",
       "      <td>103252</td>\n",
       "      <td>NaN</td>\n",
       "      <td>NaN</td>\n",
       "      <td>Alberto Martin</td>\n",
       "      <td>R</td>\n",
       "      <td>175.0</td>\n",
       "      <td>ESP</td>\n",
       "      <td>21.390828</td>\n",
       "      <td>102238</td>\n",
       "      <td>NaN</td>\n",
       "      <td>NaN</td>\n",
       "      <td>Alberto Berasategui</td>\n",
       "      <td>R</td>\n",
       "      <td>173.0</td>\n",
       "      <td>ESP</td>\n",
       "      <td>26.535250</td>\n",
       "      <td>6-3 6-1</td>\n",
       "      <td>3</td>\n",
       "      <td>R32</td>\n",
       "      <td>56.0</td>\n",
       "      <td>0.0</td>\n",
       "      <td>0.0</td>\n",
       "      <td>55.0</td>\n",
       "      <td>35.0</td>\n",
       "      <td>25.0</td>\n",
       "      <td>12.0</td>\n",
       "      <td>8.0</td>\n",
       "      <td>1.0</td>\n",
       "      <td>1.0</td>\n",
       "      <td>0.0</td>\n",
       "      <td>6.0</td>\n",
       "      <td>56.0</td>\n",
       "      <td>33.0</td>\n",
       "      <td>20.0</td>\n",
       "      <td>7.0</td>\n",
       "      <td>8.0</td>\n",
       "      <td>7.0</td>\n",
       "      <td>11.0</td>\n",
       "      <td>48.0</td>\n",
       "      <td>726.0</td>\n",
       "      <td>59.0</td>\n",
       "      <td>649.0</td>\n",
       "    </tr>\n",
       "    <tr>\n",
       "      <th>3</th>\n",
       "      <td>2000-301</td>\n",
       "      <td>Auckland</td>\n",
       "      <td>Hard</td>\n",
       "      <td>32</td>\n",
       "      <td>A</td>\n",
       "      <td>20000110</td>\n",
       "      <td>4</td>\n",
       "      <td>103507</td>\n",
       "      <td>7.0</td>\n",
       "      <td>NaN</td>\n",
       "      <td>Juan Carlos Ferrero</td>\n",
       "      <td>R</td>\n",
       "      <td>183.0</td>\n",
       "      <td>ESP</td>\n",
       "      <td>19.909651</td>\n",
       "      <td>103819</td>\n",
       "      <td>NaN</td>\n",
       "      <td>NaN</td>\n",
       "      <td>Roger Federer</td>\n",
       "      <td>R</td>\n",
       "      <td>185.0</td>\n",
       "      <td>SUI</td>\n",
       "      <td>18.422998</td>\n",
       "      <td>6-4 6-4</td>\n",
       "      <td>3</td>\n",
       "      <td>R32</td>\n",
       "      <td>68.0</td>\n",
       "      <td>5.0</td>\n",
       "      <td>1.0</td>\n",
       "      <td>53.0</td>\n",
       "      <td>28.0</td>\n",
       "      <td>26.0</td>\n",
       "      <td>15.0</td>\n",
       "      <td>10.0</td>\n",
       "      <td>0.0</td>\n",
       "      <td>0.0</td>\n",
       "      <td>11.0</td>\n",
       "      <td>2.0</td>\n",
       "      <td>70.0</td>\n",
       "      <td>43.0</td>\n",
       "      <td>29.0</td>\n",
       "      <td>14.0</td>\n",
       "      <td>10.0</td>\n",
       "      <td>6.0</td>\n",
       "      <td>8.0</td>\n",
       "      <td>45.0</td>\n",
       "      <td>768.0</td>\n",
       "      <td>61.0</td>\n",
       "      <td>616.0</td>\n",
       "    </tr>\n",
       "    <tr>\n",
       "      <th>4</th>\n",
       "      <td>2000-301</td>\n",
       "      <td>Auckland</td>\n",
       "      <td>Hard</td>\n",
       "      <td>32</td>\n",
       "      <td>A</td>\n",
       "      <td>20000110</td>\n",
       "      <td>5</td>\n",
       "      <td>102103</td>\n",
       "      <td>NaN</td>\n",
       "      <td>Q</td>\n",
       "      <td>Michael Sell</td>\n",
       "      <td>R</td>\n",
       "      <td>180.0</td>\n",
       "      <td>USA</td>\n",
       "      <td>27.381246</td>\n",
       "      <td>102765</td>\n",
       "      <td>4.0</td>\n",
       "      <td>NaN</td>\n",
       "      <td>Nicolas Escude</td>\n",
       "      <td>R</td>\n",
       "      <td>185.0</td>\n",
       "      <td>FRA</td>\n",
       "      <td>23.770021</td>\n",
       "      <td>0-6 7-6(7) 6-1</td>\n",
       "      <td>3</td>\n",
       "      <td>R32</td>\n",
       "      <td>115.0</td>\n",
       "      <td>1.0</td>\n",
       "      <td>2.0</td>\n",
       "      <td>98.0</td>\n",
       "      <td>66.0</td>\n",
       "      <td>39.0</td>\n",
       "      <td>14.0</td>\n",
       "      <td>13.0</td>\n",
       "      <td>6.0</td>\n",
       "      <td>11.0</td>\n",
       "      <td>8.0</td>\n",
       "      <td>8.0</td>\n",
       "      <td>92.0</td>\n",
       "      <td>46.0</td>\n",
       "      <td>34.0</td>\n",
       "      <td>18.0</td>\n",
       "      <td>12.0</td>\n",
       "      <td>5.0</td>\n",
       "      <td>9.0</td>\n",
       "      <td>167.0</td>\n",
       "      <td>219.0</td>\n",
       "      <td>34.0</td>\n",
       "      <td>873.0</td>\n",
       "    </tr>\n",
       "    <tr>\n",
       "      <th>...</th>\n",
       "      <td>...</td>\n",
       "      <td>...</td>\n",
       "      <td>...</td>\n",
       "      <td>...</td>\n",
       "      <td>...</td>\n",
       "      <td>...</td>\n",
       "      <td>...</td>\n",
       "      <td>...</td>\n",
       "      <td>...</td>\n",
       "      <td>...</td>\n",
       "      <td>...</td>\n",
       "      <td>...</td>\n",
       "      <td>...</td>\n",
       "      <td>...</td>\n",
       "      <td>...</td>\n",
       "      <td>...</td>\n",
       "      <td>...</td>\n",
       "      <td>...</td>\n",
       "      <td>...</td>\n",
       "      <td>...</td>\n",
       "      <td>...</td>\n",
       "      <td>...</td>\n",
       "      <td>...</td>\n",
       "      <td>...</td>\n",
       "      <td>...</td>\n",
       "      <td>...</td>\n",
       "      <td>...</td>\n",
       "      <td>...</td>\n",
       "      <td>...</td>\n",
       "      <td>...</td>\n",
       "      <td>...</td>\n",
       "      <td>...</td>\n",
       "      <td>...</td>\n",
       "      <td>...</td>\n",
       "      <td>...</td>\n",
       "      <td>...</td>\n",
       "      <td>...</td>\n",
       "      <td>...</td>\n",
       "      <td>...</td>\n",
       "      <td>...</td>\n",
       "      <td>...</td>\n",
       "      <td>...</td>\n",
       "      <td>...</td>\n",
       "      <td>...</td>\n",
       "      <td>...</td>\n",
       "      <td>...</td>\n",
       "      <td>...</td>\n",
       "      <td>...</td>\n",
       "      <td>...</td>\n",
       "    </tr>\n",
       "    <tr>\n",
       "      <th>2722</th>\n",
       "      <td>2021-M-DC-2021-WG2-M-THA-DEN-01</td>\n",
       "      <td>Davis Cup WG2 R1: THA vs DEN</td>\n",
       "      <td>Hard</td>\n",
       "      <td>4</td>\n",
       "      <td>D</td>\n",
       "      <td>20210917</td>\n",
       "      <td>4</td>\n",
       "      <td>200416</td>\n",
       "      <td>NaN</td>\n",
       "      <td>NaN</td>\n",
       "      <td>August Holmgren</td>\n",
       "      <td>R</td>\n",
       "      <td>NaN</td>\n",
       "      <td>DEN</td>\n",
       "      <td>23.394935</td>\n",
       "      <td>106397</td>\n",
       "      <td>NaN</td>\n",
       "      <td>NaN</td>\n",
       "      <td>Wishaya Trongcharoenchaikul</td>\n",
       "      <td>R</td>\n",
       "      <td>NaN</td>\n",
       "      <td>THA</td>\n",
       "      <td>26.433949</td>\n",
       "      <td>6-4 6-4</td>\n",
       "      <td>3</td>\n",
       "      <td>RR</td>\n",
       "      <td>90.0</td>\n",
       "      <td>3.0</td>\n",
       "      <td>3.0</td>\n",
       "      <td>52.0</td>\n",
       "      <td>29.0</td>\n",
       "      <td>22.0</td>\n",
       "      <td>16.0</td>\n",
       "      <td>10.0</td>\n",
       "      <td>0.0</td>\n",
       "      <td>1.0</td>\n",
       "      <td>8.0</td>\n",
       "      <td>2.0</td>\n",
       "      <td>79.0</td>\n",
       "      <td>45.0</td>\n",
       "      <td>30.0</td>\n",
       "      <td>14.0</td>\n",
       "      <td>10.0</td>\n",
       "      <td>10.0</td>\n",
       "      <td>13.0</td>\n",
       "      <td>905.0</td>\n",
       "      <td>16.0</td>\n",
       "      <td>767.0</td>\n",
       "      <td>27.0</td>\n",
       "    </tr>\n",
       "    <tr>\n",
       "      <th>2723</th>\n",
       "      <td>2021-M-DC-2021-WG2-M-THA-DEN-01</td>\n",
       "      <td>Davis Cup WG2 R1: THA vs DEN</td>\n",
       "      <td>Hard</td>\n",
       "      <td>4</td>\n",
       "      <td>D</td>\n",
       "      <td>20210917</td>\n",
       "      <td>5</td>\n",
       "      <td>208937</td>\n",
       "      <td>NaN</td>\n",
       "      <td>NaN</td>\n",
       "      <td>Kasidit Samrej</td>\n",
       "      <td>R</td>\n",
       "      <td>NaN</td>\n",
       "      <td>THA</td>\n",
       "      <td>20.629706</td>\n",
       "      <td>134087</td>\n",
       "      <td>NaN</td>\n",
       "      <td>NaN</td>\n",
       "      <td>Johannes Ingildsen</td>\n",
       "      <td>R</td>\n",
       "      <td>NaN</td>\n",
       "      <td>DEN</td>\n",
       "      <td>24.202601</td>\n",
       "      <td>7-5 6-3</td>\n",
       "      <td>3</td>\n",
       "      <td>RR</td>\n",
       "      <td>88.0</td>\n",
       "      <td>6.0</td>\n",
       "      <td>6.0</td>\n",
       "      <td>58.0</td>\n",
       "      <td>28.0</td>\n",
       "      <td>21.0</td>\n",
       "      <td>13.0</td>\n",
       "      <td>11.0</td>\n",
       "      <td>3.0</td>\n",
       "      <td>7.0</td>\n",
       "      <td>5.0</td>\n",
       "      <td>8.0</td>\n",
       "      <td>76.0</td>\n",
       "      <td>43.0</td>\n",
       "      <td>24.0</td>\n",
       "      <td>13.0</td>\n",
       "      <td>10.0</td>\n",
       "      <td>5.0</td>\n",
       "      <td>11.0</td>\n",
       "      <td>1136.0</td>\n",
       "      <td>8.0</td>\n",
       "      <td>1546.0</td>\n",
       "      <td>2.0</td>\n",
       "    </tr>\n",
       "    <tr>\n",
       "      <th>2724</th>\n",
       "      <td>2021-M-DC-2021-WG2-M-TUR-LAT-01</td>\n",
       "      <td>Davis Cup WG2 R1: TUR vs LAT</td>\n",
       "      <td>Hard</td>\n",
       "      <td>4</td>\n",
       "      <td>D</td>\n",
       "      <td>20210918</td>\n",
       "      <td>1</td>\n",
       "      <td>123795</td>\n",
       "      <td>NaN</td>\n",
       "      <td>NaN</td>\n",
       "      <td>Altug Celikbilek</td>\n",
       "      <td>U</td>\n",
       "      <td>NaN</td>\n",
       "      <td>TUR</td>\n",
       "      <td>25.015743</td>\n",
       "      <td>207669</td>\n",
       "      <td>NaN</td>\n",
       "      <td>NaN</td>\n",
       "      <td>Robert Strombachs</td>\n",
       "      <td>U</td>\n",
       "      <td>NaN</td>\n",
       "      <td>GER</td>\n",
       "      <td>21.995893</td>\n",
       "      <td>7-6(4) 6-4</td>\n",
       "      <td>3</td>\n",
       "      <td>RR</td>\n",
       "      <td>124.0</td>\n",
       "      <td>6.0</td>\n",
       "      <td>8.0</td>\n",
       "      <td>80.0</td>\n",
       "      <td>34.0</td>\n",
       "      <td>25.0</td>\n",
       "      <td>23.0</td>\n",
       "      <td>11.0</td>\n",
       "      <td>6.0</td>\n",
       "      <td>8.0</td>\n",
       "      <td>3.0</td>\n",
       "      <td>5.0</td>\n",
       "      <td>97.0</td>\n",
       "      <td>50.0</td>\n",
       "      <td>34.0</td>\n",
       "      <td>20.0</td>\n",
       "      <td>11.0</td>\n",
       "      <td>6.0</td>\n",
       "      <td>9.0</td>\n",
       "      <td>170.0</td>\n",
       "      <td>427.0</td>\n",
       "      <td>671.0</td>\n",
       "      <td>38.0</td>\n",
       "    </tr>\n",
       "    <tr>\n",
       "      <th>2725</th>\n",
       "      <td>2021-M-DC-2021-WG2-M-TUR-LAT-01</td>\n",
       "      <td>Davis Cup WG2 R1: TUR vs LAT</td>\n",
       "      <td>Hard</td>\n",
       "      <td>4</td>\n",
       "      <td>D</td>\n",
       "      <td>20210918</td>\n",
       "      <td>2</td>\n",
       "      <td>117356</td>\n",
       "      <td>NaN</td>\n",
       "      <td>NaN</td>\n",
       "      <td>Cem Ilkel</td>\n",
       "      <td>R</td>\n",
       "      <td>185.0</td>\n",
       "      <td>TUR</td>\n",
       "      <td>26.064339</td>\n",
       "      <td>105208</td>\n",
       "      <td>NaN</td>\n",
       "      <td>NaN</td>\n",
       "      <td>Ernests Gulbis</td>\n",
       "      <td>R</td>\n",
       "      <td>190.0</td>\n",
       "      <td>LAT</td>\n",
       "      <td>33.037645</td>\n",
       "      <td>6-4 6-1</td>\n",
       "      <td>3</td>\n",
       "      <td>RR</td>\n",
       "      <td>65.0</td>\n",
       "      <td>2.0</td>\n",
       "      <td>2.0</td>\n",
       "      <td>41.0</td>\n",
       "      <td>27.0</td>\n",
       "      <td>23.0</td>\n",
       "      <td>7.0</td>\n",
       "      <td>9.0</td>\n",
       "      <td>0.0</td>\n",
       "      <td>1.0</td>\n",
       "      <td>1.0</td>\n",
       "      <td>5.0</td>\n",
       "      <td>45.0</td>\n",
       "      <td>21.0</td>\n",
       "      <td>16.0</td>\n",
       "      <td>7.0</td>\n",
       "      <td>8.0</td>\n",
       "      <td>2.0</td>\n",
       "      <td>7.0</td>\n",
       "      <td>176.0</td>\n",
       "      <td>408.0</td>\n",
       "      <td>196.0</td>\n",
       "      <td>359.0</td>\n",
       "    </tr>\n",
       "    <tr>\n",
       "      <th>2726</th>\n",
       "      <td>2021-M-DC-2021-WG2-M-TUR-LAT-01</td>\n",
       "      <td>Davis Cup WG2 R1: TUR vs LAT</td>\n",
       "      <td>Hard</td>\n",
       "      <td>4</td>\n",
       "      <td>D</td>\n",
       "      <td>20210918</td>\n",
       "      <td>4</td>\n",
       "      <td>144985</td>\n",
       "      <td>NaN</td>\n",
       "      <td>NaN</td>\n",
       "      <td>Ergi Kirkin</td>\n",
       "      <td>R</td>\n",
       "      <td>NaN</td>\n",
       "      <td>TUR</td>\n",
       "      <td>22.628337</td>\n",
       "      <td>120270</td>\n",
       "      <td>NaN</td>\n",
       "      <td>NaN</td>\n",
       "      <td>Edgars Manusis</td>\n",
       "      <td>U</td>\n",
       "      <td>NaN</td>\n",
       "      <td>LAT</td>\n",
       "      <td>34.557153</td>\n",
       "      <td>6-1 6-2</td>\n",
       "      <td>3</td>\n",
       "      <td>RR</td>\n",
       "      <td>48.0</td>\n",
       "      <td>4.0</td>\n",
       "      <td>4.0</td>\n",
       "      <td>44.0</td>\n",
       "      <td>20.0</td>\n",
       "      <td>18.0</td>\n",
       "      <td>15.0</td>\n",
       "      <td>8.0</td>\n",
       "      <td>1.0</td>\n",
       "      <td>1.0</td>\n",
       "      <td>0.0</td>\n",
       "      <td>1.0</td>\n",
       "      <td>49.0</td>\n",
       "      <td>34.0</td>\n",
       "      <td>17.0</td>\n",
       "      <td>7.0</td>\n",
       "      <td>7.0</td>\n",
       "      <td>3.0</td>\n",
       "      <td>7.0</td>\n",
       "      <td>311.0</td>\n",
       "      <td>166.0</td>\n",
       "      <td>NaN</td>\n",
       "      <td>NaN</td>\n",
       "    </tr>\n",
       "  </tbody>\n",
       "</table>\n",
       "<p>65894 rows × 49 columns</p>\n",
       "</div>"
      ],
      "text/plain": [
       "                           tourney_id                  tourney_name surface  \\\n",
       "0                            2000-301                      Auckland    Hard   \n",
       "1                            2000-301                      Auckland    Hard   \n",
       "2                            2000-301                      Auckland    Hard   \n",
       "3                            2000-301                      Auckland    Hard   \n",
       "4                            2000-301                      Auckland    Hard   \n",
       "...                               ...                           ...     ...   \n",
       "2722  2021-M-DC-2021-WG2-M-THA-DEN-01  Davis Cup WG2 R1: THA vs DEN    Hard   \n",
       "2723  2021-M-DC-2021-WG2-M-THA-DEN-01  Davis Cup WG2 R1: THA vs DEN    Hard   \n",
       "2724  2021-M-DC-2021-WG2-M-TUR-LAT-01  Davis Cup WG2 R1: TUR vs LAT    Hard   \n",
       "2725  2021-M-DC-2021-WG2-M-TUR-LAT-01  Davis Cup WG2 R1: TUR vs LAT    Hard   \n",
       "2726  2021-M-DC-2021-WG2-M-TUR-LAT-01  Davis Cup WG2 R1: TUR vs LAT    Hard   \n",
       "\n",
       "      draw_size tourney_level  tourney_date  match_num  winner_id  \\\n",
       "0            32             A      20000110          1     103163   \n",
       "1            32             A      20000110          2     102607   \n",
       "2            32             A      20000110          3     103252   \n",
       "3            32             A      20000110          4     103507   \n",
       "4            32             A      20000110          5     102103   \n",
       "...         ...           ...           ...        ...        ...   \n",
       "2722          4             D      20210917          4     200416   \n",
       "2723          4             D      20210917          5     208937   \n",
       "2724          4             D      20210918          1     123795   \n",
       "2725          4             D      20210918          2     117356   \n",
       "2726          4             D      20210918          4     144985   \n",
       "\n",
       "      winner_seed winner_entry          winner_name winner_hand  winner_ht  \\\n",
       "0             1.0          NaN           Tommy Haas           R      188.0   \n",
       "1             NaN            Q        Juan Balcells           R      190.0   \n",
       "2             NaN          NaN       Alberto Martin           R      175.0   \n",
       "3             7.0          NaN  Juan Carlos Ferrero           R      183.0   \n",
       "4             NaN            Q         Michael Sell           R      180.0   \n",
       "...           ...          ...                  ...         ...        ...   \n",
       "2722          NaN          NaN      August Holmgren           R        NaN   \n",
       "2723          NaN          NaN       Kasidit Samrej           R        NaN   \n",
       "2724          NaN          NaN     Altug Celikbilek           U        NaN   \n",
       "2725          NaN          NaN            Cem Ilkel           R      185.0   \n",
       "2726          NaN          NaN          Ergi Kirkin           R        NaN   \n",
       "\n",
       "     winner_ioc  winner_age  loser_id  loser_seed loser_entry  \\\n",
       "0           GER   21.771389    101543         NaN         NaN   \n",
       "1           ESP   24.558522    102644         NaN         NaN   \n",
       "2           ESP   21.390828    102238         NaN         NaN   \n",
       "3           ESP   19.909651    103819         NaN         NaN   \n",
       "4           USA   27.381246    102765         4.0         NaN   \n",
       "...         ...         ...       ...         ...         ...   \n",
       "2722        DEN   23.394935    106397         NaN         NaN   \n",
       "2723        THA   20.629706    134087         NaN         NaN   \n",
       "2724        TUR   25.015743    207669         NaN         NaN   \n",
       "2725        TUR   26.064339    105208         NaN         NaN   \n",
       "2726        TUR   22.628337    120270         NaN         NaN   \n",
       "\n",
       "                       loser_name loser_hand  loser_ht loser_ioc  loser_age  \\\n",
       "0                    Jeff Tarango          L     180.0       USA  31.137577   \n",
       "1                Franco Squillari          L     183.0       ARG  24.386037   \n",
       "2             Alberto Berasategui          R     173.0       ESP  26.535250   \n",
       "3                   Roger Federer          R     185.0       SUI  18.422998   \n",
       "4                  Nicolas Escude          R     185.0       FRA  23.770021   \n",
       "...                           ...        ...       ...       ...        ...   \n",
       "2722  Wishaya Trongcharoenchaikul          R       NaN       THA  26.433949   \n",
       "2723           Johannes Ingildsen          R       NaN       DEN  24.202601   \n",
       "2724            Robert Strombachs          U       NaN       GER  21.995893   \n",
       "2725               Ernests Gulbis          R     190.0       LAT  33.037645   \n",
       "2726               Edgars Manusis          U       NaN       LAT  34.557153   \n",
       "\n",
       "               score  best_of round  minutes  w_ace  w_df  w_svpt  w_1stIn  \\\n",
       "0        7-5 4-6 7-5        3   R32    108.0   18.0   4.0    96.0     49.0   \n",
       "1            7-5 7-5        3   R32     85.0    5.0   3.0    76.0     52.0   \n",
       "2            6-3 6-1        3   R32     56.0    0.0   0.0    55.0     35.0   \n",
       "3            6-4 6-4        3   R32     68.0    5.0   1.0    53.0     28.0   \n",
       "4     0-6 7-6(7) 6-1        3   R32    115.0    1.0   2.0    98.0     66.0   \n",
       "...              ...      ...   ...      ...    ...   ...     ...      ...   \n",
       "2722         6-4 6-4        3    RR     90.0    3.0   3.0    52.0     29.0   \n",
       "2723         7-5 6-3        3    RR     88.0    6.0   6.0    58.0     28.0   \n",
       "2724      7-6(4) 6-4        3    RR    124.0    6.0   8.0    80.0     34.0   \n",
       "2725         6-4 6-1        3    RR     65.0    2.0   2.0    41.0     27.0   \n",
       "2726         6-1 6-2        3    RR     48.0    4.0   4.0    44.0     20.0   \n",
       "\n",
       "      w_1stWon  w_2ndWon  w_SvGms  w_bpSaved  w_bpFaced  l_ace  l_df  l_svpt  \\\n",
       "0         39.0      28.0     17.0        3.0        5.0    7.0   8.0   106.0   \n",
       "1         39.0      13.0     12.0        5.0        6.0    5.0  10.0    74.0   \n",
       "2         25.0      12.0      8.0        1.0        1.0    0.0   6.0    56.0   \n",
       "3         26.0      15.0     10.0        0.0        0.0   11.0   2.0    70.0   \n",
       "4         39.0      14.0     13.0        6.0       11.0    8.0   8.0    92.0   \n",
       "...        ...       ...      ...        ...        ...    ...   ...     ...   \n",
       "2722      22.0      16.0     10.0        0.0        1.0    8.0   2.0    79.0   \n",
       "2723      21.0      13.0     11.0        3.0        7.0    5.0   8.0    76.0   \n",
       "2724      25.0      23.0     11.0        6.0        8.0    3.0   5.0    97.0   \n",
       "2725      23.0       7.0      9.0        0.0        1.0    1.0   5.0    45.0   \n",
       "2726      18.0      15.0      8.0        1.0        1.0    0.0   1.0    49.0   \n",
       "\n",
       "      l_1stIn  l_1stWon  l_2ndWon  l_SvGms  l_bpSaved  l_bpFaced  winner_rank  \\\n",
       "0        55.0      39.0      29.0     17.0        4.0        7.0         11.0   \n",
       "1        32.0      25.0      18.0     12.0        3.0        6.0        211.0   \n",
       "2        33.0      20.0       7.0      8.0        7.0       11.0         48.0   \n",
       "3        43.0      29.0      14.0     10.0        6.0        8.0         45.0   \n",
       "4        46.0      34.0      18.0     12.0        5.0        9.0        167.0   \n",
       "...       ...       ...       ...      ...        ...        ...          ...   \n",
       "2722     45.0      30.0      14.0     10.0       10.0       13.0        905.0   \n",
       "2723     43.0      24.0      13.0     10.0        5.0       11.0       1136.0   \n",
       "2724     50.0      34.0      20.0     11.0        6.0        9.0        170.0   \n",
       "2725     21.0      16.0       7.0      8.0        2.0        7.0        176.0   \n",
       "2726     34.0      17.0       7.0      7.0        3.0        7.0        311.0   \n",
       "\n",
       "      winner_rank_points  loser_rank  loser_rank_points  \n",
       "0                 1612.0        63.0              595.0  \n",
       "1                  157.0        49.0              723.0  \n",
       "2                  726.0        59.0              649.0  \n",
       "3                  768.0        61.0              616.0  \n",
       "4                  219.0        34.0              873.0  \n",
       "...                  ...         ...                ...  \n",
       "2722                16.0       767.0               27.0  \n",
       "2723                 8.0      1546.0                2.0  \n",
       "2724               427.0       671.0               38.0  \n",
       "2725               408.0       196.0              359.0  \n",
       "2726               166.0         NaN                NaN  \n",
       "\n",
       "[65894 rows x 49 columns]"
      ]
     },
     "execution_count": 222,
     "metadata": {},
     "output_type": "execute_result"
    }
   ],
   "source": [
    "atp = pd.DataFrame()\n",
    "\n",
    "years_index_20_22 = range(0,22)\n",
    "\n",
    "for index in years_index_20_22:\n",
    "    index_str = str(index)\n",
    "\n",
    "    if len(index_str) == 1:\n",
    "        index_str = '0' + index_str\n",
    "\n",
    "    FILE_NAME = \"atp_matches_20{}.csv\".format(index_str)\n",
    "\n",
    "    data_frame_iter = pd.read_csv(DATA_PATH + FILE_NAME)\n",
    "    atp = pd.concat([atp, data_frame_iter])\n",
    "\n",
    "pd.set_option('display.max_columns', None)\n",
    "df_classification = atp\n",
    "atp"
   ]
  },
  {
   "cell_type": "markdown",
   "id": "2d09cd94-01dc-4560-8e1d-26ea23529f5e",
   "metadata": {},
   "source": [
    "El objetivo de la sección de clasificación es averiguar el tipo de pista en la que se ha jugado el partido en función de una serie de variables, esto puede cobrar sentido ya que dependiendo de la superficie de la pista la velocidad con la que rebota la pelota es distinta, y por lo tanto puede influir en las variables del juego.\n",
    "\n",
    "A continuación analizaremos los campos de importancia que se utilizarán en este proyecto de cara a los experimentos:\n",
    "\n",
    "\n",
    "- `surface`: tipo de superficie de la pista en la que se ha jugado el partido, exiten cuatro tipos de pista:\n",
    "    - **Clay**: Tierra batida.\n",
    "    - **Hard**: Pista dura.\n",
    "    - **Carpet**: Moqueta.\n",
    "    - **Grass**: Césped.\n",
    "- `minutes`: número de minutos transcurridos en el partido.\n",
    "- `winner_ht, loser_ht`: altura del jugador ganador y del perdedor respectivamente.\n",
    "- `w_ace, l_ace`: número de aces (saques directos) del ganador y del perdedor respectivamente.\n",
    "- `w_svpt, l_svpt`: número de saques (service points) del ganador y del perdedor respectivamente.\n",
    "- `w_1stWon, l_1stWon`: número de puntos ganados con primer saque (1st service) del ganador y del perdedor respectivamente.\n",
    "- `w_2ndWon, l_2ndWon`: número de puntos ganados con segundo saque (2nd service) del ganador y del perdedor respectivamente.\n",
    "- `w_bpSaved, l_bpSaved`: número puntos de rotura de servicio (break points) que ha neutralizado el ganador y el perdedor respectivamente.\n",
    "- `w_bpFaced, l_bpFaced`: número puntos de rotura de servicio (break points) que han surfido el ganador y el perdedor respectivamente.\n",
    "- `w_SvGms, l_SvGms`: número de juegos ganados con servicio propio del ganador y perdedor respectivamente.\n",
    "- `winner_rank_points, loser_rank_points`: número de puntos en el ranking de la ATP del ganador y el perdedor.\n",
    "- `round`: ronda en la que se ha jugado el partido dentro del torneo.\n",
    "\n"
   ]
  },
  {
   "cell_type": "markdown",
   "id": "5a1e059f-7710-481f-b3bc-e0786dce1505",
   "metadata": {},
   "source": [
    "# Clean Dataset"
   ]
  },
  {
   "cell_type": "markdown",
   "id": "90e557cf-a298-41b6-892e-f1c0c2f6e6ac",
   "metadata": {},
   "source": [
    "Eliminaremos aquellas filas donde el toreno no sigue la estructura habitual de la mayoría de competiciones, como son los torneos Round Robin (RR,ER,BR)."
   ]
  },
  {
   "cell_type": "code",
   "execution_count": 224,
   "id": "787be14a-f292-42b0-bfac-6893d0ba5c65",
   "metadata": {},
   "outputs": [],
   "source": [
    "df_classification = df_classification.loc[:, df_classification.columns.isin(COLUMNS_TO_GET)]\n",
    "\n",
    "df_classification = df_classification[df_classification['round'] != 'RR']\n",
    "df_classification = df_classification[df_classification['round'] != 'ER']\n",
    "df_classification = df_classification[df_classification['round'] != 'BR']\n",
    "\n",
    "df_classification = df_classification.dropna()"
   ]
  },
  {
   "cell_type": "markdown",
   "id": "74e69a63-02a8-4a72-bcf4-845b398dca26",
   "metadata": {},
   "source": [
    "A continuación trataremos el campo `round` y lo transformaermos a numérico para que el árbol de decisión pueda tomar elecciones en función de la ronda del torneo a la que pertenece cada partido."
   ]
  },
  {
   "cell_type": "code",
   "execution_count": 225,
   "id": "cf04bf40-23c2-41b2-bda1-d9da0719c30c",
   "metadata": {},
   "outputs": [],
   "source": [
    "round_replace = {'R128': 128,\n",
    "                  'R64': 64,\n",
    "                  'R32': 32,\n",
    "                  'R16': 16,\n",
    "                  'QF': 4,\n",
    "                  'SF': 2,\n",
    "                  'F': 1\n",
    "}\n",
    "\n",
    "# Eliminamos las Round Robin (RR y ER)\n",
    "df_classification['round'].replace(round_replace, inplace = True)"
   ]
  },
  {
   "cell_type": "markdown",
   "id": "1027f222-c3aa-4596-81d4-1d1257aa5c95",
   "metadata": {},
   "source": [
    "# Split Data"
   ]
  },
  {
   "cell_type": "markdown",
   "id": "ba8252b2-46fc-4cb6-8f1f-fb981f42ed67",
   "metadata": {},
   "source": [
    "Dividiremos los datos del dataframe en conjunto de entrenamiento y conjunto de test."
   ]
  },
  {
   "cell_type": "code",
   "execution_count": 226,
   "id": "67a47723-6283-48d2-ace1-baeac7a66813",
   "metadata": {},
   "outputs": [],
   "source": [
    "from sklearn.model_selection import train_test_split\n",
    "\n",
    "df_classification_train, df_classification_test = train_test_split(df_classification, test_size = 0.3, random_state = random_state)\n",
    "\n",
    "y_train = df_classification_train[\"surface\"]\n",
    "X_train = df_classification_train.drop(columns = [\"surface\"])\n",
    "\n",
    "y_test = df_classification_test[\"surface\"]\n",
    "X_test = df_classification_test.drop(columns = [\"surface\"])"
   ]
  },
  {
   "cell_type": "markdown",
   "id": "716159df-9f5b-4a9c-916d-aa43b35e3cc4",
   "metadata": {},
   "source": [
    "# Sesgos"
   ]
  },
  {
   "cell_type": "markdown",
   "id": "d6468a08-c650-4a27-9ca0-022e1f355fbf",
   "metadata": {},
   "source": [
    "En el dataset podemos observar que existe un sesgo en función del tipo de pista. Gran parte de los partidos se juegan en pista dura, que es menos costosa de mantener que las pistas de hierba y de moqueta. Este desbalanceo de datos podría afectar notablemente a las predicciones del modelo ya que aprendería más de aquellas muestras más numerosas en el conjunto de datos que del resto de ellas. Por lo tanto tendría una tendencia a predecir la superficie de la pista como dura, reduciendo la efectividad de las clases menos numerosas en el dataset."
   ]
  },
  {
   "cell_type": "code",
   "execution_count": 227,
   "id": "0b34989b-e036-40a6-91aa-fd64ec0985eb",
   "metadata": {},
   "outputs": [
    {
     "data": {
      "text/plain": [
       "Hard      20338\n",
       "Clay      12237\n",
       "Grass      4067\n",
       "Carpet      976\n",
       "Name: surface, dtype: int64"
      ]
     },
     "execution_count": 227,
     "metadata": {},
     "output_type": "execute_result"
    }
   ],
   "source": [
    "y_train.value_counts()"
   ]
  },
  {
   "cell_type": "markdown",
   "id": "3925af35-1e2f-4a05-80a2-59dfd6d696e6",
   "metadata": {},
   "source": [
    "Debido a este problema, aplicaremos distintas técnicas de Resampling sobre el conjunto de entrenamiento. Estas técnicas permiten operar sobre el conjunto de datos para balancearlo, con el objetivo de que el modelo no se vea muy afectado debido a la diferencia de las clases mayoritarias respecto a las minoritarias.\n",
    "\n",
    "Aplicaremos distintas metodologías de Resampling:\n",
    "- **Undersampling**\n",
    "- **Upsampling**\n",
    "- **Generación de datos sintéticos**\n",
    "- **Generación de datos sintéticos aplicando Undersampling**\n",
    "\n",
    "[Metodologías de Resampling](https://towardsdatascience.com/5-techniques-to-work-with-imbalanced-data-in-machine-learning-80836d45d30c)"
   ]
  },
  {
   "cell_type": "markdown",
   "id": "8726254e-2ad1-49c8-b4a9-98b810115983",
   "metadata": {},
   "source": [
    "## Undersampling Data"
   ]
  },
  {
   "cell_type": "markdown",
   "id": "306922c1-b6c6-492a-b94c-33124f1fc249",
   "metadata": {},
   "source": [
    "El objetivo es eliminar muestras del conjunto de datos para crear un dataset con el mismo número de muestras de cada clase, esto lo conseguimos especificando la estrategia de `not minority` en nuestro [RandomUnderSampler](https://imbalanced-learn.org/stable/references/generated/imblearn.under_sampling.RandomUnderSampler.html)."
   ]
  },
  {
   "cell_type": "code",
   "execution_count": 228,
   "id": "947add02-7c6f-4f02-ac43-938b88730cd8",
   "metadata": {},
   "outputs": [],
   "source": [
    "from imblearn.under_sampling import RandomUnderSampler\n",
    "\n",
    "rus = RandomUnderSampler(sampling_strategy = 'not minority',\n",
    "                         random_state = random_state)"
   ]
  },
  {
   "cell_type": "markdown",
   "id": "5284b83f-0238-46cc-9757-cf2e3ae0c3a1",
   "metadata": {},
   "source": [
    "Una vez realizado el downsampling podemos comprobar que el número de muestras de cada clase es la misma, por lo tanto podemos comenzar a entrenar los modelos evitando el problema de desbalanceo."
   ]
  },
  {
   "cell_type": "code",
   "execution_count": 229,
   "id": "cb114a7a-9aef-40c4-93c7-6b92864bfa55",
   "metadata": {},
   "outputs": [
    {
     "data": {
      "text/plain": [
       "Carpet    976\n",
       "Clay      976\n",
       "Grass     976\n",
       "Hard      976\n",
       "Name: surface, dtype: int64"
      ]
     },
     "execution_count": 229,
     "metadata": {},
     "output_type": "execute_result"
    }
   ],
   "source": [
    "X_testing_undersampler, y_testing_undersampler = rus.fit_resample(X_train, y_train)\n",
    "y_testing_undersampler.value_counts()"
   ]
  },
  {
   "cell_type": "markdown",
   "id": "44adc714-fe08-4487-a14e-2d5a4fe5b9b5",
   "metadata": {
    "tags": []
   },
   "source": [
    "## Upsampling Data"
   ]
  },
  {
   "cell_type": "markdown",
   "id": "ed74c190-edac-4013-8f0a-0c2a25658e52",
   "metadata": {},
   "source": [
    "Al contrario que en el caso anterior, con el método\n",
    "[RandomOverSampler](https://imbalanced-learn.org/stable/references/generated/imblearn.over_sampling.RandomOverSampler.html)\n",
    "construimos un nuevo dataset que estará formado por el muestreo de instancias de las clases que no sean la mayoritaria, de tal forma que resultará en un nuevo dataset con un número igual de muestras para cada clase, igualando a la mayoritaria. Esto se realiza mediante la estrategia `not majority`.\n",
    "\n"
   ]
  },
  {
   "cell_type": "code",
   "execution_count": 230,
   "id": "7fd762e5-ee32-40d5-a1a2-641ee9938251",
   "metadata": {},
   "outputs": [],
   "source": [
    "from imblearn.over_sampling import RandomOverSampler\n",
    "\n",
    "ros = RandomOverSampler(sampling_strategy = 'not majority',\n",
    "                        random_state = random_state)"
   ]
  },
  {
   "cell_type": "markdown",
   "id": "44ec0890-eeb7-4d17-9d13-8f3b04dc54c9",
   "metadata": {},
   "source": [
    "Hacemos un test del método y podemos comprobar que existen el mismo número de muestras para cada una de las clases, igualando el número de muestras mayoritario que existían en el dataset de entrenamiento original."
   ]
  },
  {
   "cell_type": "code",
   "execution_count": 231,
   "id": "3cdfd8d1-aa3f-4e78-a0e4-ae8970e0f6ed",
   "metadata": {},
   "outputs": [
    {
     "data": {
      "text/plain": [
       "Clay      20338\n",
       "Hard      20338\n",
       "Grass     20338\n",
       "Carpet    20338\n",
       "Name: surface, dtype: int64"
      ]
     },
     "execution_count": 231,
     "metadata": {},
     "output_type": "execute_result"
    }
   ],
   "source": [
    "X_testing_uppersampler, y_testing_uppersampler = ros.fit_resample(X_train, y_train)\n",
    "y_testing_uppersampler.value_counts()"
   ]
  },
  {
   "cell_type": "markdown",
   "id": "472d63fa-4ca6-4ccd-a281-e98cb5d5f1f4",
   "metadata": {
    "tags": []
   },
   "source": [
    "## Syntethic Data (Borderline SMOTE-2)"
   ]
  },
  {
   "cell_type": "markdown",
   "id": "284b44bd-5ad0-4308-95f1-fa1eacfe4276",
   "metadata": {},
   "source": [
    "Otro de los enfoques es la genereación de datos sintéticos de las clases minoritarias, difiere del upsampling en que se aplican variaciones a las muestras duplicadas de las clases minoritarias. Para lograr este comportamiento aplicaremos la técnica [Borderline SMOTE-2](https://imbalanced-learn.org/stable/references/generated/imblearn.over_sampling.SMOTE.html) de la librería Imbalanced Learn, configurando el tipo SMOTE a `borderline-2`."
   ]
  },
  {
   "cell_type": "code",
   "execution_count": 232,
   "id": "f492c881-58c0-4295-8366-5934862eea03",
   "metadata": {},
   "outputs": [],
   "source": [
    "from imblearn.over_sampling import BorderlineSMOTE\n",
    "\n",
    "smote2 = BorderlineSMOTE(kind = 'borderline-2',\n",
    "                         random_state = random_state)"
   ]
  },
  {
   "cell_type": "markdown",
   "id": "b1b5e2a8-b0a7-4bf8-a7f2-58aa52829808",
   "metadata": {},
   "source": [
    "Hacemos un testing para comprobar que los datos sintéticos generados igualan el número de clases de las muestras mayoritarias."
   ]
  },
  {
   "cell_type": "code",
   "execution_count": 233,
   "id": "7b71b2f1-0a67-405a-babe-b59ed62aa23b",
   "metadata": {},
   "outputs": [
    {
     "data": {
      "text/plain": [
       "Clay      20338\n",
       "Hard      20338\n",
       "Carpet    20338\n",
       "Grass     20337\n",
       "Name: surface, dtype: int64"
      ]
     },
     "execution_count": 233,
     "metadata": {},
     "output_type": "execute_result"
    }
   ],
   "source": [
    "X_testing_smote2, y_testing_smote2 = smote2.fit_resample(X_train, y_train)\n",
    "y_testing_smote2.value_counts()"
   ]
  },
  {
   "cell_type": "markdown",
   "id": "e4a008f4-8ff0-45f6-8bf1-5e8319d55650",
   "metadata": {},
   "source": [
    "## Syntethic Data - Undersampling (SMOTEENN)"
   ]
  },
  {
   "cell_type": "markdown",
   "id": "acdf9b6c-b610-4e1d-ae8f-59c252612050",
   "metadata": {},
   "source": [
    "El método\n",
    "[SMOTEEN](https://imbalanced-learn.org/stable/references/generated/imblearn.combine.SMOTEENN.html)\n",
    "combina dos técnicas vistas anterioremente, la generación de datos sintéticos mediante SMOTE y aplicando técnicas de undersampling. En este caso probaremos a generar datos sintéticos de las clases minoritarias para invertir el número de muestras de cada clase, es decir, igualaremos la clase minoritaria, generando datos sintéticos, a la clase mayoritaria y ésta será reducida a un número de muestras aproximado a la clase minoritaria original. Esto se hace para cada clase que esté presente en el dataset."
   ]
  },
  {
   "cell_type": "code",
   "execution_count": 234,
   "id": "028be494-235f-40a0-90dc-f87f506a921b",
   "metadata": {},
   "outputs": [],
   "source": [
    "from imblearn.combine import SMOTEENN \n",
    "\n",
    "smoteenn = SMOTEENN(random_state = random_state)"
   ]
  },
  {
   "cell_type": "markdown",
   "id": "cda5e90d-fcf8-4ca0-87d1-1727a80d4570",
   "metadata": {},
   "source": [
    "Testamos los datos que se han generado y comprobamos que el número de las distintas clases se ha invertido respecto al dataset de entrenamiento original."
   ]
  },
  {
   "cell_type": "code",
   "execution_count": null,
   "id": "b0782c15-ca94-40ce-9923-226095aea89d",
   "metadata": {},
   "outputs": [],
   "source": [
    "X_testing_smoteenn, y_testing_smoteenn = smoteenn.fit_resample(X_train, y_train)\n",
    "y_testing_smoteenn.value_counts()"
   ]
  },
  {
   "cell_type": "markdown",
   "id": "30cfefa0-6b6d-492a-9e7f-c52dd60b13c8",
   "metadata": {},
   "source": [
    "# Decision Tree with CV"
   ]
  },
  {
   "cell_type": "markdown",
   "id": "f91e6a0e-b75a-4477-993e-19b5169bb6c8",
   "metadata": {},
   "source": [
    "A continuación definiremos un método para encontrar la profundidad óptima del árbol de decisión (con rangos de profundidad desde 2 hasta 15) en función de las distintas técnicas de resampling definidas anteriormente aplicando la técnica cross-validation.\n",
    "\n",
    "Para ello, en cada iteración de cross-validation, aplicaremos cada uno de los métodos de Resampling distintos sobre la división realizada en el conjunto de entrenamiento original.\n",
    "\n",
    "Seguiremos los siguientes pasos:\n",
    "\n",
    "1. Para cada profundidad del rango de profundidades (2-15) realizaremos un cross-validation sobre el conjunto de entrenamiento original.\n",
    "2. Cross-validation divide el conjunto de entrenamiento en un **subconjunto de entrenamiento** y un **subconjunto de validación** para cada una de las iteraciones (definidas a 5).\n",
    "3. Para cada una de los splits del cross-validation se aplica cada uno de los métodos de Resampling sobre el **subconjunto de entrenamiento** de dicho split.\n",
    "4. Se entrena un Árbol de Decisión de Clasificación con los datos provenientes del Resampling correspondiente, definiendo la profundidad del árbol actual de la iteración.\n",
    "5. Posteriormente se valida sobre el **subconjunto de validación** que ha generado el cross-validation en el split actual.\n",
    "6. Se almacenan los mejores modelos hasta el momento de cada una de las técnicas de Resampling.\n",
    "\n",
    "Además, se almacena en un diccionario información útil que utilizaremos para analizar la evolución de cada árbol en apartados posteriores.\n",
    "\n",
    "[Cross-Validation Upsampling Data](https://kiwidamien.github.io/how-to-do-cross-validation-when-upsampling-data.html)"
   ]
  },
  {
   "cell_type": "markdown",
   "id": "9a64abdd-e8a0-47e8-ac8c-fc472b488bb9",
   "metadata": {},
   "source": [
    "## Resampling function"
   ]
  },
  {
   "cell_type": "code",
   "execution_count": 16,
   "id": "565df997-fb5f-44b9-ae5b-0e349d9b8f0c",
   "metadata": {},
   "outputs": [],
   "source": [
    "def do_resampling(resampling_method, X_data, y_data):\n",
    "\n",
    "    if (resampling_method == 'None'):\n",
    "        return X_data, y_data\n",
    "\n",
    "    if (resampling_method == 'RandomUnderSampler'):\n",
    "        return rus.fit_resample(X_data, y_data)\n",
    "\n",
    "    if (resampling_method == 'RandomOverSampler'):\n",
    "        return ros.fit_resample(X_data, y_data)\n",
    "\n",
    "    if (resampling_method == 'SMOTE2'):\n",
    "        return smote2.fit_resample(X_data, y_data)\n",
    "\n",
    "    if (resampling_method == 'SMOTEENN'):\n",
    "        return smoteenn.fit_resample(X_data, y_data)\n",
    "    "
   ]
  },
  {
   "cell_type": "markdown",
   "id": "523f146f-061a-49d1-ad6d-8d2e7c631f1e",
   "metadata": {},
   "source": [
    "## Dictionary definition"
   ]
  },
  {
   "cell_type": "code",
   "execution_count": 144,
   "id": "60f15e06-ff86-4cc1-8c2f-aa3c5d879766",
   "metadata": {},
   "outputs": [],
   "source": [
    "resampling_methods = {'None': {},\n",
    "                      'RandomUnderSampler': {},\n",
    "                      'RandomOverSampler': {},\n",
    "                      'SMOTE2': {},\n",
    "                      'SMOTEENN': {}\n",
    "                     }\n",
    "\n",
    "for resampling_method_name in resampling_methods:\n",
    "    resampling_method = resampling_methods[resampling_method_name]\n",
    "\n",
    "    resampling_method['accuracies_history'] = []\n",
    "    resampling_method['best_mean_accuracy'] = 0\n",
    "    resampling_method['best_depth'] = 0\n",
    "    resampling_method['model'] = ''\n",
    "    resampling_method['best_model'] = ''"
   ]
  },
  {
   "cell_type": "markdown",
   "id": "421f2bc5-5ef8-4b81-9d32-3196546f1f80",
   "metadata": {},
   "source": [
    "## Training Models"
   ]
  },
  {
   "cell_type": "code",
   "execution_count": 145,
   "id": "9dc00ee1-d8f4-4c08-ad28-dd055c309929",
   "metadata": {},
   "outputs": [
    {
     "name": "stdout",
     "output_type": "stream",
     "text": [
      "Depth: 2\n",
      "Resampling: None, mean accuracy: 0.5790313674252052\n",
      "Best mean score for None is: 0.5790313674252052, best depth: 2\n",
      "Resampling: RandomUnderSampler, mean accuracy: 0.2849702450673508\n",
      "Best mean score for RandomUnderSampler is: 0.2849702450673508, best depth: 2\n",
      "Resampling: RandomOverSampler, mean accuracy: 0.2695785555874266\n",
      "Best mean score for RandomOverSampler is: 0.2695785555874266, best depth: 2\n",
      "Resampling: SMOTE2, mean accuracy: 0.2591312850056212\n",
      "Best mean score for SMOTE2 is: 0.2591312850056212, best depth: 2\n",
      "Resampling: SMOTEENN, mean accuracy: 0.21125549908510233\n",
      "Best mean score for SMOTEENN is: 0.21125549908510233, best depth: 2\n",
      "\n",
      "\n",
      "Depth: 3\n",
      "Resampling: None, mean accuracy: 0.5823543472532188\n",
      "Best mean score for None is: 0.5823543472532188, best depth: 3\n",
      "Resampling: RandomUnderSampler, mean accuracy: 0.304747030248475\n",
      "Best mean score for RandomUnderSampler is: 0.304747030248475, best depth: 3\n",
      "Resampling: RandomOverSampler, mean accuracy: 0.30081364517234865\n",
      "Best mean score for RandomOverSampler is: 0.30081364517234865, best depth: 3\n",
      "Resampling: SMOTE2, mean accuracy: 0.3431868161455322\n",
      "Best mean score for SMOTE2 is: 0.3431868161455322, best depth: 3\n",
      "Resampling: SMOTEENN, mean accuracy: 0.1956241476166338\n",
      "Best mean score for SMOTEENN is: 0.21125549908510233, best depth: 2\n",
      "\n",
      "\n",
      "Depth: 4\n",
      "Resampling: None, mean accuracy: 0.586660673350264\n",
      "Best mean score for None is: 0.586660673350264, best depth: 4\n",
      "Resampling: RandomUnderSampler, mean accuracy: 0.2984211275392005\n",
      "Best mean score for RandomUnderSampler is: 0.304747030248475, best depth: 3\n",
      "Resampling: RandomOverSampler, mean accuracy: 0.2934493355587964\n",
      "Best mean score for RandomOverSampler is: 0.30081364517234865, best depth: 3\n",
      "Resampling: SMOTE2, mean accuracy: 0.3721088643771364\n",
      "Best mean score for SMOTE2 is: 0.3721088643771364, best depth: 4\n",
      "Resampling: SMOTEENN, mean accuracy: 0.21380664067372196\n",
      "Best mean score for SMOTEENN is: 0.21380664067372196, best depth: 4\n",
      "\n",
      "\n",
      "Depth: 5\n",
      "Resampling: None, mean accuracy: 0.5934659601040594\n",
      "Best mean score for None is: 0.5934659601040594, best depth: 5\n",
      "Resampling: RandomUnderSampler, mean accuracy: 0.3289131441180945\n",
      "Best mean score for RandomUnderSampler is: 0.3289131441180945, best depth: 5\n",
      "Resampling: RandomOverSampler, mean accuracy: 0.32585533373712783\n",
      "Best mean score for RandomOverSampler is: 0.32585533373712783, best depth: 5\n",
      "Resampling: SMOTE2, mean accuracy: 0.4006586464630918\n",
      "Best mean score for SMOTE2 is: 0.4006586464630918, best depth: 5\n",
      "Resampling: SMOTEENN, mean accuracy: 0.22794958476797328\n",
      "Best mean score for SMOTEENN is: 0.22794958476797328, best depth: 5\n",
      "\n",
      "\n",
      "Depth: 6\n",
      "Resampling: None, mean accuracy: 0.5958848897405744\n",
      "Best mean score for None is: 0.5958848897405744, best depth: 6\n",
      "Resampling: RandomUnderSampler, mean accuracy: 0.3335636884032331\n",
      "Best mean score for RandomUnderSampler is: 0.3335636884032331, best depth: 6\n",
      "Resampling: RandomOverSampler, mean accuracy: 0.3073267144676227\n",
      "Best mean score for RandomOverSampler is: 0.32585533373712783, best depth: 5\n",
      "Resampling: SMOTE2, mean accuracy: 0.43878020923677397\n",
      "Best mean score for SMOTE2 is: 0.43878020923677397, best depth: 6\n",
      "Resampling: SMOTEENN, mean accuracy: 0.23167076573892165\n",
      "Best mean score for SMOTEENN is: 0.23167076573892165, best depth: 6\n",
      "\n",
      "\n",
      "Depth: 7\n",
      "Resampling: None, mean accuracy: 0.5955660306090915\n",
      "Best mean score for None is: 0.5958848897405744, best depth: 6\n",
      "Resampling: RandomUnderSampler, mean accuracy: 0.32694504529543744\n",
      "Best mean score for RandomUnderSampler is: 0.3335636884032331, best depth: 6\n",
      "Resampling: RandomOverSampler, mean accuracy: 0.3326078070843247\n",
      "Best mean score for RandomOverSampler is: 0.3326078070843247, best depth: 7\n",
      "Resampling: SMOTE2, mean accuracy: 0.4528959463175236\n",
      "Best mean score for SMOTE2 is: 0.4528959463175236, best depth: 7\n",
      "Resampling: SMOTEENN, mean accuracy: 0.24060280000449447\n",
      "Best mean score for SMOTEENN is: 0.24060280000449447, best depth: 7\n",
      "\n",
      "\n",
      "Depth: 8\n",
      "Resampling: None, mean accuracy: 0.5932002288498507\n",
      "Best mean score for None is: 0.5958848897405744, best depth: 6\n",
      "Resampling: RandomUnderSampler, mean accuracy: 0.32915149522326115\n",
      "Best mean score for RandomUnderSampler is: 0.3335636884032331, best depth: 6\n",
      "Resampling: RandomOverSampler, mean accuracy: 0.34544661302008944\n",
      "Best mean score for RandomOverSampler is: 0.34544661302008944, best depth: 8\n",
      "Resampling: SMOTE2, mean accuracy: 0.49954844484357486\n",
      "Best mean score for SMOTE2 is: 0.49954844484357486, best depth: 8\n",
      "Resampling: SMOTEENN, mean accuracy: 0.25588795812635684\n",
      "Best mean score for SMOTEENN is: 0.25588795812635684, best depth: 8\n",
      "\n",
      "\n",
      "Depth: 9\n",
      "Resampling: None, mean accuracy: 0.5859694632720511\n",
      "Best mean score for None is: 0.5958848897405744, best depth: 6\n",
      "Resampling: RandomUnderSampler, mean accuracy: 0.3258812157337382\n",
      "Best mean score for RandomUnderSampler is: 0.3335636884032331, best depth: 6\n",
      "Resampling: RandomOverSampler, mean accuracy: 0.35036481778403045\n",
      "Best mean score for RandomOverSampler is: 0.35036481778403045, best depth: 9\n",
      "Resampling: SMOTE2, mean accuracy: 0.49000617493205134\n",
      "Best mean score for SMOTE2 is: 0.49954844484357486, best depth: 8\n",
      "Resampling: SMOTEENN, mean accuracy: 0.259981808048089\n",
      "Best mean score for SMOTEENN is: 0.259981808048089, best depth: 9\n",
      "\n",
      "\n",
      "Depth: 10\n",
      "Resampling: None, mean accuracy: 0.5784464661022166\n",
      "Best mean score for None is: 0.5958848897405744, best depth: 6\n",
      "Resampling: RandomUnderSampler, mean accuracy: 0.32106916072299424\n",
      "Best mean score for RandomUnderSampler is: 0.3335636884032331, best depth: 6\n",
      "Resampling: RandomOverSampler, mean accuracy: 0.3608913738432337\n",
      "Best mean score for RandomOverSampler is: 0.3608913738432337, best depth: 10\n",
      "Resampling: SMOTE2, mean accuracy: 0.5207614423335335\n",
      "Best mean score for SMOTE2 is: 0.5207614423335335, best depth: 10\n",
      "Resampling: SMOTEENN, mean accuracy: 0.2705616121194313\n",
      "Best mean score for SMOTEENN is: 0.2705616121194313, best depth: 10\n",
      "\n",
      "\n",
      "Depth: 11\n",
      "Resampling: None, mean accuracy: 0.5717474916370234\n",
      "Best mean score for None is: 0.5958848897405744, best depth: 6\n",
      "Resampling: RandomUnderSampler, mean accuracy: 0.3283535665179326\n",
      "Best mean score for RandomUnderSampler is: 0.3335636884032331, best depth: 6\n",
      "Resampling: RandomOverSampler, mean accuracy: 0.3710990672375758\n",
      "Best mean score for RandomOverSampler is: 0.3710990672375758, best depth: 11\n",
      "Resampling: SMOTE2, mean accuracy: 0.5111392191360988\n",
      "Best mean score for SMOTE2 is: 0.5207614423335335, best depth: 10\n",
      "Resampling: SMOTEENN, mean accuracy: 0.27944080824475687\n",
      "Best mean score for SMOTEENN is: 0.27944080824475687, best depth: 11\n",
      "\n",
      "\n",
      "Depth: 12\n",
      "Resampling: None, mean accuracy: 0.5643839487665789\n",
      "Best mean score for None is: 0.5958848897405744, best depth: 6\n",
      "Resampling: RandomUnderSampler, mean accuracy: 0.3219737833217898\n",
      "Best mean score for RandomUnderSampler is: 0.3335636884032331, best depth: 6\n",
      "Resampling: RandomOverSampler, mean accuracy: 0.38851101880513444\n",
      "Best mean score for RandomOverSampler is: 0.38851101880513444, best depth: 12\n",
      "Resampling: SMOTE2, mean accuracy: 0.5246957531547947\n",
      "Best mean score for SMOTE2 is: 0.5246957531547947, best depth: 12\n",
      "Resampling: SMOTEENN, mean accuracy: 0.2887978125278475\n",
      "Best mean score for SMOTEENN is: 0.2887978125278475, best depth: 12\n",
      "\n",
      "\n",
      "Depth: 13\n",
      "Resampling: None, mean accuracy: 0.5551067034335887\n",
      "Best mean score for None is: 0.5958848897405744, best depth: 6\n",
      "Resampling: RandomUnderSampler, mean accuracy: 0.3265721961423564\n",
      "Best mean score for RandomUnderSampler is: 0.3335636884032331, best depth: 6\n",
      "Resampling: RandomOverSampler, mean accuracy: 0.4040617173787731\n",
      "Best mean score for RandomOverSampler is: 0.4040617173787731, best depth: 13\n",
      "Resampling: SMOTE2, mean accuracy: 0.5097558732345386\n",
      "Best mean score for SMOTE2 is: 0.5246957531547947, best depth: 12\n",
      "Resampling: SMOTEENN, mean accuracy: 0.2945132216545497\n",
      "Best mean score for SMOTEENN is: 0.2945132216545497, best depth: 13\n",
      "\n",
      "\n",
      "Depth: 14\n",
      "Resampling: None, mean accuracy: 0.5438885804249566\n",
      "Best mean score for None is: 0.5958848897405744, best depth: 6\n",
      "Resampling: RandomUnderSampler, mean accuracy: 0.3270507145091752\n",
      "Best mean score for RandomUnderSampler is: 0.3335636884032331, best depth: 6\n",
      "Resampling: RandomOverSampler, mean accuracy: 0.4142432814400185\n",
      "Best mean score for RandomOverSampler is: 0.4142432814400185, best depth: 14\n",
      "Resampling: SMOTE2, mean accuracy: 0.5185282588649107\n",
      "Best mean score for SMOTE2 is: 0.5246957531547947, best depth: 12\n",
      "Resampling: SMOTEENN, mean accuracy: 0.3004677627630397\n",
      "Best mean score for SMOTEENN is: 0.3004677627630397, best depth: 14\n",
      "\n",
      "\n",
      "Done in 7751.01 (s)\n"
     ]
    }
   ],
   "source": [
    "from sklearn.tree import DecisionTreeClassifier\n",
    "from sklearn.model_selection import KFold \n",
    "from sklearn import tree\n",
    "import time\n",
    "\n",
    "splits = 5\n",
    "\n",
    "cv = KFold(n_splits = splits,\n",
    "           random_state = random_state,\n",
    "           shuffle = True)\n",
    "\n",
    "depths = range (2,15)\n",
    "\n",
    "start = time.time()\n",
    "\n",
    "for index,depth in enumerate(depths):\n",
    "\n",
    "    print(f\"Depth: {depth}\")\n",
    "\n",
    "    model = DecisionTreeClassifier(max_depth = depth, random_state = random_state)\n",
    "\n",
    "    for resampling_method_name in resampling_methods:\n",
    "        resampling_method = resampling_methods[resampling_method_name]\n",
    "\n",
    "        resampling_method['accuracies_history'].insert(index, 0)\n",
    "\n",
    "\n",
    "    for train_fold_index, val_fold_index in cv.split(X_train, y_train):\n",
    "        \n",
    "        X_train_fold, y_train_fold = X_train.iloc[train_fold_index], y_train.iloc[train_fold_index]\n",
    "\n",
    "        X_val_fold, y_val_fold = X_train.iloc[val_fold_index], y_train.iloc[val_fold_index]\n",
    "\n",
    "        for resampling_method_name in resampling_methods:\n",
    "            resampling_method = resampling_methods[resampling_method_name]\n",
    "\n",
    "            X_train_fold_sampled, y_train_fold_sampled = do_resampling(resampling_method = resampling_method_name,\n",
    "                                                                       X_data = X_train_fold,\n",
    "                                                                       y_data = y_train_fold)\n",
    "\n",
    "            model.fit(X_train_fold_sampled, y_train_fold_sampled)\n",
    "\n",
    "            current_accuracy   = model.score(X_val_fold, y_val_fold)\n",
    "            accuracies_history = resampling_method['accuracies_history'][index]\n",
    "\n",
    "            resampling_method['accuracies_history'][index] = accuracies_history + current_accuracy\n",
    "            resampling_method['model'] = model\n",
    "\n",
    "\n",
    "    for resampling_method_name in resampling_methods:\n",
    "        resampling_method = resampling_methods[resampling_method_name]\n",
    "        \n",
    "        current_method_mean_accuracy = resampling_method['accuracies_history'][index] / splits\n",
    "\n",
    "        resampling_method['accuracies_history'][index] = current_method_mean_accuracy\n",
    "\n",
    "        print(f\"Resampling: {resampling_method_name}, mean accuracy: {current_method_mean_accuracy}\")\n",
    "\n",
    "        best_mean_accuracy = resampling_method['best_mean_accuracy']\n",
    "\n",
    "        if (current_method_mean_accuracy > best_mean_accuracy):\n",
    "            model_params = resampling_method['model']\n",
    "            resampling_method['best_model'] = model_params\n",
    "            resampling_method['best_mean_accuracy'] = current_method_mean_accuracy\n",
    "            resampling_method['best_depth'] = depth\n",
    "\n",
    "        best_method_depth  = resampling_method['best_depth']\n",
    "        best_mean_accuracy = resampling_method['best_mean_accuracy']\n",
    "\n",
    "        print(f\"Best mean score for {resampling_method_name} is: {best_mean_accuracy}, best depth: {best_method_depth}\")\n",
    "\n",
    "    print('\\n')\n",
    "\n",
    "    \n",
    "end = time.time()\n",
    "\n",
    "ellapsed_time = round(end - start, 2)\n",
    "\n",
    "print(f\"Done in {ellapsed_time} (s)\")"
   ]
  },
  {
   "cell_type": "markdown",
   "id": "a5b7e233-3439-4fef-87d9-802f8c776bc4",
   "metadata": {},
   "source": [
    "## Saving Models"
   ]
  },
  {
   "cell_type": "markdown",
   "id": "468c027d-3214-41da-b15d-dfa05b984191",
   "metadata": {},
   "source": [
    "A continuación guardaremos los mejores modelos generados en base a cada una de las técnicas de resampling aplicadas y almacenaremos el que mejor accuracy ha logrado en la variable `best_method`."
   ]
  },
  {
   "cell_type": "code",
   "execution_count": 161,
   "id": "38cac729-4346-4f92-9ef6-549f1fd52870",
   "metadata": {},
   "outputs": [],
   "source": [
    "from joblib import dump, load\n",
    "\n",
    "best_model = DecisionTreeClassifier()\n",
    "\n",
    "best_method = {}\n",
    "best_method['Init'] = {}\n",
    "best_method['Init']['best_mean_accuracy'] = 0\n",
    "\n",
    "for resampling_method_name in resampling_methods:\n",
    "    resampling_method = resampling_methods[resampling_method_name]\n",
    "    \n",
    "    model_name = resampling_method_name\n",
    "    best_mean_accuracy = resampling_method['best_mean_accuracy']\n",
    "    best_method_depth  = resampling_method['best_depth']\n",
    "\n",
    "    model = resampling_method['best_model']\n",
    "    \n",
    "    file_name = f\"{CLASSIFICATION_TREE_PATH}{model_name}_{best_mean_accuracy}_{best_method_depth}_{MODEL_TIMESTAMP}.joblib\"\n",
    "    dump(model, file_name)\n",
    "\n",
    "    if resampling_method['best_mean_accuracy'] > list(best_method.values())[0]['best_mean_accuracy']:\n",
    "        best_method = {}\n",
    "        best_method[resampling_method_name] = resampling_method\n"
   ]
  },
  {
   "cell_type": "markdown",
   "id": "aa756886-731c-423e-a411-8b8cbbbf3be9",
   "metadata": {
    "toc-hr-collapsed": true
   },
   "source": [
    "## Exploring Models"
   ]
  },
  {
   "cell_type": "markdown",
   "id": "9132b694-656f-4f59-b4c4-27a44cc1b8d5",
   "metadata": {},
   "source": [
    "### Accuracies and Depths"
   ]
  },
  {
   "cell_type": "markdown",
   "id": "1ef59ed4-9e71-4bb8-a8db-cc72eb7544a4",
   "metadata": {},
   "source": [
    "En este apartado se analizarán los accuracies logrados de los mejores modelos de cada método de Resampling."
   ]
  },
  {
   "cell_type": "code",
   "execution_count": 162,
   "id": "5f1ae135-99cb-4699-b225-e943052707ac",
   "metadata": {
    "tags": []
   },
   "outputs": [
    {
     "name": "stderr",
     "output_type": "stream",
     "text": [
      "/tmp/ipykernel_6893/2696377501.py:14: FutureWarning: The frame.append method is deprecated and will be removed from pandas in a future version. Use pandas.concat instead.\n",
      "  summary_dataframe = summary_dataframe.append(row_series, ignore_index = True)\n",
      "/tmp/ipykernel_6893/2696377501.py:14: FutureWarning: The frame.append method is deprecated and will be removed from pandas in a future version. Use pandas.concat instead.\n",
      "  summary_dataframe = summary_dataframe.append(row_series, ignore_index = True)\n",
      "/tmp/ipykernel_6893/2696377501.py:14: FutureWarning: The frame.append method is deprecated and will be removed from pandas in a future version. Use pandas.concat instead.\n",
      "  summary_dataframe = summary_dataframe.append(row_series, ignore_index = True)\n",
      "/tmp/ipykernel_6893/2696377501.py:14: FutureWarning: The frame.append method is deprecated and will be removed from pandas in a future version. Use pandas.concat instead.\n",
      "  summary_dataframe = summary_dataframe.append(row_series, ignore_index = True)\n",
      "/tmp/ipykernel_6893/2696377501.py:14: FutureWarning: The frame.append method is deprecated and will be removed from pandas in a future version. Use pandas.concat instead.\n",
      "  summary_dataframe = summary_dataframe.append(row_series, ignore_index = True)\n"
     ]
    },
    {
     "data": {
      "text/html": [
       "<style type=\"text/css\">\n",
       "#T_85301_row0_col1 {\n",
       "  background-color: green;\n",
       "}\n",
       "#T_85301_row4_col1 {\n",
       "  background-color: red;\n",
       "}\n",
       "</style>\n",
       "<table id=\"T_85301\">\n",
       "  <thead>\n",
       "    <tr>\n",
       "      <th class=\"blank level0\" >&nbsp;</th>\n",
       "      <th id=\"T_85301_level0_col0\" class=\"col_heading level0 col0\" >resampling_method</th>\n",
       "      <th id=\"T_85301_level0_col1\" class=\"col_heading level0 col1\" >best_mean_accuracy</th>\n",
       "      <th id=\"T_85301_level0_col2\" class=\"col_heading level0 col2\" >best_depth</th>\n",
       "    </tr>\n",
       "  </thead>\n",
       "  <tbody>\n",
       "    <tr>\n",
       "      <th id=\"T_85301_level0_row0\" class=\"row_heading level0 row0\" >0</th>\n",
       "      <td id=\"T_85301_row0_col0\" class=\"data row0 col0\" >None</td>\n",
       "      <td id=\"T_85301_row0_col1\" class=\"data row0 col1\" >0.595885</td>\n",
       "      <td id=\"T_85301_row0_col2\" class=\"data row0 col2\" >6</td>\n",
       "    </tr>\n",
       "    <tr>\n",
       "      <th id=\"T_85301_level0_row1\" class=\"row_heading level0 row1\" >1</th>\n",
       "      <td id=\"T_85301_row1_col0\" class=\"data row1 col0\" >RandomUnderSampler</td>\n",
       "      <td id=\"T_85301_row1_col1\" class=\"data row1 col1\" >0.333564</td>\n",
       "      <td id=\"T_85301_row1_col2\" class=\"data row1 col2\" >6</td>\n",
       "    </tr>\n",
       "    <tr>\n",
       "      <th id=\"T_85301_level0_row2\" class=\"row_heading level0 row2\" >2</th>\n",
       "      <td id=\"T_85301_row2_col0\" class=\"data row2 col0\" >RandomOverSampler</td>\n",
       "      <td id=\"T_85301_row2_col1\" class=\"data row2 col1\" >0.414243</td>\n",
       "      <td id=\"T_85301_row2_col2\" class=\"data row2 col2\" >14</td>\n",
       "    </tr>\n",
       "    <tr>\n",
       "      <th id=\"T_85301_level0_row3\" class=\"row_heading level0 row3\" >3</th>\n",
       "      <td id=\"T_85301_row3_col0\" class=\"data row3 col0\" >SMOTE2</td>\n",
       "      <td id=\"T_85301_row3_col1\" class=\"data row3 col1\" >0.524696</td>\n",
       "      <td id=\"T_85301_row3_col2\" class=\"data row3 col2\" >12</td>\n",
       "    </tr>\n",
       "    <tr>\n",
       "      <th id=\"T_85301_level0_row4\" class=\"row_heading level0 row4\" >4</th>\n",
       "      <td id=\"T_85301_row4_col0\" class=\"data row4 col0\" >SMOTEENN</td>\n",
       "      <td id=\"T_85301_row4_col1\" class=\"data row4 col1\" >0.300468</td>\n",
       "      <td id=\"T_85301_row4_col2\" class=\"data row4 col2\" >14</td>\n",
       "    </tr>\n",
       "  </tbody>\n",
       "</table>\n"
      ],
      "text/plain": [
       "<pandas.io.formats.style.Styler at 0x7fc690313040>"
      ]
     },
     "execution_count": 162,
     "metadata": {},
     "output_type": "execute_result"
    }
   ],
   "source": [
    "FEATURES = ['resampling_method',  'best_mean_accuracy', 'best_depth']\n",
    "summary_dataframe = pd.DataFrame(columns = FEATURES)\n",
    "\n",
    "for resampling_method in resampling_methods:\n",
    "    fields = []\n",
    "    fields.append(resampling_method)\n",
    "\n",
    "    row = resampling_methods[resampling_method]\n",
    "    for feature in row:\n",
    "        if (feature in FEATURES):\n",
    "            fields.append(row[feature])\n",
    "\n",
    "    row_series = pd.Series(fields, index = FEATURES)\n",
    "    summary_dataframe = summary_dataframe.append(row_series, ignore_index = True)\n",
    "\n",
    "SAVE_PATH =  f\"{CLASSIFICATION_TREE_PATH}{MODEL_TIMESTAMP}.csv\"\n",
    "summary_dataframe.to_csv(SAVE_PATH, index = True)\n",
    "\n",
    "summary_dataframe.style.highlight_max(subset = ['best_mean_accuracy'], color = 'green')\\\n",
    "                       .highlight_min(subset = ['best_mean_accuracy'], color = 'red')"
   ]
  },
  {
   "cell_type": "markdown",
   "id": "500bdf48-abd6-4585-a183-ae1bae6d119d",
   "metadata": {},
   "source": [
    "Si observamos la tabla anterior podemos comprobar que, al contrario de cómo se había planteado el problema inicialmente, el Árbol de Decisión que mejor accuracy medio logra es aquel que no utiliza ninguna técnica de Resampling, seguido del árbol entrenado con los datos sintéticos generados de SMOTE-2.\n",
    "\n",
    "El mejor entrenamiento de modelo para este problema, DecissionTree con profundidad 6 entrenado con los datos de entrenamiento sin aplicar Resampling, ha sido almacenado en la variable `best_model`."
   ]
  },
  {
   "cell_type": "markdown",
   "id": "02e06df7-6e4d-4742-a13a-8dea3a5a0867",
   "metadata": {},
   "source": [
    "### Plots"
   ]
  },
  {
   "cell_type": "markdown",
   "id": "b2eae6b2-b07d-43ac-b6a7-b0742fa8b055",
   "metadata": {},
   "source": [
    "A continuación analizaremos la evolución del accuracy medio para los métodos de Resampling en función de la profundidad máxima."
   ]
  },
  {
   "cell_type": "code",
   "execution_count": 174,
   "id": "2c649720-e083-452d-b389-cf909d57dc88",
   "metadata": {},
   "outputs": [
    {
     "data": {
      "image/png": "[encoded data removed]",
      "text/plain": [
       "<Figure size 1080x720 with 1 Axes>"
      ]
     },
     "metadata": {
      "needs_background": "light"
     },
     "output_type": "display_data"
    }
   ],
   "source": [
    "plt.figure(figsize=(15,10))\n",
    "\n",
    "for resampling_method_name in resampling_methods:\n",
    "    resampling_method = resampling_methods[resampling_method_name]\n",
    "\n",
    "    mean_scores = resampling_method['accuracies_history']\n",
    "\n",
    "    plt.plot(depths, mean_scores[:len(depths)], linewidth = 1.1, label = resampling_method_name)\n",
    "\n",
    "plt.title(f\"Mean Accuracy resampling training data for {splits} splits over validation set\")\n",
    "plt.xlabel('Depth')\n",
    "plt.ylabel('Mean Accuracy')\n",
    "\n",
    "plt.legend(loc = 'best',\n",
    "           fancybox = True,\n",
    "           shadow = True)\n",
    "\n",
    "FILE_NAME  = f\"{CLASSIFICATION_TREE_PATH}{MODEL_TIMESTAMP}.png\"\n",
    "\n",
    "plt.grid(True)\n",
    "plt.savefig(FILE_NAME, dpi = resolution)\n",
    "plt.show()"
   ]
  },
  {
   "cell_type": "markdown",
   "id": "b680afed-cd04-4ff0-af55-9f731ae5aad0",
   "metadata": {},
   "source": [
    "Observamos cómo el árbol de decisión entrenado sin aplicar técnicas de resampling a medida que avanzamos en su profundidad, el accudacy empieza a descender. Esto es común en los árboles de decisión con mcuha profundidad, ya que comienza a apreciarse el overfitting a medida que el número de niveles aumenta.\n",
    "\n",
    "Esto no se produce con los métodos de Resampling ya que los árboles se entrenan con datos muy distintos en cada iteración, sin embargo, no logran superar el accuracy de `0.5958` que consigue el Árbol de Decisión entrenado sin Resampling con 6 niveles."
   ]
  },
  {
   "cell_type": "markdown",
   "id": "eb8d1004-fb87-4470-ba85-dafd0d2c382d",
   "metadata": {},
   "source": [
    "## Train Best Tree - Best Reampling"
   ]
  },
  {
   "cell_type": "code",
   "execution_count": 164,
   "id": "a97bc799-98b5-4740-805b-c5f962dffe87",
   "metadata": {},
   "outputs": [],
   "source": [
    "best_method_name = list(best_method.keys())[0]\n",
    "X_train_sampled, y_train_sampled = do_resampling(best_method_name,\n",
    "                                                 X_train,\n",
    "                                                 y_train)\n",
    "\n",
    "best_model = best_method[best_method_name]['best_model'].fit(X_train_sampled, y_train_sampled)"
   ]
  },
  {
   "cell_type": "markdown",
   "id": "fb3421bc-9728-479c-8f2e-bbd98e70ead5",
   "metadata": {},
   "source": [
    "Gracias al `random_seed` especificado en el `cross-validation` podemos fijar que el resultado del experimento mantenga que el mejor árbol tenga como profundidad 6 niveles. Esto nos permite mantener los resultados en distintas ejecuciones y poder detallarlos.\n",
    "\n",
    "Podemos observar que el error medio para el árbol de profundidad 6 es del orden de 0.42 aproximadamente (accuracy), es decir, que del 100% total de muestras en el dataset ha clasificado correctamente un 42% aproximadamente entre todas las clases del modelo.\n",
    "\n",
    "En posteriores apartados analizaremos el resto de métricas, como el `recall` o el `f1-score`, que nos darán mayor información de cómo se está comportando el modelo."
   ]
  },
  {
   "cell_type": "markdown",
   "id": "af79d308-55a5-4f7e-9e05-0bee83810a29",
   "metadata": {
    "tags": []
   },
   "source": [
    "## Tree Plot"
   ]
  },
  {
   "cell_type": "markdown",
   "id": "c7dcd0d2-6de7-49b1-84ed-ecb6ccb19f93",
   "metadata": {},
   "source": [
    "A continuación mostraremos el desglose del árbol de decisión entrenado, como hemos visto en la sección anterior, el árbol con mejor precisión (`score`) es aquel que contiene **X** niveles de profundidad."
   ]
  },
  {
   "cell_type": "code",
   "execution_count": 165,
   "id": "d58443dc-1433-4d6b-9a0c-1e90233e2528",
   "metadata": {
    "tags": []
   },
   "outputs": [
    {
     "data": {
      "image/png": "[encoded data removed]",
      "text/plain": [
       "<Figure size 1800x864 with 1 Axes>"
      ]
     },
     "metadata": {
      "needs_background": "light"
     },
     "output_type": "display_data"
    }
   ],
   "source": [
    "plt.figure(figsize=(25,12))\n",
    "tree_plot = tree.plot_tree(best_model, fontsize = 8, feature_names = X_test.columns)\n",
    "\n",
    "FILE_NAME = f\"best_depth_{best_model.get_depth()}_tree_{MODEL_TIMESTAMP}\"\n",
    "\n",
    "plt.savefig(CLASSIFICATION_TREE_PATH + FILE_NAME, dpi = resolution)"
   ]
  },
  {
   "cell_type": "markdown",
   "id": "35578c20-d736-4fa5-a368-7168e8b202af",
   "metadata": {},
   "source": [
    "El primer nodo padre del árbol divide los resultados en función del número de puntos ganados con saque directo del jugador que acabó ganando el partido, es decir, es el campo que mejor divide las observaciones en función del tipo de pista. Esto cobra sentido ya que los saques rebotan con más velocidad en pistas más rápidas (pista dura y hierba), por lo que son más difíciles de restar, y más fáciles de responder en pistas más lentas (tierra batida).\n",
    "\n",
    "En los siguientes niveles se aprecia que existen otras variables influyentes como el número de puntos ganados con el primer servicio (cobra más ventaja en el partido el jugador que saque, ya que la velocidad de la bola es distinta dependiendo de la superficie).\n",
    "\n",
    "La métrica Gini muestra la probabilidad que tienen las muestras que llegan a ese nodo de ser clasificadas incorrectamente cuando se les asigna una clase aleatoria.\n",
    "\n",
    "El número de muestras que llegan al primer nodo es el total de todos los ejemplos en el dataset.\n",
    "\n",
    "Este proceso se repite para cada uno de los nodos del árbol de decisión hasta llegar al último nivel, que es el que dictará a qué clase pertenece la muestra que haya recorrido el camino del árbol hasta llegar a la hoja correspondiente.\n"
   ]
  },
  {
   "cell_type": "markdown",
   "id": "a8e19ea9-289e-4ffb-8bd0-aa29bc58d1a1",
   "metadata": {},
   "source": [
    "## Confusion Matrix"
   ]
  },
  {
   "cell_type": "markdown",
   "id": "cc26f8c1-22a4-41a8-9c76-11d6d4eb4681",
   "metadata": {},
   "source": [
    "En esta sección analizaremos los resultados de la clasificación del árbol de clasificación obtenido en el apartado anterior, obteniendo la matriz de confusión de los resultados sobre el conjunto de test."
   ]
  },
  {
   "cell_type": "code",
   "execution_count": 166,
   "id": "1c37cea5-e6dd-40bc-873a-bcc021be2a9d",
   "metadata": {},
   "outputs": [
    {
     "data": {
      "image/png": "[encoded data removed]",
      "text/plain": [
       "<Figure size 432x288 with 2 Axes>"
      ]
     },
     "metadata": {
      "needs_background": "light"
     },
     "output_type": "display_data"
    }
   ],
   "source": [
    "from sklearn.metrics import ConfusionMatrixDisplay\n",
    "\n",
    "FILE_NAME = f\"best_depth_{best_model.get_depth()}_cm_{MODEL_TIMESTAMP}.png\"\n",
    "\n",
    "confusion_matrix = ConfusionMatrixDisplay.from_estimator(best_model, X_test, y_test)\n",
    "confusion_matrix.figure_.savefig(CONFUSION_MATRIX_PATH + FILE_NAME, dpi = resolution)"
   ]
  },
  {
   "cell_type": "markdown",
   "id": "953bdc8f-3ff9-4a8c-9847-84a69e281b21",
   "metadata": {},
   "source": [
    "Observamos los resultados de la clasificación del conjunto de test, en el eje de ordenadas se proyectan las clases verdaderas a las que pertenecen las muestras, mientras que en el eje de abcisas se muestra la clasificación del árbol de decisión entrenado."
   ]
  },
  {
   "cell_type": "markdown",
   "id": "142f85d3-bd59-4078-8fba-57a1eb06a0bd",
   "metadata": {
    "tags": []
   },
   "source": [
    "## Classification Report"
   ]
  },
  {
   "cell_type": "markdown",
   "id": "c433d795-1462-4b2b-b39a-8a8702636d4e",
   "metadata": {},
   "source": [
    "En esta sección se mostrarán las métricas correspondientes a la clasificación de los datos del conjunto de test por parte del árbol de decisión."
   ]
  },
  {
   "cell_type": "code",
   "execution_count": 175,
   "id": "9d6eb1b2-3cca-4205-881c-240788ef1488",
   "metadata": {},
   "outputs": [
    {
     "name": "stderr",
     "output_type": "stream",
     "text": [
      "/home/luis/anaconda3/envs/TFM/lib/python3.9/site-packages/sklearn/metrics/_classification.py:1318: UndefinedMetricWarning: Precision and F-score are ill-defined and being set to 0.0 in labels with no predicted samples. Use `zero_division` parameter to control this behavior.\n",
      "  _warn_prf(average, modifier, msg_start, len(result))\n",
      "/home/luis/anaconda3/envs/TFM/lib/python3.9/site-packages/sklearn/metrics/_classification.py:1318: UndefinedMetricWarning: Precision and F-score are ill-defined and being set to 0.0 in labels with no predicted samples. Use `zero_division` parameter to control this behavior.\n",
      "  _warn_prf(average, modifier, msg_start, len(result))\n",
      "/home/luis/anaconda3/envs/TFM/lib/python3.9/site-packages/sklearn/metrics/_classification.py:1318: UndefinedMetricWarning: Precision and F-score are ill-defined and being set to 0.0 in labels with no predicted samples. Use `zero_division` parameter to control this behavior.\n",
      "  _warn_prf(average, modifier, msg_start, len(result))\n"
     ]
    },
    {
     "data": {
      "text/html": [
       "<style type=\"text/css\">\n",
       "#T_130a7_row0_col0, #T_130a7_row0_col1 {\n",
       "  background-color: red;\n",
       "}\n",
       "#T_130a7_row3_col0, #T_130a7_row3_col1 {\n",
       "  background-color: green;\n",
       "}\n",
       "</style>\n",
       "<table id=\"T_130a7\">\n",
       "  <thead>\n",
       "    <tr>\n",
       "      <th class=\"blank level0\" >&nbsp;</th>\n",
       "      <th id=\"T_130a7_level0_col0\" class=\"col_heading level0 col0\" >precision</th>\n",
       "      <th id=\"T_130a7_level0_col1\" class=\"col_heading level0 col1\" >recall</th>\n",
       "      <th id=\"T_130a7_level0_col2\" class=\"col_heading level0 col2\" >f1-score</th>\n",
       "      <th id=\"T_130a7_level0_col3\" class=\"col_heading level0 col3\" >support</th>\n",
       "    </tr>\n",
       "  </thead>\n",
       "  <tbody>\n",
       "    <tr>\n",
       "      <th id=\"T_130a7_level0_row0\" class=\"row_heading level0 row0\" >Carpet</th>\n",
       "      <td id=\"T_130a7_row0_col0\" class=\"data row0 col0\" >0.000000</td>\n",
       "      <td id=\"T_130a7_row0_col1\" class=\"data row0 col1\" >0.000000</td>\n",
       "      <td id=\"T_130a7_row0_col2\" class=\"data row0 col2\" >0.000000</td>\n",
       "      <td id=\"T_130a7_row0_col3\" class=\"data row0 col3\" >426.000000</td>\n",
       "    </tr>\n",
       "    <tr>\n",
       "      <th id=\"T_130a7_level0_row1\" class=\"row_heading level0 row1\" >Clay</th>\n",
       "      <td id=\"T_130a7_row1_col0\" class=\"data row1 col0\" >0.584579</td>\n",
       "      <td id=\"T_130a7_row1_col1\" class=\"data row1 col1\" >0.474302</td>\n",
       "      <td id=\"T_130a7_row1_col2\" class=\"data row1 col2\" >0.523698</td>\n",
       "      <td id=\"T_130a7_row1_col3\" class=\"data row1 col3\" >5195.000000</td>\n",
       "    </tr>\n",
       "    <tr>\n",
       "      <th id=\"T_130a7_level0_row2\" class=\"row_heading level0 row2\" >Grass</th>\n",
       "      <td id=\"T_130a7_row2_col0\" class=\"data row2 col0\" >0.408333</td>\n",
       "      <td id=\"T_130a7_row2_col1\" class=\"data row2 col1\" >0.027575</td>\n",
       "      <td id=\"T_130a7_row2_col2\" class=\"data row2 col2\" >0.051661</td>\n",
       "      <td id=\"T_130a7_row2_col3\" class=\"data row2 col3\" >1777.000000</td>\n",
       "    </tr>\n",
       "    <tr>\n",
       "      <th id=\"T_130a7_level0_row3\" class=\"row_heading level0 row3\" >Hard</th>\n",
       "      <td id=\"T_130a7_row3_col0\" class=\"data row3 col0\" >0.610503</td>\n",
       "      <td id=\"T_130a7_row3_col1\" class=\"data row3 col1\" >0.824851</td>\n",
       "      <td id=\"T_130a7_row3_col2\" class=\"data row3 col2\" >0.701672</td>\n",
       "      <td id=\"T_130a7_row3_col3\" class=\"data row3 col3\" >8724.000000</td>\n",
       "    </tr>\n",
       "    <tr>\n",
       "      <th id=\"T_130a7_level0_row4\" class=\"row_heading level0 row4\" >accuracy</th>\n",
       "      <td id=\"T_130a7_row4_col0\" class=\"data row4 col0\" >0.602221</td>\n",
       "      <td id=\"T_130a7_row4_col1\" class=\"data row4 col1\" >0.602221</td>\n",
       "      <td id=\"T_130a7_row4_col2\" class=\"data row4 col2\" >0.602221</td>\n",
       "      <td id=\"T_130a7_row4_col3\" class=\"data row4 col3\" >0.602221</td>\n",
       "    </tr>\n",
       "    <tr>\n",
       "      <th id=\"T_130a7_level0_row5\" class=\"row_heading level0 row5\" >macro avg</th>\n",
       "      <td id=\"T_130a7_row5_col0\" class=\"data row5 col0\" >0.400854</td>\n",
       "      <td id=\"T_130a7_row5_col1\" class=\"data row5 col1\" >0.331682</td>\n",
       "      <td id=\"T_130a7_row5_col2\" class=\"data row5 col2\" >0.319258</td>\n",
       "      <td id=\"T_130a7_row5_col3\" class=\"data row5 col3\" >16122.000000</td>\n",
       "    </tr>\n",
       "    <tr>\n",
       "      <th id=\"T_130a7_level0_row6\" class=\"row_heading level0 row6\" >weighted avg</th>\n",
       "      <td id=\"T_130a7_row6_col0\" class=\"data row6 col0\" >0.563734</td>\n",
       "      <td id=\"T_130a7_row6_col1\" class=\"data row6 col1\" >0.602221</td>\n",
       "      <td id=\"T_130a7_row6_col2\" class=\"data row6 col2\" >0.554137</td>\n",
       "      <td id=\"T_130a7_row6_col3\" class=\"data row6 col3\" >16122.000000</td>\n",
       "    </tr>\n",
       "  </tbody>\n",
       "</table>\n"
      ],
      "text/plain": [
       "<pandas.io.formats.style.Styler at 0x7fc68879d370>"
      ]
     },
     "metadata": {},
     "output_type": "display_data"
    }
   ],
   "source": [
    "from sklearn.metrics import classification_report\n",
    "\n",
    "FILE_NAME = f\"best_depth_{best_model.get_depth()}_cr_{MODEL_TIMESTAMP}.csv\"\n",
    "\n",
    "\n",
    "y_pred = best_model.predict(x_test)\n",
    "report = classification_report(y_test, y_pred, output_dict = True)\n",
    "\n",
    "report_df = pd.DataFrame(report).transpose()\n",
    "report_df.to_csv(CLASSIFICATION_REPORTS_PATH + FILE_NAME, index= True)\n",
    "\n",
    "display(report_df.style.highlight_max(subset = ['precision', 'recall'], color='green')\\\n",
    "                       .highlight_min(subset = ['precision', 'recall'], color='red'))"
   ]
  },
  {
   "cell_type": "markdown",
   "id": "6d66b027-e89a-43db-af3d-a35340d5c642",
   "metadata": {},
   "source": [
    "La `precision` representa el porcentaje real de acierto en la clasificación de muestras como verdaderas para cada una de las clases, mientras que el `recall` indica el porcentaje total identificado de las muestras de cada clase.\n",
    "\n",
    "Observamos que el número de partidos clasificados como moqueta es 0, seguramente provocado por el desbalanceo del dataset y el pequeño número de muestras que existen de esta clase.\n",
    "\n",
    "Como el Árbol de decisión trata de minimizar la pérdida media de las clasificaciones, al tener un número ínfimo de clases clasificadas como `Carpet` el hecho de clasificar erróneamente esta clase no afecta apenas a la media de errores, por lo tanto, maximiza la correcta clasificación de muestras mayoriatias.\n",
    "\n",
    "Podemos concluir que con los datos disponibles, entrenando este clasificador no se han conseguido unos resultados muy prometedores respecto a los objetivos iniciales del proyecto.\n"
   ]
  },
  {
   "cell_type": "markdown",
   "id": "adddc209-80b2-4573-a662-cffa56e3083c",
   "metadata": {},
   "source": [
    "## AUC-ROC Curve"
   ]
  },
  {
   "cell_type": "markdown",
   "id": "ed6fd0ad-744a-417e-9903-6ff2054a0a1f",
   "metadata": {},
   "source": [
    "En esta sección mostraremos la curva AUC-ROC de las clases clasificadas por el mejor modelo entrenado.\n",
    "\n",
    "Una curva AUC-ROC representa una medida de rendimiento para problemas de clasificación, mide la separabilidad de las clases en función de las siguientes medidas:\n",
    "- True positive Rate (TPR)\n",
    "- False positive Rate (FPR)\n",
    "\n",
    "[Understanding auc roc curve](https://towardsdatascience.com/understanding-auc-roc-curve-68b2303cc9c5)"
   ]
  },
  {
   "cell_type": "markdown",
   "id": "2bcde164-0dbe-4b22-8ed7-e8749f98de01",
   "metadata": {
    "tags": []
   },
   "source": [
    "### OneHotEncoding"
   ]
  },
  {
   "cell_type": "markdown",
   "id": "5c02f893-a3d1-4af2-9250-c06ebfba04d0",
   "metadata": {},
   "source": [
    "Para ello el primer paso será transformar las variables respuesta a formato one-hot encoding, que es la forma de representar vectorialmente las características de forma única. Esto nos ayudará para poder medir las discrepancias entre la probabilidad calculada por el modeo de que una muestra pertenezca a una clase y el valor real de dicha muestra.\n",
    "\n",
    "[How to one-hot encode](https://machinelearningmastery.com/how-to-one-hot-encode-sequence-data-in-python/)"
   ]
  },
  {
   "cell_type": "code",
   "execution_count": 217,
   "id": "ca6fbc75-eff5-4359-87ad-d4dbf6fc6b2e",
   "metadata": {},
   "outputs": [
    {
     "data": {
      "text/plain": [
       "array(['Carpet', 'Clay', 'Grass', 'Hard'], dtype=object)"
      ]
     },
     "execution_count": 217,
     "metadata": {},
     "output_type": "execute_result"
    }
   ],
   "source": [
    "from sklearn.preprocessing import LabelEncoder\n",
    "from sklearn.preprocessing import OneHotEncoder\n",
    "\n",
    "label_encoder = LabelEncoder()\n",
    "integer_encoded = label_encoder.fit_transform(y_test)\n",
    "\n",
    "onehot_encoder = OneHotEncoder(sparse = False)\n",
    "\n",
    "integer_encoded = integer_encoded.reshape(len(integer_encoded), 1)\n",
    "onehot_encoded  = onehot_encoder.fit_transform(integer_encoded)\n",
    "\n"
   ]
  },
  {
   "cell_type": "markdown",
   "id": "d2d266eb-201a-4fde-9477-bc69b4e11451",
   "metadata": {},
   "source": [
    "### Plot AUC-ROC Curve"
   ]
  },
  {
   "cell_type": "markdown",
   "id": "c466e4c1-6425-487d-a73a-8ac62dd3edf2",
   "metadata": {},
   "source": [
    "A continuación crearemos la curva AUC-ROC para cada una de las clases identificadas por el modelo, siguiendo la siguiente referencia:  [ROC for multi-label classification](https://scikit-learn.org/stable/auto_examples/model_selection/plot_roc.html)"
   ]
  },
  {
   "cell_type": "code",
   "execution_count": 218,
   "id": "1ac19af6-2f44-4e66-b0dd-11a94bcc6574",
   "metadata": {},
   "outputs": [
    {
     "name": "stdout",
     "output_type": "stream",
     "text": [
      "0 0.6518980195307078\n",
      "1 0.7315748321193238\n",
      "2 0.6766323219528096\n",
      "3 0.6489179789970125\n"
     ]
    },
    {
     "data": {
      "image/png": "[encoded data removed]",
      "text/plain": [
       "<Figure size 1800x864 with 1 Axes>"
      ]
     },
     "metadata": {
      "needs_background": "light"
     },
     "output_type": "display_data"
    },
    {
     "data": {
      "text/plain": [
       "<Figure size 432x288 with 0 Axes>"
      ]
     },
     "metadata": {},
     "output_type": "display_data"
    }
   ],
   "source": [
    "from sklearn import metrics\n",
    "from sklearn.metrics import roc_curve, roc_auc_score, auc\n",
    "import numpy as np\n",
    "from itertools import cycle\n",
    "\n",
    "y_pred_proba = best_model.predict_proba(X_test)\n",
    "classes = best_model.classes_\n",
    "\n",
    "fpr = dict()\n",
    "tpr = dict()\n",
    "roc_auc = dict()\n",
    "\n",
    "for i, current_class in enumerate(classes):\n",
    "\n",
    "    fpr[i], tpr[i], _ = roc_curve(onehot_encoded[:,i], y_pred_proba[:,i])\n",
    "    roc_auc[i] = auc(fpr[i], tpr[i])\n",
    "\n",
    "# Compute micro-average ROC curve and ROC area\n",
    "fpr[\"micro\"], tpr[\"micro\"], _ = roc_curve(onehot_encoded.ravel(), y_pred_proba.ravel())\n",
    "roc_auc[\"micro\"] = auc(fpr[\"micro\"], tpr[\"micro\"])\n",
    "\n",
    "\n",
    "all_fpr = np.unique(np.concatenate([fpr[i] for i in range(classes_number)]))\n",
    "\n",
    "# Then interpolate all ROC curves at this points\n",
    "mean_tpr = np.zeros_like(all_fpr)\n",
    "for i, current_class in enumerate(classes):\n",
    "    mean_tpr += np.interp(all_fpr, fpr[i], tpr[i])\n",
    "\n",
    "# Finally average it and compute AUC\n",
    "mean_tpr /= len(classes)\n",
    "\n",
    "fpr[\"macro\"] = all_fpr\n",
    "tpr[\"macro\"] = mean_tpr\n",
    "roc_auc[\"macro\"] = auc(fpr[\"macro\"], tpr[\"macro\"])\n",
    "\n",
    "# Plot all ROC curves\n",
    "plt.figure(figsize=(25,12))\n",
    "\n",
    "plt.plot(\n",
    "    fpr[\"micro\"],\n",
    "    tpr[\"micro\"],\n",
    "    label=\"micro-average ROC curve (area = {0:0.2f})\".format(roc_auc[\"micro\"]),\n",
    "    color=\"deeppink\",\n",
    "    linestyle=\":\",\n",
    "    linewidth=4,\n",
    ")\n",
    "\n",
    "plt.plot(\n",
    "    fpr[\"macro\"],\n",
    "    tpr[\"macro\"],\n",
    "    label=\"macro-average ROC curve (area = {0:0.2f})\".format(roc_auc[\"macro\"]),\n",
    "    color=\"navy\",\n",
    "    linestyle=\":\",\n",
    "    linewidth=4,\n",
    ")\n",
    "\n",
    "for i in range(len(classes)):\n",
    "    plt.plot(\n",
    "        fpr[i],\n",
    "        tpr[i],\n",
    "        label = \"ROC curve of class {0} (area = {1:0.2f})\".format(best_model.classes_[i], roc_auc[i])\n",
    "    )\n",
    "\n",
    "\n",
    "plt.plot([0, 1], [0, 1], \"k--\", lw=lw)\n",
    "plt.xlim([0.0, 1.0])\n",
    "plt.ylim([0.0, 1.05])\n",
    "plt.xlabel(\"False Positive Rate\")\n",
    "plt.ylabel(\"True Positive Rate\")\n",
    "plt.title(\"ROC curves for classification\")\n",
    "plt.legend(loc=\"lower right\")\n",
    "plt.show()\n",
    "\n",
    "FILE_NAME = f\"DT_{best_model.get_depth()}_{MODEL_TIMESTAMP}.png\"\n",
    "\n",
    "plt.savefig(AUC_ROC_PATH + FILE_NAME, dpi = resolution)"
   ]
  },
  {
   "cell_type": "markdown",
   "id": "09c555b5-7466-465c-aad4-cc18f6138f83",
   "metadata": {},
   "source": [
    "Podemos observar cómo a medida que incrementamos el ratio de verdaderos positivos va aumentando el de falsos positivos.\n",
    "\n",
    "Este es un comportamiento natural, ya que, si queremos una probabilidad cercana a uno para clasificar una clase, existe el riesgo de clasificar el resto de clases erróneamente debido a que la clase objetivo es única, aumentando así el ratio de falsos positivos.\n",
    "\n",
    "Idealmente, en datos completamente separables y bien clasificados, al curva AUC debería adoptar un comportamiento muy cercano a cero en la tasa de falsos positivos cuando del valor en verdaderos positivos es cercano a 1."
   ]
  },
  {
   "cell_type": "markdown",
   "id": "287b2899-89b4-49c4-ac92-80a02381e1c3",
   "metadata": {},
   "source": [
    "# Decision Tree with GridSearch"
   ]
  },
  {
   "cell_type": "markdown",
   "id": "efb0d219-2a35-4aa7-a137-5d21f49aa304",
   "metadata": {},
   "source": [
    "En esta sección se buscarán los mejores parámetros mediante el método `GridSearch`, que tratará modificar los hiperparametros del árbol de clasificación con el objetivo de mejorar la precisión de los resultados.\n",
    "\n",
    "Debido a limitación de recursos, se ha acotado el espacio de búsqueda de hiperparámetros.\n",
    "\n",
    "Para la construcción del método `GridSearch` se utilizará un Pipeline que se compondrá de:\n",
    "- `PCA`: Análisis de componentes principales que obtendrá los parámetros correspondientes con respecto a la iteración de `GridSearch`\n",
    "- `DecisionTreeClassifier`: Árbol que se entrenará con los parámetros correspondientes a la iteración de `GridSearch`"
   ]
  },
  {
   "cell_type": "code",
   "execution_count": null,
   "id": "8a280160-2287-4ad7-840f-62f27961fb8e",
   "metadata": {},
   "outputs": [],
   "source": [
    "from sklearn import decomposition, datasets\n",
    "from sklearn import tree\n",
    "from sklearn.pipeline import Pipeline\n",
    "from sklearn.model_selection import GridSearchCV\n",
    "from sklearn.preprocessing import StandardScaler\n",
    "\n",
    "X = atp\n",
    "y = labels\n",
    "\n",
    "pca = decomposition.PCA()\n",
    "dec_tree = tree.DecisionTreeClassifier(random_state = 2)\n",
    "\n",
    "pipe = Pipeline(steps=[('pca', pca),\n",
    "                       ('dec_tree', dec_tree)])\n",
    "\n",
    "n_components = list(range(1, X.shape[1]+1, 1))\n",
    "\n",
    "criterion = ['gini', 'entropy']\n",
    "\n",
    "depths = list(range(3,12))\n",
    "min_impurity_decrease = [x/10000 for x in range(1, 900, 100)]\n",
    "min_samples_split = list(range(15, 35, 3))\n",
    "\n",
    "\n",
    "parameters = dict(pca__n_components = n_components,\n",
    "                  dec_tree__criterion = criterion,\n",
    "                  dec_tree__max_depth = depths,\n",
    "                  dec_tree__min_impurity_decrease = min_impurity_decrease,\n",
    "                  dec_tree__min_samples_split = min_samples_split)\n",
    "\n",
    "clf_GS = GridSearchCV(pipe, parameters)\n",
    "clf_GS.fit(X, y)\n",
    "\n",
    "best_criterion = clf_GS.best_estimator_.get_params()['dec_tree__criterion']\n",
    "best_max_depth = clf_GS.best_estimator_.get_params()['dec_tree__max_depth'] \n",
    "best_max_min_impurity_decrease = clf_GS.best_estimator_.get_params()['dec_tree__min_impurity_decrease'] \n",
    "best_min_samples_split = clf_GS.best_estimator_.get_params()['dec_tree__min_samples_split'] \n",
    "\n",
    "print('Best Criterion:', best_criterion)\n",
    "print('Best Max Depth:', best_max_depth)\n",
    "print('Best Max Min impurity decrease:', best_max_min_impurity_decrease)\n",
    "print('Best Min Samples Split:', best_min_samples_split)\n",
    "print('Best Number Of Components:', clf_GS.best_estimator_.get_params()['pca__n_components'])\n",
    "print(clf_GS.best_estimator_.get_params()['dec_tree'])"
   ]
  },
  {
   "cell_type": "markdown",
   "id": "5748b88f-3bd1-4970-9990-502ff268a05f",
   "metadata": {},
   "source": [
    "Observamos que los parámetros que mejor se ajustan al modelo con nuestro conjunto de datos son `criterion='entropy', max_depth=7`.\n",
    "\n",
    "Una vez hemos obtenido los parámetros que mejor minimizan el error de clasificación del árbol, entrenaremos el árbol con dichos parámetros mediante el método de validación cruzada."
   ]
  },
  {
   "cell_type": "code",
   "execution_count": null,
   "id": "8cfddcd9-364f-411e-acd2-06e64fbfbe25",
   "metadata": {},
   "outputs": [],
   "source": [
    "from sklearn.tree import DecisionTreeClassifier\n",
    "from sklearn.model_selection import KFold \n",
    "from sklearn import tree\n",
    "\n",
    "splits = 10\n",
    "\n",
    "cv = KFold(n_splits = splits, shuffle = True)\n",
    "\n",
    "best_accuracy = 0\n",
    "\n",
    "mean_score = 0.0\n",
    "for train_index, test_index in cv.split(atp):\n",
    "\n",
    "    x_train, y_train = atp.iloc[train_index], labels.iloc[train_index]\n",
    "    x_test, y_test   = atp.iloc[test_index],  labels.iloc[test_index]\n",
    "\n",
    "    model = DecisionTreeClassifier(criterion = best_criterion,\n",
    "                                   max_depth = best_max_depth,\n",
    "                                   random_state = 2)\n",
    "    model.fit(x_train, y_train)\n",
    "\n",
    "    accuracy = model.score(x_test,y_test)\n",
    "\n",
    "    mean_score = mean_score + accuracy\n",
    "\n",
    "\n",
    "mean_score = mean_score/splits\n",
    "\n",
    "print(\"Mean: \", mean_score)\n",
    "print(\"Done!\")"
   ]
  },
  {
   "cell_type": "markdown",
   "id": "6672f55d-3863-4c61-b0e0-ae41ecaa0820",
   "metadata": {},
   "source": [
    "## Tree plot"
   ]
  },
  {
   "cell_type": "markdown",
   "id": "590df86b-34c6-4230-acfe-66fc81140a4c",
   "metadata": {},
   "source": [
    "Mostraremos el árbol entrenado resultante con los parámetros escogidos por el método `GridSearch`."
   ]
  },
  {
   "cell_type": "code",
   "execution_count": null,
   "id": "90bef1e5-bded-4d90-bf12-74b671527777",
   "metadata": {
    "tags": []
   },
   "outputs": [],
   "source": [
    "plt.figure(figsize=(25,12))\n",
    "\n",
    "tree_plot = tree.plot_tree(best_model, fontsize = 8, feature_names = atp.columns)\n",
    "\n",
    "FILE_NAME = f\"gs_{best_criterion}_{best_max_depth}_tree_{MODEL_TIMESTAMP}\"\n",
    "\n",
    "plt.savefig(CLASSIFICATION_TREE_PATH + FILE_NAME, dpi = resolution)"
   ]
  },
  {
   "cell_type": "markdown",
   "id": "4a2fc9ec-ad42-41b0-adcb-48a4d021ac1d",
   "metadata": {},
   "source": [
    "Observamos que los primeros niveles son "
   ]
  },
  {
   "cell_type": "markdown",
   "id": "a23bd24a-6db8-4bb7-bd2e-1c99bad7cdf0",
   "metadata": {},
   "source": [
    "## Confusion Matrix"
   ]
  },
  {
   "cell_type": "markdown",
   "id": "5acd0034-500a-4afb-8f8d-ebeaf4791706",
   "metadata": {},
   "source": [
    "En esta sección analizaremos los resultados y las métricas obtenidas por el método `GridSearch`"
   ]
  },
  {
   "cell_type": "code",
   "execution_count": null,
   "id": "94990a8d-3f49-4c39-b3b2-183b95538c77",
   "metadata": {},
   "outputs": [],
   "source": [
    "from sklearn.metrics import ConfusionMatrixDisplay\n",
    "\n",
    "# Save Confusion Matrix image\n",
    "FILE_NAME = f\"gs_{best_criterion}_{best_max_depth}_cm_{MODEL_TIMESTAMP}\"\n",
    "\n",
    "confusion_matrix = ConfusionMatrixDisplay.from_estimator(best_model, x_test, y_test)\n",
    "confusion_matrix.figure_.savefig(CONFUSION_MATRIX_PATH + FILE_NAME, dpi = resolution)"
   ]
  },
  {
   "cell_type": "markdown",
   "id": "b89576a0-f45d-4875-b3a1-147a06836c53",
   "metadata": {},
   "source": [
    "Como en el caso de la matriz de confusión anterior, en el eje de las `x` tenemos los valores predecidos y en el eje de las `y` los valores verdaderos. Observamos que los resultados son ligeramente XX"
   ]
  },
  {
   "cell_type": "markdown",
   "id": "6a4cda44-aa4f-44d7-97ef-7c664b10f577",
   "metadata": {},
   "source": [
    "## Classification Report"
   ]
  },
  {
   "cell_type": "code",
   "execution_count": null,
   "id": "cf73cc84-86e7-455f-8ca5-01c8616f46a7",
   "metadata": {},
   "outputs": [],
   "source": [
    "from sklearn.metrics import classification_report\n",
    "\n",
    "# Save Classification Report csv\n",
    "FILE_NAME = f\"gs_{best_criterion}_{best_max_depth}_cr_{MODEL_TIMESTAMP}.csv\"\n",
    "\n",
    "y_pred = model.predict(x_test)\n",
    "report = classification_report(y_test, y_pred, output_dict = True)\n",
    "\n",
    "report_df = pd.DataFrame(report).transpose()\n",
    "report_df.to_csv(CLASSIFICATION_REPORTS_PATH + FILE_NAME, index= True)\n",
    "\n",
    "display(report_df.style.highlight_max(subset = ['precision', 'recall'], color='green')\\\n",
    "                       .highlight_min(subset = ['precision', 'recall'], color='red'))"
   ]
  },
  {
   "cell_type": "markdown",
   "id": "0a5a98b9-2b3c-4c1a-95e2-b8f7ac27f68a",
   "metadata": {},
   "source": [
    "Observamos que la menor `precisión` y el menor `recall` se manifiestan en la clasificación de pistas duras, mientras que obtenemos los máximos valores en pistas de tierra batida.\n",
    "\n",
    "Podemos concluir que con los datos disponibles, entrenando este clasificador no se han conseguido unos resultados muy prometedores respecto a los objetivos iniciales del proyecto."
   ]
  },
  {
   "cell_type": "markdown",
   "id": "c31e6c3c-5cce-420f-a4d7-243b19d6f2ba",
   "metadata": {},
   "source": [
    "## AUC-ROC Curve"
   ]
  },
  {
   "cell_type": "markdown",
   "id": "3c3ecbf9-bf63-48d2-bc1c-a7e22ee3bbbd",
   "metadata": {},
   "source": [
    "Al igual que en el apartado 7, mostraremos la curva AUC-ROC que nos permitirá comprender la separabilidad de las clases."
   ]
  },
  {
   "cell_type": "code",
   "execution_count": null,
   "id": "f2011dc1-8a9f-416c-a154-a425d1508a03",
   "metadata": {},
   "outputs": [],
   "source": [
    "from sklearn import metrics\n",
    "from sklearn.metrics import roc_curve, roc_auc_score, auc\n",
    "import numpy as np\n",
    "from itertools import cycle\n",
    "\n",
    "y_pred_proba = best_model.predict_proba(X_test)\n",
    "classes = best_model.classes_\n",
    "\n",
    "fpr = dict()\n",
    "tpr = dict()\n",
    "roc_auc = dict()\n",
    "\n",
    "for i, current_class in enumerate(classes):\n",
    "\n",
    "    fpr[i], tpr[i], _ = roc_curve(onehot_encoded[:,i], y_pred_proba[:,i])\n",
    "    roc_auc[i] = auc(fpr[i], tpr[i])\n",
    "\n",
    "# Compute micro-average ROC curve and ROC area\n",
    "fpr[\"micro\"], tpr[\"micro\"], _ = roc_curve(onehot_encoded.ravel(), y_pred_proba.ravel())\n",
    "roc_auc[\"micro\"] = auc(fpr[\"micro\"], tpr[\"micro\"])\n",
    "\n",
    "\n",
    "all_fpr = np.unique(np.concatenate([fpr[i] for i in range(classes_number)]))\n",
    "\n",
    "# Then interpolate all ROC curves at this points\n",
    "mean_tpr = np.zeros_like(all_fpr)\n",
    "for i, current_class in enumerate(classes):\n",
    "    mean_tpr += np.interp(all_fpr, fpr[i], tpr[i])\n",
    "\n",
    "# Finally average it and compute AUC\n",
    "mean_tpr /= len(classes)\n",
    "\n",
    "fpr[\"macro\"] = all_fpr\n",
    "tpr[\"macro\"] = mean_tpr\n",
    "roc_auc[\"macro\"] = auc(fpr[\"macro\"], tpr[\"macro\"])\n",
    "\n",
    "# Plot all ROC curves\n",
    "plt.figure(figsize=(25,12))\n",
    "\n",
    "plt.plot(\n",
    "    fpr[\"micro\"],\n",
    "    tpr[\"micro\"],\n",
    "    label=\"micro-average ROC curve (area = {0:0.2f})\".format(roc_auc[\"micro\"]),\n",
    "    color=\"deeppink\",\n",
    "    linestyle=\":\",\n",
    "    linewidth=4,\n",
    ")\n",
    "\n",
    "plt.plot(\n",
    "    fpr[\"macro\"],\n",
    "    tpr[\"macro\"],\n",
    "    label=\"macro-average ROC curve (area = {0:0.2f})\".format(roc_auc[\"macro\"]),\n",
    "    color=\"navy\",\n",
    "    linestyle=\":\",\n",
    "    linewidth=4,\n",
    ")\n",
    "\n",
    "for i in range(len(classes)):\n",
    "    plt.plot(\n",
    "        fpr[i],\n",
    "        tpr[i],\n",
    "        label = \"ROC curve of class {0} (area = {1:0.2f})\".format(best_model.classes_[i], roc_auc[i])\n",
    "    )\n",
    "\n",
    "\n",
    "plt.plot([0, 1], [0, 1], \"k--\", lw=lw)\n",
    "plt.xlim([0.0, 1.0])\n",
    "plt.ylim([0.0, 1.05])\n",
    "plt.xlabel(\"False Positive Rate\")\n",
    "plt.ylabel(\"True Positive Rate\")\n",
    "plt.title(\"ROC curves for classification\")\n",
    "plt.legend(loc=\"lower right\")\n",
    "plt.show()\n",
    "\n",
    "FILE_NAME = f\"GS_{best_model.get_depth()}_{MODEL_TIMESTAMP}.png\"\n",
    "\n",
    "plt.savefig(AUC_ROC_PATH + FILE_NAME, dpi = resolution)"
   ]
  },
  {
   "cell_type": "markdown",
   "id": "84cfe646-fb25-489e-b082-2d665550e9fa",
   "metadata": {},
   "source": [
    "Al igual que en el apartado anterior"
   ]
  },
  {
   "cell_type": "markdown",
   "id": "edcbbde3-bf84-47a5-a2da-ba3db5c2149e",
   "metadata": {},
   "source": [
    "# Conclusiones"
   ]
  },
  {
   "cell_type": "markdown",
   "id": "8b378ee6-18a3-4aee-b3a8-30d3a267b32f",
   "metadata": {},
   "source": [
    "En este proyecto hemos podido conocer las distintas técnicas que se pueden aplicar a la hora de construir árboles de decisión de clasificación.\n",
    "\n",
    "Se han podido testar distintos métodos de Resampling para entrenar árboles de distinta profundidad y se han aplicado técnicas de búsqueda de hiperparámetros que tratan de minimizar el error producido en la predicción de las muestras.\n",
    "\n",
    "Como futuras líneas de investigación se propone aumentar el espacio de búsqueda de los hiperparámetros mediante el método GridSearch, o incluso utilizar soluciones como las de los algoritmos genéticos para la optimización de hiperparámetros, que logran reducir considerablemente el tiempo empleado mediante GridSearch encontrando una solución aproximada a la óptima ya que utilizan funciones de pérdida heurísticas, en lugar de tener un comportamiento computacionalmente exponencial como es el caso del GridSearch al utilizar una búsqueda voraz."
   ]
  }
 ],
 "metadata": {
  "kernelspec": {
   "display_name": "Python [conda env:TFM]",
   "language": "python",
   "name": "conda-env-TFM-py"
  },
  "language_info": {
   "codemirror_mode": {
    "name": "ipython",
    "version": 3
   },
   "file_extension": ".py",
   "mimetype": "text/x-python",
   "name": "python",
   "nbconvert_exporter": "python",
   "pygments_lexer": "ipython3",
   "version": "3.9.11"
  },
  "toc-autonumbering": true
 },
 "nbformat": 4,
 "nbformat_minor": 5
}
