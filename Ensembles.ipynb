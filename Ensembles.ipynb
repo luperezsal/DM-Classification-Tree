{
 "cells": [
  {
   "cell_type": "code",
   "execution_count": 1,
   "id": "ccab947b-1d28-4bae-abd8-2bef753a2938",
   "metadata": {},
   "outputs": [],
   "source": [
    "import pandas as pd\n",
    "import matplotlib.pyplot as plt\n",
    "from matplotlib.pyplot import figure\n",
    "import time"
   ]
  },
  {
   "cell_type": "markdown",
   "id": "2aeda454-9a4e-4559-a05e-d8958a3d4a29",
   "metadata": {
    "tags": []
   },
   "source": [
    "# Directory and version specifications"
   ]
  },
  {
   "cell_type": "code",
   "execution_count": 2,
   "id": "8f9bf6d8-08cf-4af9-8cbd-6ec5d9984f0b",
   "metadata": {},
   "outputs": [],
   "source": [
    "from datetime import datetime\n",
    "\n",
    "MODEL_TIMESTAMP = datetime.now().strftime(\"%Y-%m-%d__%H-%M-%S\")\n",
    "\n",
    "DATA_PATH = 'data/'\n",
    "\n",
    "REPORTS_PATH = 'reports/ensembles/'\n",
    "SAMPLE_GRAPH_RESULTS_PATH  = 'sample_graph_result/ensembles/'\n",
    "TREE_PATH = 'tree/'\n",
    "\n",
    "# Resolución de imágenes\n",
    "resolution = 300"
   ]
  },
  {
   "cell_type": "markdown",
   "id": "92577280-1119-4820-a444-1ce13d51a94a",
   "metadata": {
    "tags": []
   },
   "source": [
    "# Download and Store Data"
   ]
  },
  {
   "cell_type": "code",
   "execution_count": 3,
   "id": "4faf1fdf-a7f9-4527-bc4a-4611f310a26b",
   "metadata": {
    "tags": []
   },
   "outputs": [],
   "source": [
    "# for index in range(0,22):\n",
    "#     index_str = str(index)\n",
    "\n",
    "#     print(index_str)\n",
    "    \n",
    "#     if len(index_str) == 1:\n",
    "#         index_str = '0' + index_str\n",
    "\n",
    "#     print(index_str)\n",
    "\n",
    "#     url = \"https://raw.githubusercontent.com/JeffSackmann/tennis_atp/master/atp_matches_20{}.csv\".format(index_str)\n",
    "#     print(url)\n",
    "\n",
    "#     FILE_NAME = \"atp_matches_20{}.csv\".format(index_str)\n",
    "\n",
    "#     df = pd.read_csv(url, index_col=0, parse_dates=[0])\n",
    "#     df.to_csv(DATA_PATH + FILE_NAME)\n",
    "\n",
    "# # data_frame = pd.read_csv(DATA_PATH + FILE_NAME)"
   ]
  },
  {
   "cell_type": "markdown",
   "id": "de9be64c-b60f-49c8-8802-dc324fadd1b9",
   "metadata": {
    "tags": [],
    "toc-hr-collapsed": true
   },
   "source": [
    "# Load Data"
   ]
  },
  {
   "cell_type": "code",
   "execution_count": 4,
   "id": "36bcc44e-01d8-4d83-adc5-cb58fbecb0ed",
   "metadata": {},
   "outputs": [
    {
     "data": {
      "text/html": [
       "<div>\n",
       "<style scoped>\n",
       "    .dataframe tbody tr th:only-of-type {\n",
       "        vertical-align: middle;\n",
       "    }\n",
       "\n",
       "    .dataframe tbody tr th {\n",
       "        vertical-align: top;\n",
       "    }\n",
       "\n",
       "    .dataframe thead th {\n",
       "        text-align: right;\n",
       "    }\n",
       "</style>\n",
       "<table border=\"1\" class=\"dataframe\">\n",
       "  <thead>\n",
       "    <tr style=\"text-align: right;\">\n",
       "      <th></th>\n",
       "      <th>tourney_id</th>\n",
       "      <th>tourney_name</th>\n",
       "      <th>surface</th>\n",
       "      <th>draw_size</th>\n",
       "      <th>tourney_level</th>\n",
       "      <th>tourney_date</th>\n",
       "      <th>match_num</th>\n",
       "      <th>winner_id</th>\n",
       "      <th>winner_seed</th>\n",
       "      <th>winner_entry</th>\n",
       "      <th>winner_name</th>\n",
       "      <th>winner_hand</th>\n",
       "      <th>winner_ht</th>\n",
       "      <th>winner_ioc</th>\n",
       "      <th>winner_age</th>\n",
       "      <th>loser_id</th>\n",
       "      <th>loser_seed</th>\n",
       "      <th>loser_entry</th>\n",
       "      <th>loser_name</th>\n",
       "      <th>loser_hand</th>\n",
       "      <th>loser_ht</th>\n",
       "      <th>loser_ioc</th>\n",
       "      <th>loser_age</th>\n",
       "      <th>score</th>\n",
       "      <th>best_of</th>\n",
       "      <th>round</th>\n",
       "      <th>minutes</th>\n",
       "      <th>w_ace</th>\n",
       "      <th>w_df</th>\n",
       "      <th>w_svpt</th>\n",
       "      <th>w_1stIn</th>\n",
       "      <th>w_1stWon</th>\n",
       "      <th>w_2ndWon</th>\n",
       "      <th>w_SvGms</th>\n",
       "      <th>w_bpSaved</th>\n",
       "      <th>w_bpFaced</th>\n",
       "      <th>l_ace</th>\n",
       "      <th>l_df</th>\n",
       "      <th>l_svpt</th>\n",
       "      <th>l_1stIn</th>\n",
       "      <th>l_1stWon</th>\n",
       "      <th>l_2ndWon</th>\n",
       "      <th>l_SvGms</th>\n",
       "      <th>l_bpSaved</th>\n",
       "      <th>l_bpFaced</th>\n",
       "      <th>winner_rank</th>\n",
       "      <th>winner_rank_points</th>\n",
       "      <th>loser_rank</th>\n",
       "      <th>loser_rank_points</th>\n",
       "    </tr>\n",
       "  </thead>\n",
       "  <tbody>\n",
       "    <tr>\n",
       "      <th>0</th>\n",
       "      <td>2000-301</td>\n",
       "      <td>Auckland</td>\n",
       "      <td>Hard</td>\n",
       "      <td>32</td>\n",
       "      <td>A</td>\n",
       "      <td>20000110</td>\n",
       "      <td>1</td>\n",
       "      <td>103163</td>\n",
       "      <td>1.0</td>\n",
       "      <td>NaN</td>\n",
       "      <td>Tommy Haas</td>\n",
       "      <td>R</td>\n",
       "      <td>188.0</td>\n",
       "      <td>GER</td>\n",
       "      <td>21.771389</td>\n",
       "      <td>101543</td>\n",
       "      <td>NaN</td>\n",
       "      <td>NaN</td>\n",
       "      <td>Jeff Tarango</td>\n",
       "      <td>L</td>\n",
       "      <td>180.0</td>\n",
       "      <td>USA</td>\n",
       "      <td>31.137577</td>\n",
       "      <td>7-5 4-6 7-5</td>\n",
       "      <td>3</td>\n",
       "      <td>R32</td>\n",
       "      <td>108.0</td>\n",
       "      <td>18.0</td>\n",
       "      <td>4.0</td>\n",
       "      <td>96.0</td>\n",
       "      <td>49.0</td>\n",
       "      <td>39.0</td>\n",
       "      <td>28.0</td>\n",
       "      <td>17.0</td>\n",
       "      <td>3.0</td>\n",
       "      <td>5.0</td>\n",
       "      <td>7.0</td>\n",
       "      <td>8.0</td>\n",
       "      <td>106.0</td>\n",
       "      <td>55.0</td>\n",
       "      <td>39.0</td>\n",
       "      <td>29.0</td>\n",
       "      <td>17.0</td>\n",
       "      <td>4.0</td>\n",
       "      <td>7.0</td>\n",
       "      <td>11.0</td>\n",
       "      <td>1612.0</td>\n",
       "      <td>63.0</td>\n",
       "      <td>595.0</td>\n",
       "    </tr>\n",
       "    <tr>\n",
       "      <th>1</th>\n",
       "      <td>2000-301</td>\n",
       "      <td>Auckland</td>\n",
       "      <td>Hard</td>\n",
       "      <td>32</td>\n",
       "      <td>A</td>\n",
       "      <td>20000110</td>\n",
       "      <td>2</td>\n",
       "      <td>102607</td>\n",
       "      <td>NaN</td>\n",
       "      <td>Q</td>\n",
       "      <td>Juan Balcells</td>\n",
       "      <td>R</td>\n",
       "      <td>190.0</td>\n",
       "      <td>ESP</td>\n",
       "      <td>24.558522</td>\n",
       "      <td>102644</td>\n",
       "      <td>NaN</td>\n",
       "      <td>NaN</td>\n",
       "      <td>Franco Squillari</td>\n",
       "      <td>L</td>\n",
       "      <td>183.0</td>\n",
       "      <td>ARG</td>\n",
       "      <td>24.386037</td>\n",
       "      <td>7-5 7-5</td>\n",
       "      <td>3</td>\n",
       "      <td>R32</td>\n",
       "      <td>85.0</td>\n",
       "      <td>5.0</td>\n",
       "      <td>3.0</td>\n",
       "      <td>76.0</td>\n",
       "      <td>52.0</td>\n",
       "      <td>39.0</td>\n",
       "      <td>13.0</td>\n",
       "      <td>12.0</td>\n",
       "      <td>5.0</td>\n",
       "      <td>6.0</td>\n",
       "      <td>5.0</td>\n",
       "      <td>10.0</td>\n",
       "      <td>74.0</td>\n",
       "      <td>32.0</td>\n",
       "      <td>25.0</td>\n",
       "      <td>18.0</td>\n",
       "      <td>12.0</td>\n",
       "      <td>3.0</td>\n",
       "      <td>6.0</td>\n",
       "      <td>211.0</td>\n",
       "      <td>157.0</td>\n",
       "      <td>49.0</td>\n",
       "      <td>723.0</td>\n",
       "    </tr>\n",
       "    <tr>\n",
       "      <th>2</th>\n",
       "      <td>2000-301</td>\n",
       "      <td>Auckland</td>\n",
       "      <td>Hard</td>\n",
       "      <td>32</td>\n",
       "      <td>A</td>\n",
       "      <td>20000110</td>\n",
       "      <td>3</td>\n",
       "      <td>103252</td>\n",
       "      <td>NaN</td>\n",
       "      <td>NaN</td>\n",
       "      <td>Alberto Martin</td>\n",
       "      <td>R</td>\n",
       "      <td>175.0</td>\n",
       "      <td>ESP</td>\n",
       "      <td>21.390828</td>\n",
       "      <td>102238</td>\n",
       "      <td>NaN</td>\n",
       "      <td>NaN</td>\n",
       "      <td>Alberto Berasategui</td>\n",
       "      <td>R</td>\n",
       "      <td>173.0</td>\n",
       "      <td>ESP</td>\n",
       "      <td>26.535250</td>\n",
       "      <td>6-3 6-1</td>\n",
       "      <td>3</td>\n",
       "      <td>R32</td>\n",
       "      <td>56.0</td>\n",
       "      <td>0.0</td>\n",
       "      <td>0.0</td>\n",
       "      <td>55.0</td>\n",
       "      <td>35.0</td>\n",
       "      <td>25.0</td>\n",
       "      <td>12.0</td>\n",
       "      <td>8.0</td>\n",
       "      <td>1.0</td>\n",
       "      <td>1.0</td>\n",
       "      <td>0.0</td>\n",
       "      <td>6.0</td>\n",
       "      <td>56.0</td>\n",
       "      <td>33.0</td>\n",
       "      <td>20.0</td>\n",
       "      <td>7.0</td>\n",
       "      <td>8.0</td>\n",
       "      <td>7.0</td>\n",
       "      <td>11.0</td>\n",
       "      <td>48.0</td>\n",
       "      <td>726.0</td>\n",
       "      <td>59.0</td>\n",
       "      <td>649.0</td>\n",
       "    </tr>\n",
       "    <tr>\n",
       "      <th>3</th>\n",
       "      <td>2000-301</td>\n",
       "      <td>Auckland</td>\n",
       "      <td>Hard</td>\n",
       "      <td>32</td>\n",
       "      <td>A</td>\n",
       "      <td>20000110</td>\n",
       "      <td>4</td>\n",
       "      <td>103507</td>\n",
       "      <td>7.0</td>\n",
       "      <td>NaN</td>\n",
       "      <td>Juan Carlos Ferrero</td>\n",
       "      <td>R</td>\n",
       "      <td>183.0</td>\n",
       "      <td>ESP</td>\n",
       "      <td>19.909651</td>\n",
       "      <td>103819</td>\n",
       "      <td>NaN</td>\n",
       "      <td>NaN</td>\n",
       "      <td>Roger Federer</td>\n",
       "      <td>R</td>\n",
       "      <td>185.0</td>\n",
       "      <td>SUI</td>\n",
       "      <td>18.422998</td>\n",
       "      <td>6-4 6-4</td>\n",
       "      <td>3</td>\n",
       "      <td>R32</td>\n",
       "      <td>68.0</td>\n",
       "      <td>5.0</td>\n",
       "      <td>1.0</td>\n",
       "      <td>53.0</td>\n",
       "      <td>28.0</td>\n",
       "      <td>26.0</td>\n",
       "      <td>15.0</td>\n",
       "      <td>10.0</td>\n",
       "      <td>0.0</td>\n",
       "      <td>0.0</td>\n",
       "      <td>11.0</td>\n",
       "      <td>2.0</td>\n",
       "      <td>70.0</td>\n",
       "      <td>43.0</td>\n",
       "      <td>29.0</td>\n",
       "      <td>14.0</td>\n",
       "      <td>10.0</td>\n",
       "      <td>6.0</td>\n",
       "      <td>8.0</td>\n",
       "      <td>45.0</td>\n",
       "      <td>768.0</td>\n",
       "      <td>61.0</td>\n",
       "      <td>616.0</td>\n",
       "    </tr>\n",
       "    <tr>\n",
       "      <th>4</th>\n",
       "      <td>2000-301</td>\n",
       "      <td>Auckland</td>\n",
       "      <td>Hard</td>\n",
       "      <td>32</td>\n",
       "      <td>A</td>\n",
       "      <td>20000110</td>\n",
       "      <td>5</td>\n",
       "      <td>102103</td>\n",
       "      <td>NaN</td>\n",
       "      <td>Q</td>\n",
       "      <td>Michael Sell</td>\n",
       "      <td>R</td>\n",
       "      <td>180.0</td>\n",
       "      <td>USA</td>\n",
       "      <td>27.381246</td>\n",
       "      <td>102765</td>\n",
       "      <td>4.0</td>\n",
       "      <td>NaN</td>\n",
       "      <td>Nicolas Escude</td>\n",
       "      <td>R</td>\n",
       "      <td>185.0</td>\n",
       "      <td>FRA</td>\n",
       "      <td>23.770021</td>\n",
       "      <td>0-6 7-6(7) 6-1</td>\n",
       "      <td>3</td>\n",
       "      <td>R32</td>\n",
       "      <td>115.0</td>\n",
       "      <td>1.0</td>\n",
       "      <td>2.0</td>\n",
       "      <td>98.0</td>\n",
       "      <td>66.0</td>\n",
       "      <td>39.0</td>\n",
       "      <td>14.0</td>\n",
       "      <td>13.0</td>\n",
       "      <td>6.0</td>\n",
       "      <td>11.0</td>\n",
       "      <td>8.0</td>\n",
       "      <td>8.0</td>\n",
       "      <td>92.0</td>\n",
       "      <td>46.0</td>\n",
       "      <td>34.0</td>\n",
       "      <td>18.0</td>\n",
       "      <td>12.0</td>\n",
       "      <td>5.0</td>\n",
       "      <td>9.0</td>\n",
       "      <td>167.0</td>\n",
       "      <td>219.0</td>\n",
       "      <td>34.0</td>\n",
       "      <td>873.0</td>\n",
       "    </tr>\n",
       "    <tr>\n",
       "      <th>...</th>\n",
       "      <td>...</td>\n",
       "      <td>...</td>\n",
       "      <td>...</td>\n",
       "      <td>...</td>\n",
       "      <td>...</td>\n",
       "      <td>...</td>\n",
       "      <td>...</td>\n",
       "      <td>...</td>\n",
       "      <td>...</td>\n",
       "      <td>...</td>\n",
       "      <td>...</td>\n",
       "      <td>...</td>\n",
       "      <td>...</td>\n",
       "      <td>...</td>\n",
       "      <td>...</td>\n",
       "      <td>...</td>\n",
       "      <td>...</td>\n",
       "      <td>...</td>\n",
       "      <td>...</td>\n",
       "      <td>...</td>\n",
       "      <td>...</td>\n",
       "      <td>...</td>\n",
       "      <td>...</td>\n",
       "      <td>...</td>\n",
       "      <td>...</td>\n",
       "      <td>...</td>\n",
       "      <td>...</td>\n",
       "      <td>...</td>\n",
       "      <td>...</td>\n",
       "      <td>...</td>\n",
       "      <td>...</td>\n",
       "      <td>...</td>\n",
       "      <td>...</td>\n",
       "      <td>...</td>\n",
       "      <td>...</td>\n",
       "      <td>...</td>\n",
       "      <td>...</td>\n",
       "      <td>...</td>\n",
       "      <td>...</td>\n",
       "      <td>...</td>\n",
       "      <td>...</td>\n",
       "      <td>...</td>\n",
       "      <td>...</td>\n",
       "      <td>...</td>\n",
       "      <td>...</td>\n",
       "      <td>...</td>\n",
       "      <td>...</td>\n",
       "      <td>...</td>\n",
       "      <td>...</td>\n",
       "    </tr>\n",
       "    <tr>\n",
       "      <th>2722</th>\n",
       "      <td>2021-M-DC-2021-WG2-M-THA-DEN-01</td>\n",
       "      <td>Davis Cup WG2 R1: THA vs DEN</td>\n",
       "      <td>Hard</td>\n",
       "      <td>4</td>\n",
       "      <td>D</td>\n",
       "      <td>20210917</td>\n",
       "      <td>4</td>\n",
       "      <td>200416</td>\n",
       "      <td>NaN</td>\n",
       "      <td>NaN</td>\n",
       "      <td>August Holmgren</td>\n",
       "      <td>R</td>\n",
       "      <td>NaN</td>\n",
       "      <td>DEN</td>\n",
       "      <td>23.394935</td>\n",
       "      <td>106397</td>\n",
       "      <td>NaN</td>\n",
       "      <td>NaN</td>\n",
       "      <td>Wishaya Trongcharoenchaikul</td>\n",
       "      <td>R</td>\n",
       "      <td>NaN</td>\n",
       "      <td>THA</td>\n",
       "      <td>26.433949</td>\n",
       "      <td>6-4 6-4</td>\n",
       "      <td>3</td>\n",
       "      <td>RR</td>\n",
       "      <td>90.0</td>\n",
       "      <td>3.0</td>\n",
       "      <td>3.0</td>\n",
       "      <td>52.0</td>\n",
       "      <td>29.0</td>\n",
       "      <td>22.0</td>\n",
       "      <td>16.0</td>\n",
       "      <td>10.0</td>\n",
       "      <td>0.0</td>\n",
       "      <td>1.0</td>\n",
       "      <td>8.0</td>\n",
       "      <td>2.0</td>\n",
       "      <td>79.0</td>\n",
       "      <td>45.0</td>\n",
       "      <td>30.0</td>\n",
       "      <td>14.0</td>\n",
       "      <td>10.0</td>\n",
       "      <td>10.0</td>\n",
       "      <td>13.0</td>\n",
       "      <td>905.0</td>\n",
       "      <td>16.0</td>\n",
       "      <td>767.0</td>\n",
       "      <td>27.0</td>\n",
       "    </tr>\n",
       "    <tr>\n",
       "      <th>2723</th>\n",
       "      <td>2021-M-DC-2021-WG2-M-THA-DEN-01</td>\n",
       "      <td>Davis Cup WG2 R1: THA vs DEN</td>\n",
       "      <td>Hard</td>\n",
       "      <td>4</td>\n",
       "      <td>D</td>\n",
       "      <td>20210917</td>\n",
       "      <td>5</td>\n",
       "      <td>208937</td>\n",
       "      <td>NaN</td>\n",
       "      <td>NaN</td>\n",
       "      <td>Kasidit Samrej</td>\n",
       "      <td>R</td>\n",
       "      <td>NaN</td>\n",
       "      <td>THA</td>\n",
       "      <td>20.629706</td>\n",
       "      <td>134087</td>\n",
       "      <td>NaN</td>\n",
       "      <td>NaN</td>\n",
       "      <td>Johannes Ingildsen</td>\n",
       "      <td>R</td>\n",
       "      <td>NaN</td>\n",
       "      <td>DEN</td>\n",
       "      <td>24.202601</td>\n",
       "      <td>7-5 6-3</td>\n",
       "      <td>3</td>\n",
       "      <td>RR</td>\n",
       "      <td>88.0</td>\n",
       "      <td>6.0</td>\n",
       "      <td>6.0</td>\n",
       "      <td>58.0</td>\n",
       "      <td>28.0</td>\n",
       "      <td>21.0</td>\n",
       "      <td>13.0</td>\n",
       "      <td>11.0</td>\n",
       "      <td>3.0</td>\n",
       "      <td>7.0</td>\n",
       "      <td>5.0</td>\n",
       "      <td>8.0</td>\n",
       "      <td>76.0</td>\n",
       "      <td>43.0</td>\n",
       "      <td>24.0</td>\n",
       "      <td>13.0</td>\n",
       "      <td>10.0</td>\n",
       "      <td>5.0</td>\n",
       "      <td>11.0</td>\n",
       "      <td>1136.0</td>\n",
       "      <td>8.0</td>\n",
       "      <td>1546.0</td>\n",
       "      <td>2.0</td>\n",
       "    </tr>\n",
       "    <tr>\n",
       "      <th>2724</th>\n",
       "      <td>2021-M-DC-2021-WG2-M-TUR-LAT-01</td>\n",
       "      <td>Davis Cup WG2 R1: TUR vs LAT</td>\n",
       "      <td>Hard</td>\n",
       "      <td>4</td>\n",
       "      <td>D</td>\n",
       "      <td>20210918</td>\n",
       "      <td>1</td>\n",
       "      <td>123795</td>\n",
       "      <td>NaN</td>\n",
       "      <td>NaN</td>\n",
       "      <td>Altug Celikbilek</td>\n",
       "      <td>U</td>\n",
       "      <td>NaN</td>\n",
       "      <td>TUR</td>\n",
       "      <td>25.015743</td>\n",
       "      <td>207669</td>\n",
       "      <td>NaN</td>\n",
       "      <td>NaN</td>\n",
       "      <td>Robert Strombachs</td>\n",
       "      <td>U</td>\n",
       "      <td>NaN</td>\n",
       "      <td>GER</td>\n",
       "      <td>21.995893</td>\n",
       "      <td>7-6(4) 6-4</td>\n",
       "      <td>3</td>\n",
       "      <td>RR</td>\n",
       "      <td>124.0</td>\n",
       "      <td>6.0</td>\n",
       "      <td>8.0</td>\n",
       "      <td>80.0</td>\n",
       "      <td>34.0</td>\n",
       "      <td>25.0</td>\n",
       "      <td>23.0</td>\n",
       "      <td>11.0</td>\n",
       "      <td>6.0</td>\n",
       "      <td>8.0</td>\n",
       "      <td>3.0</td>\n",
       "      <td>5.0</td>\n",
       "      <td>97.0</td>\n",
       "      <td>50.0</td>\n",
       "      <td>34.0</td>\n",
       "      <td>20.0</td>\n",
       "      <td>11.0</td>\n",
       "      <td>6.0</td>\n",
       "      <td>9.0</td>\n",
       "      <td>170.0</td>\n",
       "      <td>427.0</td>\n",
       "      <td>671.0</td>\n",
       "      <td>38.0</td>\n",
       "    </tr>\n",
       "    <tr>\n",
       "      <th>2725</th>\n",
       "      <td>2021-M-DC-2021-WG2-M-TUR-LAT-01</td>\n",
       "      <td>Davis Cup WG2 R1: TUR vs LAT</td>\n",
       "      <td>Hard</td>\n",
       "      <td>4</td>\n",
       "      <td>D</td>\n",
       "      <td>20210918</td>\n",
       "      <td>2</td>\n",
       "      <td>117356</td>\n",
       "      <td>NaN</td>\n",
       "      <td>NaN</td>\n",
       "      <td>Cem Ilkel</td>\n",
       "      <td>R</td>\n",
       "      <td>185.0</td>\n",
       "      <td>TUR</td>\n",
       "      <td>26.064339</td>\n",
       "      <td>105208</td>\n",
       "      <td>NaN</td>\n",
       "      <td>NaN</td>\n",
       "      <td>Ernests Gulbis</td>\n",
       "      <td>R</td>\n",
       "      <td>190.0</td>\n",
       "      <td>LAT</td>\n",
       "      <td>33.037645</td>\n",
       "      <td>6-4 6-1</td>\n",
       "      <td>3</td>\n",
       "      <td>RR</td>\n",
       "      <td>65.0</td>\n",
       "      <td>2.0</td>\n",
       "      <td>2.0</td>\n",
       "      <td>41.0</td>\n",
       "      <td>27.0</td>\n",
       "      <td>23.0</td>\n",
       "      <td>7.0</td>\n",
       "      <td>9.0</td>\n",
       "      <td>0.0</td>\n",
       "      <td>1.0</td>\n",
       "      <td>1.0</td>\n",
       "      <td>5.0</td>\n",
       "      <td>45.0</td>\n",
       "      <td>21.0</td>\n",
       "      <td>16.0</td>\n",
       "      <td>7.0</td>\n",
       "      <td>8.0</td>\n",
       "      <td>2.0</td>\n",
       "      <td>7.0</td>\n",
       "      <td>176.0</td>\n",
       "      <td>408.0</td>\n",
       "      <td>196.0</td>\n",
       "      <td>359.0</td>\n",
       "    </tr>\n",
       "    <tr>\n",
       "      <th>2726</th>\n",
       "      <td>2021-M-DC-2021-WG2-M-TUR-LAT-01</td>\n",
       "      <td>Davis Cup WG2 R1: TUR vs LAT</td>\n",
       "      <td>Hard</td>\n",
       "      <td>4</td>\n",
       "      <td>D</td>\n",
       "      <td>20210918</td>\n",
       "      <td>4</td>\n",
       "      <td>144985</td>\n",
       "      <td>NaN</td>\n",
       "      <td>NaN</td>\n",
       "      <td>Ergi Kirkin</td>\n",
       "      <td>R</td>\n",
       "      <td>NaN</td>\n",
       "      <td>TUR</td>\n",
       "      <td>22.628337</td>\n",
       "      <td>120270</td>\n",
       "      <td>NaN</td>\n",
       "      <td>NaN</td>\n",
       "      <td>Edgars Manusis</td>\n",
       "      <td>U</td>\n",
       "      <td>NaN</td>\n",
       "      <td>LAT</td>\n",
       "      <td>34.557153</td>\n",
       "      <td>6-1 6-2</td>\n",
       "      <td>3</td>\n",
       "      <td>RR</td>\n",
       "      <td>48.0</td>\n",
       "      <td>4.0</td>\n",
       "      <td>4.0</td>\n",
       "      <td>44.0</td>\n",
       "      <td>20.0</td>\n",
       "      <td>18.0</td>\n",
       "      <td>15.0</td>\n",
       "      <td>8.0</td>\n",
       "      <td>1.0</td>\n",
       "      <td>1.0</td>\n",
       "      <td>0.0</td>\n",
       "      <td>1.0</td>\n",
       "      <td>49.0</td>\n",
       "      <td>34.0</td>\n",
       "      <td>17.0</td>\n",
       "      <td>7.0</td>\n",
       "      <td>7.0</td>\n",
       "      <td>3.0</td>\n",
       "      <td>7.0</td>\n",
       "      <td>311.0</td>\n",
       "      <td>166.0</td>\n",
       "      <td>NaN</td>\n",
       "      <td>NaN</td>\n",
       "    </tr>\n",
       "  </tbody>\n",
       "</table>\n",
       "<p>65894 rows × 49 columns</p>\n",
       "</div>"
      ],
      "text/plain": [
       "                           tourney_id                  tourney_name surface  \\\n",
       "0                            2000-301                      Auckland    Hard   \n",
       "1                            2000-301                      Auckland    Hard   \n",
       "2                            2000-301                      Auckland    Hard   \n",
       "3                            2000-301                      Auckland    Hard   \n",
       "4                            2000-301                      Auckland    Hard   \n",
       "...                               ...                           ...     ...   \n",
       "2722  2021-M-DC-2021-WG2-M-THA-DEN-01  Davis Cup WG2 R1: THA vs DEN    Hard   \n",
       "2723  2021-M-DC-2021-WG2-M-THA-DEN-01  Davis Cup WG2 R1: THA vs DEN    Hard   \n",
       "2724  2021-M-DC-2021-WG2-M-TUR-LAT-01  Davis Cup WG2 R1: TUR vs LAT    Hard   \n",
       "2725  2021-M-DC-2021-WG2-M-TUR-LAT-01  Davis Cup WG2 R1: TUR vs LAT    Hard   \n",
       "2726  2021-M-DC-2021-WG2-M-TUR-LAT-01  Davis Cup WG2 R1: TUR vs LAT    Hard   \n",
       "\n",
       "      draw_size tourney_level  tourney_date  match_num  winner_id  \\\n",
       "0            32             A      20000110          1     103163   \n",
       "1            32             A      20000110          2     102607   \n",
       "2            32             A      20000110          3     103252   \n",
       "3            32             A      20000110          4     103507   \n",
       "4            32             A      20000110          5     102103   \n",
       "...         ...           ...           ...        ...        ...   \n",
       "2722          4             D      20210917          4     200416   \n",
       "2723          4             D      20210917          5     208937   \n",
       "2724          4             D      20210918          1     123795   \n",
       "2725          4             D      20210918          2     117356   \n",
       "2726          4             D      20210918          4     144985   \n",
       "\n",
       "      winner_seed winner_entry          winner_name winner_hand  winner_ht  \\\n",
       "0             1.0          NaN           Tommy Haas           R      188.0   \n",
       "1             NaN            Q        Juan Balcells           R      190.0   \n",
       "2             NaN          NaN       Alberto Martin           R      175.0   \n",
       "3             7.0          NaN  Juan Carlos Ferrero           R      183.0   \n",
       "4             NaN            Q         Michael Sell           R      180.0   \n",
       "...           ...          ...                  ...         ...        ...   \n",
       "2722          NaN          NaN      August Holmgren           R        NaN   \n",
       "2723          NaN          NaN       Kasidit Samrej           R        NaN   \n",
       "2724          NaN          NaN     Altug Celikbilek           U        NaN   \n",
       "2725          NaN          NaN            Cem Ilkel           R      185.0   \n",
       "2726          NaN          NaN          Ergi Kirkin           R        NaN   \n",
       "\n",
       "     winner_ioc  winner_age  loser_id  loser_seed loser_entry  \\\n",
       "0           GER   21.771389    101543         NaN         NaN   \n",
       "1           ESP   24.558522    102644         NaN         NaN   \n",
       "2           ESP   21.390828    102238         NaN         NaN   \n",
       "3           ESP   19.909651    103819         NaN         NaN   \n",
       "4           USA   27.381246    102765         4.0         NaN   \n",
       "...         ...         ...       ...         ...         ...   \n",
       "2722        DEN   23.394935    106397         NaN         NaN   \n",
       "2723        THA   20.629706    134087         NaN         NaN   \n",
       "2724        TUR   25.015743    207669         NaN         NaN   \n",
       "2725        TUR   26.064339    105208         NaN         NaN   \n",
       "2726        TUR   22.628337    120270         NaN         NaN   \n",
       "\n",
       "                       loser_name loser_hand  loser_ht loser_ioc  loser_age  \\\n",
       "0                    Jeff Tarango          L     180.0       USA  31.137577   \n",
       "1                Franco Squillari          L     183.0       ARG  24.386037   \n",
       "2             Alberto Berasategui          R     173.0       ESP  26.535250   \n",
       "3                   Roger Federer          R     185.0       SUI  18.422998   \n",
       "4                  Nicolas Escude          R     185.0       FRA  23.770021   \n",
       "...                           ...        ...       ...       ...        ...   \n",
       "2722  Wishaya Trongcharoenchaikul          R       NaN       THA  26.433949   \n",
       "2723           Johannes Ingildsen          R       NaN       DEN  24.202601   \n",
       "2724            Robert Strombachs          U       NaN       GER  21.995893   \n",
       "2725               Ernests Gulbis          R     190.0       LAT  33.037645   \n",
       "2726               Edgars Manusis          U       NaN       LAT  34.557153   \n",
       "\n",
       "               score  best_of round  minutes  w_ace  w_df  w_svpt  w_1stIn  \\\n",
       "0        7-5 4-6 7-5        3   R32    108.0   18.0   4.0    96.0     49.0   \n",
       "1            7-5 7-5        3   R32     85.0    5.0   3.0    76.0     52.0   \n",
       "2            6-3 6-1        3   R32     56.0    0.0   0.0    55.0     35.0   \n",
       "3            6-4 6-4        3   R32     68.0    5.0   1.0    53.0     28.0   \n",
       "4     0-6 7-6(7) 6-1        3   R32    115.0    1.0   2.0    98.0     66.0   \n",
       "...              ...      ...   ...      ...    ...   ...     ...      ...   \n",
       "2722         6-4 6-4        3    RR     90.0    3.0   3.0    52.0     29.0   \n",
       "2723         7-5 6-3        3    RR     88.0    6.0   6.0    58.0     28.0   \n",
       "2724      7-6(4) 6-4        3    RR    124.0    6.0   8.0    80.0     34.0   \n",
       "2725         6-4 6-1        3    RR     65.0    2.0   2.0    41.0     27.0   \n",
       "2726         6-1 6-2        3    RR     48.0    4.0   4.0    44.0     20.0   \n",
       "\n",
       "      w_1stWon  w_2ndWon  w_SvGms  w_bpSaved  w_bpFaced  l_ace  l_df  l_svpt  \\\n",
       "0         39.0      28.0     17.0        3.0        5.0    7.0   8.0   106.0   \n",
       "1         39.0      13.0     12.0        5.0        6.0    5.0  10.0    74.0   \n",
       "2         25.0      12.0      8.0        1.0        1.0    0.0   6.0    56.0   \n",
       "3         26.0      15.0     10.0        0.0        0.0   11.0   2.0    70.0   \n",
       "4         39.0      14.0     13.0        6.0       11.0    8.0   8.0    92.0   \n",
       "...        ...       ...      ...        ...        ...    ...   ...     ...   \n",
       "2722      22.0      16.0     10.0        0.0        1.0    8.0   2.0    79.0   \n",
       "2723      21.0      13.0     11.0        3.0        7.0    5.0   8.0    76.0   \n",
       "2724      25.0      23.0     11.0        6.0        8.0    3.0   5.0    97.0   \n",
       "2725      23.0       7.0      9.0        0.0        1.0    1.0   5.0    45.0   \n",
       "2726      18.0      15.0      8.0        1.0        1.0    0.0   1.0    49.0   \n",
       "\n",
       "      l_1stIn  l_1stWon  l_2ndWon  l_SvGms  l_bpSaved  l_bpFaced  winner_rank  \\\n",
       "0        55.0      39.0      29.0     17.0        4.0        7.0         11.0   \n",
       "1        32.0      25.0      18.0     12.0        3.0        6.0        211.0   \n",
       "2        33.0      20.0       7.0      8.0        7.0       11.0         48.0   \n",
       "3        43.0      29.0      14.0     10.0        6.0        8.0         45.0   \n",
       "4        46.0      34.0      18.0     12.0        5.0        9.0        167.0   \n",
       "...       ...       ...       ...      ...        ...        ...          ...   \n",
       "2722     45.0      30.0      14.0     10.0       10.0       13.0        905.0   \n",
       "2723     43.0      24.0      13.0     10.0        5.0       11.0       1136.0   \n",
       "2724     50.0      34.0      20.0     11.0        6.0        9.0        170.0   \n",
       "2725     21.0      16.0       7.0      8.0        2.0        7.0        176.0   \n",
       "2726     34.0      17.0       7.0      7.0        3.0        7.0        311.0   \n",
       "\n",
       "      winner_rank_points  loser_rank  loser_rank_points  \n",
       "0                 1612.0        63.0              595.0  \n",
       "1                  157.0        49.0              723.0  \n",
       "2                  726.0        59.0              649.0  \n",
       "3                  768.0        61.0              616.0  \n",
       "4                  219.0        34.0              873.0  \n",
       "...                  ...         ...                ...  \n",
       "2722                16.0       767.0               27.0  \n",
       "2723                 8.0      1546.0                2.0  \n",
       "2724               427.0       671.0               38.0  \n",
       "2725               408.0       196.0              359.0  \n",
       "2726               166.0         NaN                NaN  \n",
       "\n",
       "[65894 rows x 49 columns]"
      ]
     },
     "execution_count": 4,
     "metadata": {},
     "output_type": "execute_result"
    }
   ],
   "source": [
    "atp = pd.DataFrame()\n",
    "\n",
    "years_index_20_22 = range(0,22)\n",
    "\n",
    "for index in years_index_20_22:\n",
    "    index_str = str(index)\n",
    "\n",
    "    if len(index_str) == 1:\n",
    "        index_str = '0' + index_str\n",
    "\n",
    "    FILE_NAME = \"atp_matches_20{}.csv\".format(index_str)\n",
    "\n",
    "    data_frame_iter = pd.read_csv(DATA_PATH + FILE_NAME)\n",
    "    atp = pd.concat([atp, data_frame_iter])\n",
    "\n",
    "pd.set_option('display.max_columns', None)\n",
    "atp"
   ]
  },
  {
   "cell_type": "code",
   "execution_count": 5,
   "id": "09d4c6c7-2c29-446d-9572-41a8fea23773",
   "metadata": {},
   "outputs": [],
   "source": [
    "# COLUMNS_TO_REMOVE = [\"tourney_id\", \"tourney_name\", \"tourney_date\",\n",
    "#                      \"match_num\",\n",
    "#                      \"winner_id\", \"loser_id\",\n",
    "#                      \"winner_seed\", \"loser_seed\",\n",
    "#                      \"winner_name\", \"loser_name\",\n",
    "#                      \"winner_ioc\", \"loser_loc\",\n",
    "#                      \"winner_rank\", \"loser_rank\",\n",
    "#                      \"winner_rank_points\", \"loser_rank_points\",\n",
    "#                      \"round\"]"
   ]
  },
  {
   "cell_type": "markdown",
   "id": "b3ff7131-e80b-4469-8a40-1819c0fbb188",
   "metadata": {
    "jp-MarkdownHeadingCollapsed": true,
    "tags": []
   },
   "source": [
    "# Clean Dataset"
   ]
  },
  {
   "cell_type": "code",
   "execution_count": 6,
   "id": "6009286a-0e1b-4a95-8891-5909a024889a",
   "metadata": {},
   "outputs": [],
   "source": [
    "# Vamos a eliminar las variables que son identificadores, nombres etc\n",
    "# Incluimos en el drop las siguientes variables que tienen muchos registros NaN\n",
    "# quitaremos las columna de score\n",
    "df_regression = atp\n",
    "\n",
    "\n",
    "COLUMNS_TO_REMOVE = ['tourney_id', 'tourney_name', 'tourney_date',\n",
    "                     'winner_name', 'loser_name',\n",
    "                     'winner_entry', 'loser_entry',\n",
    "                     'winner_seed', 'loser_seed',\n",
    "                     'winner_id', 'loser_id',\n",
    "                     'score']\n",
    "\n",
    "df_regression = df_regression.drop(COLUMNS_TO_REMOVE, axis = 1) \n",
    "df_regression = df_regression.dropna()\n",
    "df_regression = df_regression.drop_duplicates()\n",
    "\n",
    "# Crearemos dos formulas para calculos del ganador y el perdedor para evitar la correlación de estas variables, tambien haremos un drop de estas variables.\n",
    "df_regression['w_calculation'] = df_regression['w_svpt'] + df_regression['w_1stIn'] + df_regression['w_1stWon'] + df_regression['w_2ndWon'] + df_regression['w_SvGms']\n",
    "df_regression['l_calculation'] = df_regression['l_svpt'] + df_regression['l_1stIn'] + df_regression['l_1stWon'] + df_regression['l_2ndWon'] + df_regression['l_SvGms']\n",
    "\n",
    "df_regression = df_regression.drop(['w_svpt', 'w_1stIn', 'w_1stWon', 'w_2ndWon', 'w_SvGms', 'l_svpt', 'l_1stIn', 'l_1stWon', 'l_2ndWon', 'l_SvGms'], axis = 1) \n",
    "\n",
    "df_regression = df_regression._get_numeric_data() #drop non-numeric cols"
   ]
  },
  {
   "cell_type": "markdown",
   "id": "f38535d8-e492-465f-ac62-3e40cd2e96a4",
   "metadata": {
    "tags": []
   },
   "source": [
    "# Split Data"
   ]
  },
  {
   "cell_type": "code",
   "execution_count": 7,
   "id": "b56754f4-223f-4696-b3cb-4a55883d29a3",
   "metadata": {},
   "outputs": [],
   "source": [
    "from sklearn.model_selection import train_test_split\n",
    "\n",
    "X = df_regression.drop('minutes', axis = 1) \n",
    "y = df_regression['minutes']\n",
    "\n",
    "X_train, X_test, y_train, y_test = train_test_split(X, y, test_size = 0.2, random_state = 2)"
   ]
  },
  {
   "cell_type": "markdown",
   "id": "cdafddcb-5299-42ba-9e05-f3b43de99ab2",
   "metadata": {
    "tags": []
   },
   "source": [
    "# Ensembles"
   ]
  },
  {
   "cell_type": "markdown",
   "id": "b1dffbf6-f153-46c8-ad7b-a499cdc28c63",
   "metadata": {},
   "source": [
    "Los ensembles son técnicas que permiten combinar las predicciones de distintos modelos con el objetivo de aumentar la prediccción global de los resultados.\n",
    "En esta sección aplicaremos distintas técnicas de ensembles y ejecutaremos cada una de ellas al dataset, con el objetivo de predecir la duración de los partidos como se hizo en el apartado de Regresión:\n",
    "\n",
    "- Ensemble Bagging\n",
    "- Ensembles Boosting\n",
    "    - AdaBoost\n",
    "    - Gradient Boosting Regressor\n",
    "- Ensemble Stacking"
   ]
  },
  {
   "cell_type": "markdown",
   "id": "2257e811-c440-4d21-a5f5-4fc3fcc0c191",
   "metadata": {},
   "source": [
    "Lo primero será buscar el Árbol de regresión que más accuracy nos dé mediante cross-validation para usarlo en el proceso de Bagging."
   ]
  },
  {
   "cell_type": "code",
   "execution_count": 8,
   "id": "19d23313-2bda-4fb5-bffb-2970ffc9a380",
   "metadata": {},
   "outputs": [
    {
     "data": {
      "text/plain": [
       "DecisionTreeRegressor(criterion='absolute_error', max_depth=7, random_state=2)"
      ]
     },
     "execution_count": 8,
     "metadata": {},
     "output_type": "execute_result"
    }
   ],
   "source": [
    "from sklearn.tree import DecisionTreeRegressor\n",
    "from sklearn.metrics import mean_squared_error\n",
    "\n",
    "best_params = {'criterion': 'absolute_error',\n",
    "               'max_depth': 7,\n",
    "               'max_features': None,\n",
    "               'min_weight_fraction_leaf': 0.0,\n",
    "               'splitter': 'best'}\n",
    "\n",
    "decision_tree = DecisionTreeRegressor(random_state = 2)\n",
    "decision_tree.set_params(**best_params)"
   ]
  },
  {
   "cell_type": "markdown",
   "id": "74304559-dcb7-4c99-b609-351376a7349f",
   "metadata": {},
   "source": [
    "Inicializamos un diccionario `info` donde almacenaremos toda la información relacionada con los ensembles, sus resultados, su tiempo de ejecución, el nombre del ensemble, etc."
   ]
  },
  {
   "cell_type": "code",
   "execution_count": 9,
   "id": "0349d072-e752-4021-875b-893e1609a733",
   "metadata": {},
   "outputs": [],
   "source": [
    "info = {}"
   ]
  },
  {
   "cell_type": "markdown",
   "id": "0a586743-0b07-4456-9b62-b061729c931b",
   "metadata": {
    "tags": []
   },
   "source": [
    "## Bagging"
   ]
  },
  {
   "cell_type": "markdown",
   "id": "b2c6133e-e58a-4f1b-ac00-7203bd94690b",
   "metadata": {},
   "source": [
    "Bootstrap Aggregation o Bagging es una técnica que permite utilizar el resampling Bootstrap para consturir ensembles y poder utilizar varios conjuntos de datos para cada uno de los modelos pertenecientes a la arquitectura ensemble diseñada. Los modelos que se utilzarán en esta arquitectura serán todos el mismo, con la única diferencia de haberlos entrenado con distintos conjuntos de datos.\n",
    "\n",
    "En el caso de la regresión, esta técnica permite calcular la media de las prediccciones de cada uno de los modelos entrenados mediante Bootstrap para obtener un resultado final que dependa de todos los modelos.\n",
    "\n",
    "\n",
    "[Referencia](https://machinelearningmastery.com/bagging-ensemble-with-python/)"
   ]
  },
  {
   "cell_type": "markdown",
   "id": "d6a49d6f-22c9-420d-8f04-da5eaf558114",
   "metadata": {},
   "source": [
    "### Definition"
   ]
  },
  {
   "cell_type": "markdown",
   "id": "51b21808-87b5-421f-be0d-0c08ec4afec0",
   "metadata": {},
   "source": [
    "Crearemos un Ensemble de tipo Bagging con 10 estimadores, es decir, se entrenarán diez árboles de decisión que predecirán las muestras del conjunto de test y el resultado que ofrecerá será la media de todas las prediciones."
   ]
  },
  {
   "cell_type": "code",
   "execution_count": 10,
   "id": "e1390811-0357-429b-a71f-8c3400c615e1",
   "metadata": {},
   "outputs": [],
   "source": [
    "from sklearn.ensemble import BaggingRegressor\n",
    "\n",
    "MODEL_NAME = 'bagging'\n",
    "info[MODEL_NAME] = {}\n",
    "info[MODEL_NAME]['model_name'] = MODEL_NAME\n",
    "\n",
    "num_models = 10\n",
    "bagging = BaggingRegressor(decision_tree,\n",
    "                           n_estimators = num_models)"
   ]
  },
  {
   "cell_type": "markdown",
   "id": "ca65ebac-e0ef-499d-9e9a-3a586ae5757c",
   "metadata": {
    "tags": []
   },
   "source": [
    "### Training"
   ]
  },
  {
   "cell_type": "markdown",
   "id": "2306689e-130b-4603-bc7d-43c16624ce6d",
   "metadata": {},
   "source": [
    "Entrenamos el ensemble Bagging y almacenamos el tiempo de ejecución para analizar en apartados posteriores los rendimientos de los modelos."
   ]
  },
  {
   "cell_type": "code",
   "execution_count": 11,
   "id": "f7e51114-46dd-4d7f-b5cb-99c84bd4b604",
   "metadata": {},
   "outputs": [
    {
     "name": "stdout",
     "output_type": "stream",
     "text": [
      "Done in 496.9 (s)\n"
     ]
    }
   ],
   "source": [
    "start = time.time()\n",
    "\n",
    "bagging_regressor = bagging.fit(X_train, y_train)\n",
    "\n",
    "end = time.time()\n",
    "\n",
    "ellapsed_time = round(end - start, 2)\n",
    "\n",
    "info[MODEL_NAME]['time'] = ellapsed_time\n",
    "\n",
    "print(f\"Done in {ellapsed_time} (s)\")"
   ]
  },
  {
   "cell_type": "markdown",
   "id": "f4df4e70-1ef6-4cda-a9ca-71ae535e963a",
   "metadata": {},
   "source": [
    "### Metrics"
   ]
  },
  {
   "cell_type": "markdown",
   "id": "7f5bdd47-5a53-4898-baa9-0c518a2fce24",
   "metadata": {},
   "source": [
    "Las métricas que utilizaremos para medir los errores del modelos serán:\n",
    "- **Mean Squared Error (MSE)**:  error cuadrático medio, es la suma al cuadrado de los residuos dividido entre el número de muestras totales. Es deseable minimizar este estadístico.\n",
    "- **Root Mean Squared Error (RMSE)**: raíz del error cuadrático medio, es la raíz cuadrada de la suma de los residuos al cuadrado entre el número de muestras totales. Es deseable minimizar este estadístico.\n",
    "- **R-Squared**: indica la cantidad de varianza en los datos explicada por el modelo actual. Es deseable maximizar este estadístico."
   ]
  },
  {
   "cell_type": "code",
   "execution_count": 12,
   "id": "775f6ef1-2e12-49d3-bbc3-a5a658f5415e",
   "metadata": {},
   "outputs": [
    {
     "name": "stdout",
     "output_type": "stream",
     "text": [
      "MSE:  241.60690880531777\n",
      "RMSE:  15.543709621751102\n",
      "R-squared: 0.8595738710217888\n"
     ]
    }
   ],
   "source": [
    "y_pred = bagging_regressor.predict(X_test)\n",
    "\n",
    "mse = mean_squared_error(y_test, y_pred)\n",
    "info[MODEL_NAME]['mse'] = mse\n",
    "\n",
    "print(\"MSE: \", info[MODEL_NAME]['mse'])\n",
    "\n",
    "rmse = mean_squared_error(y_true  = y_test,\n",
    "                          y_pred  = y_pred,\n",
    "                          squared = False\n",
    "                        )\n",
    "info[MODEL_NAME]['rmse'] = rmse\n",
    "\n",
    "print(\"RMSE: \", info[MODEL_NAME]['rmse'])\n",
    "\n",
    "score = bagging_regressor.score(X_test, y_test)\n",
    "info[MODEL_NAME]['score'] = score\n",
    "\n",
    "print(\"R-squared:\", info[MODEL_NAME]['score']) "
   ]
  },
  {
   "cell_type": "markdown",
   "id": "f01f4ae2-914f-4687-afd5-f33671fa2adc",
   "metadata": {},
   "source": [
    "### Graphic Results"
   ]
  },
  {
   "cell_type": "markdown",
   "id": "fe8bf83f-2340-4f3e-947a-a4509cb7d771",
   "metadata": {},
   "source": [
    "A continuación graficaremos un ejemplo de cómo el modelo se ajusta a los valores verdaderos sobre las muestras del conjunto de test. Es deseable tener un modelo que prediga valores lo más cercanos posibles a las muestras verdaderas."
   ]
  },
  {
   "cell_type": "code",
   "execution_count": 20,
   "id": "772af943-2f7b-4bad-a9a6-9596c337ae5a",
   "metadata": {},
   "outputs": [
    {
     "ename": "FileNotFoundError",
     "evalue": "[Errno 2] No such file or directory: 'sample_graph_result/ensembles/gradientboost/gradientboost_2022-05-04__11-48-06.png'",
     "output_type": "error",
     "traceback": [
      "\u001b[0;31m---------------------------------------------------------------------------\u001b[0m",
      "\u001b[0;31mFileNotFoundError\u001b[0m                         Traceback (most recent call last)",
      "Input \u001b[0;32mIn [20]\u001b[0m, in \u001b[0;36m<cell line: 22>\u001b[0;34m()\u001b[0m\n\u001b[1;32m     19\u001b[0m FILE_NAME  \u001b[38;5;241m=\u001b[39m \u001b[38;5;124mf\u001b[39m\u001b[38;5;124m\"\u001b[39m\u001b[38;5;132;01m{\u001b[39;00mMODEL_NAME\u001b[38;5;132;01m}\u001b[39;00m\u001b[38;5;124m_\u001b[39m\u001b[38;5;132;01m{\u001b[39;00mMODEL_TIMESTAMP\u001b[38;5;132;01m}\u001b[39;00m\u001b[38;5;124m.png\u001b[39m\u001b[38;5;124m\"\u001b[39m\n\u001b[1;32m     21\u001b[0m plt\u001b[38;5;241m.\u001b[39mgrid(\u001b[38;5;28;01mTrue\u001b[39;00m)\n\u001b[0;32m---> 22\u001b[0m \u001b[43mplt\u001b[49m\u001b[38;5;241;43m.\u001b[39;49m\u001b[43msavefig\u001b[49m\u001b[43m(\u001b[49m\u001b[43mGRAPH_PATH\u001b[49m\u001b[43m \u001b[49m\u001b[38;5;241;43m+\u001b[39;49m\u001b[43m \u001b[49m\u001b[43mFILE_NAME\u001b[49m\u001b[43m,\u001b[49m\u001b[43m \u001b[49m\u001b[43mdpi\u001b[49m\u001b[43m \u001b[49m\u001b[38;5;241;43m=\u001b[39;49m\u001b[43m \u001b[49m\u001b[43mresolution\u001b[49m\u001b[43m)\u001b[49m\n\u001b[1;32m     23\u001b[0m plt\u001b[38;5;241m.\u001b[39mshow()\n",
      "File \u001b[0;32m~/anaconda3/envs/TFM/lib/python3.9/site-packages/matplotlib/pyplot.py:958\u001b[0m, in \u001b[0;36msavefig\u001b[0;34m(*args, **kwargs)\u001b[0m\n\u001b[1;32m    955\u001b[0m \u001b[38;5;129m@_copy_docstring_and_deprecators\u001b[39m(Figure\u001b[38;5;241m.\u001b[39msavefig)\n\u001b[1;32m    956\u001b[0m \u001b[38;5;28;01mdef\u001b[39;00m \u001b[38;5;21msavefig\u001b[39m(\u001b[38;5;241m*\u001b[39margs, \u001b[38;5;241m*\u001b[39m\u001b[38;5;241m*\u001b[39mkwargs):\n\u001b[1;32m    957\u001b[0m     fig \u001b[38;5;241m=\u001b[39m gcf()\n\u001b[0;32m--> 958\u001b[0m     res \u001b[38;5;241m=\u001b[39m \u001b[43mfig\u001b[49m\u001b[38;5;241;43m.\u001b[39;49m\u001b[43msavefig\u001b[49m\u001b[43m(\u001b[49m\u001b[38;5;241;43m*\u001b[39;49m\u001b[43margs\u001b[49m\u001b[43m,\u001b[49m\u001b[43m \u001b[49m\u001b[38;5;241;43m*\u001b[39;49m\u001b[38;5;241;43m*\u001b[39;49m\u001b[43mkwargs\u001b[49m\u001b[43m)\u001b[49m\n\u001b[1;32m    959\u001b[0m     fig\u001b[38;5;241m.\u001b[39mcanvas\u001b[38;5;241m.\u001b[39mdraw_idle()   \u001b[38;5;66;03m# need this if 'transparent=True' to reset colors\u001b[39;00m\n\u001b[1;32m    960\u001b[0m     \u001b[38;5;28;01mreturn\u001b[39;00m res\n",
      "File \u001b[0;32m~/anaconda3/envs/TFM/lib/python3.9/site-packages/matplotlib/figure.py:3019\u001b[0m, in \u001b[0;36mFigure.savefig\u001b[0;34m(self, fname, transparent, **kwargs)\u001b[0m\n\u001b[1;32m   3015\u001b[0m     \u001b[38;5;28;01mfor\u001b[39;00m ax \u001b[38;5;129;01min\u001b[39;00m \u001b[38;5;28mself\u001b[39m\u001b[38;5;241m.\u001b[39maxes:\n\u001b[1;32m   3016\u001b[0m         stack\u001b[38;5;241m.\u001b[39menter_context(\n\u001b[1;32m   3017\u001b[0m             ax\u001b[38;5;241m.\u001b[39mpatch\u001b[38;5;241m.\u001b[39m_cm_set(facecolor\u001b[38;5;241m=\u001b[39m\u001b[38;5;124m'\u001b[39m\u001b[38;5;124mnone\u001b[39m\u001b[38;5;124m'\u001b[39m, edgecolor\u001b[38;5;241m=\u001b[39m\u001b[38;5;124m'\u001b[39m\u001b[38;5;124mnone\u001b[39m\u001b[38;5;124m'\u001b[39m))\n\u001b[0;32m-> 3019\u001b[0m \u001b[38;5;28;43mself\u001b[39;49m\u001b[38;5;241;43m.\u001b[39;49m\u001b[43mcanvas\u001b[49m\u001b[38;5;241;43m.\u001b[39;49m\u001b[43mprint_figure\u001b[49m\u001b[43m(\u001b[49m\u001b[43mfname\u001b[49m\u001b[43m,\u001b[49m\u001b[43m \u001b[49m\u001b[38;5;241;43m*\u001b[39;49m\u001b[38;5;241;43m*\u001b[39;49m\u001b[43mkwargs\u001b[49m\u001b[43m)\u001b[49m\n",
      "File \u001b[0;32m~/anaconda3/envs/TFM/lib/python3.9/site-packages/matplotlib/backend_bases.py:2319\u001b[0m, in \u001b[0;36mFigureCanvasBase.print_figure\u001b[0;34m(self, filename, dpi, facecolor, edgecolor, orientation, format, bbox_inches, pad_inches, bbox_extra_artists, backend, **kwargs)\u001b[0m\n\u001b[1;32m   2315\u001b[0m \u001b[38;5;28;01mtry\u001b[39;00m:\n\u001b[1;32m   2316\u001b[0m     \u001b[38;5;66;03m# _get_renderer may change the figure dpi (as vector formats\u001b[39;00m\n\u001b[1;32m   2317\u001b[0m     \u001b[38;5;66;03m# force the figure dpi to 72), so we need to set it again here.\u001b[39;00m\n\u001b[1;32m   2318\u001b[0m     \u001b[38;5;28;01mwith\u001b[39;00m cbook\u001b[38;5;241m.\u001b[39m_setattr_cm(\u001b[38;5;28mself\u001b[39m\u001b[38;5;241m.\u001b[39mfigure, dpi\u001b[38;5;241m=\u001b[39mdpi):\n\u001b[0;32m-> 2319\u001b[0m         result \u001b[38;5;241m=\u001b[39m \u001b[43mprint_method\u001b[49m\u001b[43m(\u001b[49m\n\u001b[1;32m   2320\u001b[0m \u001b[43m            \u001b[49m\u001b[43mfilename\u001b[49m\u001b[43m,\u001b[49m\n\u001b[1;32m   2321\u001b[0m \u001b[43m            \u001b[49m\u001b[43mfacecolor\u001b[49m\u001b[38;5;241;43m=\u001b[39;49m\u001b[43mfacecolor\u001b[49m\u001b[43m,\u001b[49m\n\u001b[1;32m   2322\u001b[0m \u001b[43m            \u001b[49m\u001b[43medgecolor\u001b[49m\u001b[38;5;241;43m=\u001b[39;49m\u001b[43medgecolor\u001b[49m\u001b[43m,\u001b[49m\n\u001b[1;32m   2323\u001b[0m \u001b[43m            \u001b[49m\u001b[43morientation\u001b[49m\u001b[38;5;241;43m=\u001b[39;49m\u001b[43morientation\u001b[49m\u001b[43m,\u001b[49m\n\u001b[1;32m   2324\u001b[0m \u001b[43m            \u001b[49m\u001b[43mbbox_inches_restore\u001b[49m\u001b[38;5;241;43m=\u001b[39;49m\u001b[43m_bbox_inches_restore\u001b[49m\u001b[43m,\u001b[49m\n\u001b[1;32m   2325\u001b[0m \u001b[43m            \u001b[49m\u001b[38;5;241;43m*\u001b[39;49m\u001b[38;5;241;43m*\u001b[39;49m\u001b[43mkwargs\u001b[49m\u001b[43m)\u001b[49m\n\u001b[1;32m   2326\u001b[0m \u001b[38;5;28;01mfinally\u001b[39;00m:\n\u001b[1;32m   2327\u001b[0m     \u001b[38;5;28;01mif\u001b[39;00m bbox_inches \u001b[38;5;129;01mand\u001b[39;00m restore_bbox:\n",
      "File \u001b[0;32m~/anaconda3/envs/TFM/lib/python3.9/site-packages/matplotlib/backend_bases.py:1648\u001b[0m, in \u001b[0;36m_check_savefig_extra_args.<locals>.wrapper\u001b[0;34m(*args, **kwargs)\u001b[0m\n\u001b[1;32m   1640\u001b[0m     _api\u001b[38;5;241m.\u001b[39mwarn_deprecated(\n\u001b[1;32m   1641\u001b[0m         \u001b[38;5;124m'\u001b[39m\u001b[38;5;124m3.3\u001b[39m\u001b[38;5;124m'\u001b[39m, name\u001b[38;5;241m=\u001b[39mname, removal\u001b[38;5;241m=\u001b[39m\u001b[38;5;124m'\u001b[39m\u001b[38;5;124m3.6\u001b[39m\u001b[38;5;124m'\u001b[39m,\n\u001b[1;32m   1642\u001b[0m         message\u001b[38;5;241m=\u001b[39m\u001b[38;5;124m'\u001b[39m\u001b[38;5;132;01m%(name)s\u001b[39;00m\u001b[38;5;124m() got unexpected keyword argument \u001b[39m\u001b[38;5;124m\"\u001b[39m\u001b[38;5;124m'\u001b[39m\n\u001b[1;32m   1643\u001b[0m                 \u001b[38;5;241m+\u001b[39m arg \u001b[38;5;241m+\u001b[39m \u001b[38;5;124m'\u001b[39m\u001b[38;5;124m\"\u001b[39m\u001b[38;5;124m which is no longer supported as of \u001b[39m\u001b[38;5;124m'\u001b[39m\n\u001b[1;32m   1644\u001b[0m                 \u001b[38;5;124m'\u001b[39m\u001b[38;5;132;01m%(since)s\u001b[39;00m\u001b[38;5;124m and will become an error \u001b[39m\u001b[38;5;124m'\u001b[39m\n\u001b[1;32m   1645\u001b[0m                 \u001b[38;5;124m'\u001b[39m\u001b[38;5;132;01m%(removal)s\u001b[39;00m\u001b[38;5;124m'\u001b[39m)\n\u001b[1;32m   1646\u001b[0m     kwargs\u001b[38;5;241m.\u001b[39mpop(arg)\n\u001b[0;32m-> 1648\u001b[0m \u001b[38;5;28;01mreturn\u001b[39;00m \u001b[43mfunc\u001b[49m\u001b[43m(\u001b[49m\u001b[38;5;241;43m*\u001b[39;49m\u001b[43margs\u001b[49m\u001b[43m,\u001b[49m\u001b[43m \u001b[49m\u001b[38;5;241;43m*\u001b[39;49m\u001b[38;5;241;43m*\u001b[39;49m\u001b[43mkwargs\u001b[49m\u001b[43m)\u001b[49m\n",
      "File \u001b[0;32m~/anaconda3/envs/TFM/lib/python3.9/site-packages/matplotlib/_api/deprecation.py:412\u001b[0m, in \u001b[0;36mdelete_parameter.<locals>.wrapper\u001b[0;34m(*inner_args, **inner_kwargs)\u001b[0m\n\u001b[1;32m    402\u001b[0m     deprecation_addendum \u001b[38;5;241m=\u001b[39m (\n\u001b[1;32m    403\u001b[0m         \u001b[38;5;124mf\u001b[39m\u001b[38;5;124m\"\u001b[39m\u001b[38;5;124mIf any parameter follows \u001b[39m\u001b[38;5;132;01m{\u001b[39;00mname\u001b[38;5;132;01m!r}\u001b[39;00m\u001b[38;5;124m, they should be passed as \u001b[39m\u001b[38;5;124m\"\u001b[39m\n\u001b[1;32m    404\u001b[0m         \u001b[38;5;124mf\u001b[39m\u001b[38;5;124m\"\u001b[39m\u001b[38;5;124mkeyword, not positionally.\u001b[39m\u001b[38;5;124m\"\u001b[39m)\n\u001b[1;32m    405\u001b[0m     warn_deprecated(\n\u001b[1;32m    406\u001b[0m         since,\n\u001b[1;32m    407\u001b[0m         name\u001b[38;5;241m=\u001b[39m\u001b[38;5;28mrepr\u001b[39m(name),\n\u001b[0;32m   (...)\u001b[0m\n\u001b[1;32m    410\u001b[0m                  \u001b[38;5;28;01melse\u001b[39;00m deprecation_addendum,\n\u001b[1;32m    411\u001b[0m         \u001b[38;5;241m*\u001b[39m\u001b[38;5;241m*\u001b[39mkwargs)\n\u001b[0;32m--> 412\u001b[0m \u001b[38;5;28;01mreturn\u001b[39;00m \u001b[43mfunc\u001b[49m\u001b[43m(\u001b[49m\u001b[38;5;241;43m*\u001b[39;49m\u001b[43minner_args\u001b[49m\u001b[43m,\u001b[49m\u001b[43m \u001b[49m\u001b[38;5;241;43m*\u001b[39;49m\u001b[38;5;241;43m*\u001b[39;49m\u001b[43minner_kwargs\u001b[49m\u001b[43m)\u001b[49m\n",
      "File \u001b[0;32m~/anaconda3/envs/TFM/lib/python3.9/site-packages/matplotlib/backends/backend_agg.py:541\u001b[0m, in \u001b[0;36mFigureCanvasAgg.print_png\u001b[0;34m(self, filename_or_obj, metadata, pil_kwargs, *args)\u001b[0m\n\u001b[1;32m    494\u001b[0m \u001b[38;5;124;03m\"\"\"\u001b[39;00m\n\u001b[1;32m    495\u001b[0m \u001b[38;5;124;03mWrite the figure to a PNG file.\u001b[39;00m\n\u001b[1;32m    496\u001b[0m \n\u001b[0;32m   (...)\u001b[0m\n\u001b[1;32m    538\u001b[0m \u001b[38;5;124;03m    *metadata*, including the default 'Software' key.\u001b[39;00m\n\u001b[1;32m    539\u001b[0m \u001b[38;5;124;03m\"\"\"\u001b[39;00m\n\u001b[1;32m    540\u001b[0m FigureCanvasAgg\u001b[38;5;241m.\u001b[39mdraw(\u001b[38;5;28mself\u001b[39m)\n\u001b[0;32m--> 541\u001b[0m \u001b[43mmpl\u001b[49m\u001b[38;5;241;43m.\u001b[39;49m\u001b[43mimage\u001b[49m\u001b[38;5;241;43m.\u001b[39;49m\u001b[43mimsave\u001b[49m\u001b[43m(\u001b[49m\n\u001b[1;32m    542\u001b[0m \u001b[43m    \u001b[49m\u001b[43mfilename_or_obj\u001b[49m\u001b[43m,\u001b[49m\u001b[43m \u001b[49m\u001b[38;5;28;43mself\u001b[39;49m\u001b[38;5;241;43m.\u001b[39;49m\u001b[43mbuffer_rgba\u001b[49m\u001b[43m(\u001b[49m\u001b[43m)\u001b[49m\u001b[43m,\u001b[49m\u001b[43m \u001b[49m\u001b[38;5;28;43mformat\u001b[39;49m\u001b[38;5;241;43m=\u001b[39;49m\u001b[38;5;124;43m\"\u001b[39;49m\u001b[38;5;124;43mpng\u001b[39;49m\u001b[38;5;124;43m\"\u001b[39;49m\u001b[43m,\u001b[49m\u001b[43m \u001b[49m\u001b[43morigin\u001b[49m\u001b[38;5;241;43m=\u001b[39;49m\u001b[38;5;124;43m\"\u001b[39;49m\u001b[38;5;124;43mupper\u001b[39;49m\u001b[38;5;124;43m\"\u001b[39;49m\u001b[43m,\u001b[49m\n\u001b[1;32m    543\u001b[0m \u001b[43m    \u001b[49m\u001b[43mdpi\u001b[49m\u001b[38;5;241;43m=\u001b[39;49m\u001b[38;5;28;43mself\u001b[39;49m\u001b[38;5;241;43m.\u001b[39;49m\u001b[43mfigure\u001b[49m\u001b[38;5;241;43m.\u001b[39;49m\u001b[43mdpi\u001b[49m\u001b[43m,\u001b[49m\u001b[43m \u001b[49m\u001b[43mmetadata\u001b[49m\u001b[38;5;241;43m=\u001b[39;49m\u001b[43mmetadata\u001b[49m\u001b[43m,\u001b[49m\u001b[43m \u001b[49m\u001b[43mpil_kwargs\u001b[49m\u001b[38;5;241;43m=\u001b[39;49m\u001b[43mpil_kwargs\u001b[49m\u001b[43m)\u001b[49m\n",
      "File \u001b[0;32m~/anaconda3/envs/TFM/lib/python3.9/site-packages/matplotlib/image.py:1675\u001b[0m, in \u001b[0;36mimsave\u001b[0;34m(fname, arr, vmin, vmax, cmap, format, origin, dpi, metadata, pil_kwargs)\u001b[0m\n\u001b[1;32m   1673\u001b[0m pil_kwargs\u001b[38;5;241m.\u001b[39msetdefault(\u001b[38;5;124m\"\u001b[39m\u001b[38;5;124mformat\u001b[39m\u001b[38;5;124m\"\u001b[39m, \u001b[38;5;28mformat\u001b[39m)\n\u001b[1;32m   1674\u001b[0m pil_kwargs\u001b[38;5;241m.\u001b[39msetdefault(\u001b[38;5;124m\"\u001b[39m\u001b[38;5;124mdpi\u001b[39m\u001b[38;5;124m\"\u001b[39m, (dpi, dpi))\n\u001b[0;32m-> 1675\u001b[0m \u001b[43mimage\u001b[49m\u001b[38;5;241;43m.\u001b[39;49m\u001b[43msave\u001b[49m\u001b[43m(\u001b[49m\u001b[43mfname\u001b[49m\u001b[43m,\u001b[49m\u001b[43m \u001b[49m\u001b[38;5;241;43m*\u001b[39;49m\u001b[38;5;241;43m*\u001b[39;49m\u001b[43mpil_kwargs\u001b[49m\u001b[43m)\u001b[49m\n",
      "File \u001b[0;32m~/anaconda3/envs/TFM/lib/python3.9/site-packages/PIL/Image.py:2209\u001b[0m, in \u001b[0;36mImage.save\u001b[0;34m(self, fp, format, **params)\u001b[0m\n\u001b[1;32m   2207\u001b[0m         fp \u001b[38;5;241m=\u001b[39m builtins\u001b[38;5;241m.\u001b[39mopen(filename, \u001b[38;5;124m\"\u001b[39m\u001b[38;5;124mr+b\u001b[39m\u001b[38;5;124m\"\u001b[39m)\n\u001b[1;32m   2208\u001b[0m     \u001b[38;5;28;01melse\u001b[39;00m:\n\u001b[0;32m-> 2209\u001b[0m         fp \u001b[38;5;241m=\u001b[39m \u001b[43mbuiltins\u001b[49m\u001b[38;5;241;43m.\u001b[39;49m\u001b[43mopen\u001b[49m\u001b[43m(\u001b[49m\u001b[43mfilename\u001b[49m\u001b[43m,\u001b[49m\u001b[43m \u001b[49m\u001b[38;5;124;43m\"\u001b[39;49m\u001b[38;5;124;43mw+b\u001b[39;49m\u001b[38;5;124;43m\"\u001b[39;49m\u001b[43m)\u001b[49m\n\u001b[1;32m   2211\u001b[0m \u001b[38;5;28;01mtry\u001b[39;00m:\n\u001b[1;32m   2212\u001b[0m     save_handler(\u001b[38;5;28mself\u001b[39m, fp, filename)\n",
      "\u001b[0;31mFileNotFoundError\u001b[0m: [Errno 2] No such file or directory: 'sample_graph_result/ensembles/gradientboost/gradientboost_2022-05-04__11-48-06.png'"
     ]
    },
    {
     "data": {
      "image/png": "[encoded data removed]",
      "text/plain": [
       "<Figure size 1080x720 with 1 Axes>"
      ]
     },
     "metadata": {
      "needs_background": "light"
     },
     "output_type": "display_data"
    }
   ],
   "source": [
    "n_samples = range(len(y_test[:50]))\n",
    "\n",
    "info[MODEL_NAME]['y_pred'] = y_pred[:50]\n",
    "\n",
    "plt.figure(figsize=(15,10))\n",
    "\n",
    "plt.scatter(n_samples, y_test[:50], s = 15, color = 'red', label = \"original\")\n",
    "plt.plot(n_samples, y_pred[:50], linewidth = 1.1, color = 'blue', label = \"predicted\")\n",
    "\n",
    "plt.title(\"Y-true / Y-predicted (minutes)\")\n",
    "plt.xlabel('Sample')\n",
    "plt.ylabel('Minutes')\n",
    "\n",
    "plt.legend(loc = 'best',\n",
    "           fancybox = True,\n",
    "           shadow = True)\n",
    "\n",
    "GRAPH_PATH = f\"{SAMPLE_GRAPH_RESULTS_PATH}{MODEL_NAME}/\"\n",
    "FILE_NAME  = f\"{MODEL_NAME}_{MODEL_TIMESTAMP}.png\"\n",
    "\n",
    "plt.grid(True)\n",
    "plt.savefig(GRAPH_PATH + FILE_NAME, dpi = resolution)\n",
    "plt.show()"
   ]
  },
  {
   "cell_type": "markdown",
   "id": "023fbc1e-6134-43ec-aab8-49b36a54d866",
   "metadata": {
    "tags": [],
    "toc-hr-collapsed": true
   },
   "source": [
    "## Boosting"
   ]
  },
  {
   "cell_type": "markdown",
   "id": "c81d6fe3-6948-45d9-885f-7f19e6d9ab53",
   "metadata": {
    "tags": []
   },
   "source": [
    "### ADABoost"
   ]
  },
  {
   "cell_type": "markdown",
   "id": "a6081e4a-3ad9-4575-981f-30f0999f603d",
   "metadata": {},
   "source": [
    "AdaBoost utiliza múltiples weak learners (árboles de decisión de un nivel) que son agregados secuencialmente al conjunto de modelos, con el objetivo de que cada uno de estos árboles minimice el error producido por el anterior modelo.\n",
    "\n",
    "Esto se consigue asignando una serie de pesos (ponderación) a cada una de las muestras que estén clasificadas erróneamente (clasificación) o que tengan un error alto (regresión).\n",
    "\n",
    "[Referencia](https://machinelearningmastery.com/adaboost-ensemble-in-python/)"
   ]
  },
  {
   "cell_type": "markdown",
   "id": "a6caf0d8-ddef-4d77-a43a-f4bbe29611b9",
   "metadata": {},
   "source": [
    "#### Definition"
   ]
  },
  {
   "cell_type": "markdown",
   "id": "5068b429-841a-4bcc-9aac-02b968fbaab2",
   "metadata": {},
   "source": [
    "Crearemos un Ensemble de tipo AdaBoost con 10 estimadores, es decir, se entrenarán diez árboles de decisión que minimizarán el error de los anteriores árboles."
   ]
  },
  {
   "cell_type": "code",
   "execution_count": 14,
   "id": "9c50ae44-5864-4f1b-a170-bcb2d0e5a510",
   "metadata": {},
   "outputs": [],
   "source": [
    "from sklearn.ensemble import AdaBoostRegressor\n",
    "from sklearn.datasets import make_regression\n",
    "\n",
    "MODEL_NAME = 'adaboost'\n",
    "info[MODEL_NAME] = {}\n",
    "info[MODEL_NAME]['model_name'] = MODEL_NAME\n",
    "\n",
    "num_models = 10\n",
    "\n",
    "ada_boosting_regresor = AdaBoostRegressor(random_state = 2)"
   ]
  },
  {
   "cell_type": "markdown",
   "id": "f0da5018-8423-4475-aaaa-465ff47bd2a4",
   "metadata": {},
   "source": [
    "#### Training"
   ]
  },
  {
   "cell_type": "markdown",
   "id": "f9572c16-7245-46e0-a7bc-d4c34cf3b17b",
   "metadata": {},
   "source": [
    "Entrenamos el ensemble Ada Boost y anotamos el tiempo de ejecución."
   ]
  },
  {
   "cell_type": "code",
   "execution_count": 15,
   "id": "48fac670-6c27-40e0-a09b-012e4dc9066d",
   "metadata": {
    "tags": []
   },
   "outputs": [
    {
     "name": "stdout",
     "output_type": "stream",
     "text": [
      "Done in 6.84 (s)\n"
     ]
    }
   ],
   "source": [
    "start = time.time()\n",
    "\n",
    "ada_boosting_regresor.fit(X, y)\n",
    "\n",
    "end = time.time()\n",
    "\n",
    "ellapsed_time = round(end - start, 2)\n",
    "info[MODEL_NAME]['time'] = ellapsed_time\n",
    "\n",
    "print(f\"Done in {ellapsed_time} (s)\")"
   ]
  },
  {
   "cell_type": "markdown",
   "id": "697be3c5-d30c-4237-b998-f154ecbf93e8",
   "metadata": {},
   "source": [
    "#### Metrics"
   ]
  },
  {
   "cell_type": "markdown",
   "id": "f6058aba-fab1-461b-a365-9ef904db9b2c",
   "metadata": {},
   "source": [
    "Calculamos los estadísticos **MSE**, **RMSE** y **R-Squared**."
   ]
  },
  {
   "cell_type": "code",
   "execution_count": 16,
   "id": "e4a15509-5457-4206-8a8c-a61d679f1e0b",
   "metadata": {},
   "outputs": [
    {
     "name": "stdout",
     "output_type": "stream",
     "text": [
      "MSE:  475.22022445638095\n",
      "RMSE:  21.799546427767275\n",
      "R-squared: 0.7237937571299393\n"
     ]
    }
   ],
   "source": [
    "y_pred = ada_boosting_regresor.predict(X_test)\n",
    "\n",
    "mse = mean_squared_error(y_test, y_pred)\n",
    "info[MODEL_NAME]['mse'] = mse\n",
    "\n",
    "print(\"MSE: \", info[MODEL_NAME]['mse'])\n",
    "\n",
    "rmse = mean_squared_error(y_true  = y_test,\n",
    "                          y_pred  = y_pred,\n",
    "                          squared = False\n",
    "                        )\n",
    "info[MODEL_NAME]['rmse'] = rmse\n",
    "\n",
    "print(\"RMSE: \", info[MODEL_NAME]['rmse'])\n",
    "\n",
    "score = ada_boosting_regresor.score(X_test, y_test)\n",
    "info[MODEL_NAME]['score'] = score\n",
    "\n",
    "print(\"R-squared:\", info[MODEL_NAME]['score']) "
   ]
  },
  {
   "cell_type": "markdown",
   "id": "fae821b1-8b65-42c7-98fd-b06491af3d5a",
   "metadata": {},
   "source": [
    "#### Graphic Results"
   ]
  },
  {
   "cell_type": "markdown",
   "id": "a917ff00-50db-4b7c-adba-6fb608f4bd6a",
   "metadata": {},
   "source": [
    "Graficamos un interavalo de predicciones de 50 muestras de test."
   ]
  },
  {
   "cell_type": "code",
   "execution_count": 17,
   "id": "aa14e503-b8c9-4d23-9e58-c5fa90c9c4f0",
   "metadata": {},
   "outputs": [
    {
     "data": {
      "image/png": "[encoded data removed]",
      "text/plain": [
       "<Figure size 1080x720 with 1 Axes>"
      ]
     },
     "metadata": {
      "needs_background": "light"
     },
     "output_type": "display_data"
    }
   ],
   "source": [
    "n_samples = range(len(y_test[:50]))\n",
    "\n",
    "info[MODEL_NAME]['y_pred'] = y_pred[:50]\n",
    "\n",
    "plt.figure(figsize=(15,10))\n",
    "\n",
    "plt.scatter(n_samples, y_test[:50], s = 15, color = 'red', label = \"original\")\n",
    "plt.plot(n_samples, y_pred[:50], linewidth = 1.1, color = 'blue', label = \"predicted\")\n",
    "\n",
    "plt.title(\"Y-true / Y-predicted (minutes)\")\n",
    "plt.xlabel('Sample')\n",
    "plt.ylabel('Minutes')\n",
    "\n",
    "plt.legend(loc='best',fancybox = True, shadow = True)\n",
    "\n",
    "GRAPH_PATH = f\"{SAMPLE_GRAPH_RESULTS_PATH}boosting/{MODEL_NAME}/\"\n",
    "FILE_NAME  = f\"{MODEL_NAME}_{MODEL_TIMESTAMP}.png\"\n",
    "\n",
    "plt.grid(True)\n",
    "plt.savefig(GRAPH_PATH + FILE_NAME, dpi = 100)\n",
    "plt.show()"
   ]
  },
  {
   "cell_type": "markdown",
   "id": "2b17d864-2e66-4b32-a993-795a3ea492d8",
   "metadata": {
    "tags": []
   },
   "source": [
    "### Gradient Boosting Regressor"
   ]
  },
  {
   "cell_type": "markdown",
   "id": "b60a316c-0652-4bf6-8f82-dcdb794ed2d6",
   "metadata": {},
   "source": [
    "Al igual que en el caso del AdaBoost, utiliza la técnica Boosting para entrenar los modelos, es decir, trata de minimizar los residuos de los modelos anteriores. Sin embargo, utiliza el método de Descenso por Gradiente en lugar de la asignación de pesos como en el caso anterior.\n",
    "\n",
    "[Referencia](https://www.cienciadedatos.net/documentos/py09_gradient_boosting_python.html)"
   ]
  },
  {
   "cell_type": "markdown",
   "id": "607c08de-212d-4703-b5b3-3fd357c720bd",
   "metadata": {},
   "source": [
    "#### Definition"
   ]
  },
  {
   "cell_type": "code",
   "execution_count": 18,
   "id": "d3ca54b9-c7ce-4ae8-b779-7525006e7e77",
   "metadata": {},
   "outputs": [],
   "source": [
    "from sklearn.ensemble import GradientBoostingRegressor\n",
    "\n",
    "MODEL_NAME = 'gradientboost'\n",
    "info[MODEL_NAME] = {}\n",
    "info[MODEL_NAME]['model_name'] = MODEL_NAME\n",
    "\n",
    "num_models = 10\n",
    "\n",
    "gradient_boosting = GradientBoostingRegressor(criterion = best_params['criterion'],\n",
    "                                              max_depth = best_params['max_depth'],\n",
    "                                              n_estimators  = num_models,\n",
    "                                              random_state = 2)"
   ]
  },
  {
   "cell_type": "markdown",
   "id": "3d7715c5-7583-4790-8c9b-82dea3374b06",
   "metadata": {},
   "source": [
    "#### Training"
   ]
  },
  {
   "cell_type": "markdown",
   "id": "065383cc-1249-4c91-a1b7-13286606e08e",
   "metadata": {},
   "source": [
    "Entrenamos el ensemble Gradient Boosting y anotamos el tiempo de ejecución."
   ]
  },
  {
   "cell_type": "code",
   "execution_count": 19,
   "id": "07fe0ad3-2124-469a-a701-1292427a690f",
   "metadata": {},
   "outputs": [
    {
     "name": "stderr",
     "output_type": "stream",
     "text": [
      "/home/luis/anaconda3/envs/TFM/lib/python3.9/site-packages/sklearn/ensemble/_gb.py:1854: FutureWarning: criterion='mae' was deprecated in version 0.24 and will be removed in version 1.1 (renaming of 0.26). The correct way of minimizing the absolute error is to use  loss='absolute_error' instead.\n",
      "  warnings.warn(\n"
     ]
    },
    {
     "ename": "KeyboardInterrupt",
     "evalue": "",
     "output_type": "error",
     "traceback": [
      "\u001b[0;31m---------------------------------------------------------------------------\u001b[0m",
      "\u001b[0;31mKeyboardInterrupt\u001b[0m                         Traceback (most recent call last)",
      "Input \u001b[0;32mIn [19]\u001b[0m, in \u001b[0;36m<cell line: 3>\u001b[0;34m()\u001b[0m\n\u001b[1;32m      1\u001b[0m start \u001b[38;5;241m=\u001b[39m time\u001b[38;5;241m.\u001b[39mtime()\n\u001b[0;32m----> 3\u001b[0m gradient_boosting_regressor \u001b[38;5;241m=\u001b[39m \u001b[43mgradient_boosting\u001b[49m\u001b[38;5;241;43m.\u001b[39;49m\u001b[43mfit\u001b[49m\u001b[43m(\u001b[49m\u001b[43mX_train\u001b[49m\u001b[43m,\u001b[49m\u001b[43m \u001b[49m\u001b[43my_train\u001b[49m\u001b[43m)\u001b[49m\n\u001b[1;32m      5\u001b[0m end \u001b[38;5;241m=\u001b[39m time\u001b[38;5;241m.\u001b[39mtime()\n\u001b[1;32m      7\u001b[0m ellapsed_time \u001b[38;5;241m=\u001b[39m \u001b[38;5;28mround\u001b[39m(end \u001b[38;5;241m-\u001b[39m start, \u001b[38;5;241m2\u001b[39m)\n",
      "File \u001b[0;32m~/anaconda3/envs/TFM/lib/python3.9/site-packages/sklearn/ensemble/_gb.py:586\u001b[0m, in \u001b[0;36mBaseGradientBoosting.fit\u001b[0;34m(self, X, y, sample_weight, monitor)\u001b[0m\n\u001b[1;32m    583\u001b[0m     \u001b[38;5;28mself\u001b[39m\u001b[38;5;241m.\u001b[39m_resize_state()\n\u001b[1;32m    585\u001b[0m \u001b[38;5;66;03m# fit the boosting stages\u001b[39;00m\n\u001b[0;32m--> 586\u001b[0m n_stages \u001b[38;5;241m=\u001b[39m \u001b[38;5;28;43mself\u001b[39;49m\u001b[38;5;241;43m.\u001b[39;49m\u001b[43m_fit_stages\u001b[49m\u001b[43m(\u001b[49m\n\u001b[1;32m    587\u001b[0m \u001b[43m    \u001b[49m\u001b[43mX\u001b[49m\u001b[43m,\u001b[49m\n\u001b[1;32m    588\u001b[0m \u001b[43m    \u001b[49m\u001b[43my\u001b[49m\u001b[43m,\u001b[49m\n\u001b[1;32m    589\u001b[0m \u001b[43m    \u001b[49m\u001b[43mraw_predictions\u001b[49m\u001b[43m,\u001b[49m\n\u001b[1;32m    590\u001b[0m \u001b[43m    \u001b[49m\u001b[43msample_weight\u001b[49m\u001b[43m,\u001b[49m\n\u001b[1;32m    591\u001b[0m \u001b[43m    \u001b[49m\u001b[38;5;28;43mself\u001b[39;49m\u001b[38;5;241;43m.\u001b[39;49m\u001b[43m_rng\u001b[49m\u001b[43m,\u001b[49m\n\u001b[1;32m    592\u001b[0m \u001b[43m    \u001b[49m\u001b[43mX_val\u001b[49m\u001b[43m,\u001b[49m\n\u001b[1;32m    593\u001b[0m \u001b[43m    \u001b[49m\u001b[43my_val\u001b[49m\u001b[43m,\u001b[49m\n\u001b[1;32m    594\u001b[0m \u001b[43m    \u001b[49m\u001b[43msample_weight_val\u001b[49m\u001b[43m,\u001b[49m\n\u001b[1;32m    595\u001b[0m \u001b[43m    \u001b[49m\u001b[43mbegin_at_stage\u001b[49m\u001b[43m,\u001b[49m\n\u001b[1;32m    596\u001b[0m \u001b[43m    \u001b[49m\u001b[43mmonitor\u001b[49m\u001b[43m,\u001b[49m\n\u001b[1;32m    597\u001b[0m \u001b[43m\u001b[49m\u001b[43m)\u001b[49m\n\u001b[1;32m    599\u001b[0m \u001b[38;5;66;03m# change shape of arrays after fit (early-stopping or additional ests)\u001b[39;00m\n\u001b[1;32m    600\u001b[0m \u001b[38;5;28;01mif\u001b[39;00m n_stages \u001b[38;5;241m!=\u001b[39m \u001b[38;5;28mself\u001b[39m\u001b[38;5;241m.\u001b[39mestimators_\u001b[38;5;241m.\u001b[39mshape[\u001b[38;5;241m0\u001b[39m]:\n",
      "File \u001b[0;32m~/anaconda3/envs/TFM/lib/python3.9/site-packages/sklearn/ensemble/_gb.py:663\u001b[0m, in \u001b[0;36mBaseGradientBoosting._fit_stages\u001b[0;34m(self, X, y, raw_predictions, sample_weight, random_state, X_val, y_val, sample_weight_val, begin_at_stage, monitor)\u001b[0m\n\u001b[1;32m    656\u001b[0m     old_oob_score \u001b[38;5;241m=\u001b[39m loss_(\n\u001b[1;32m    657\u001b[0m         y[\u001b[38;5;241m~\u001b[39msample_mask],\n\u001b[1;32m    658\u001b[0m         raw_predictions[\u001b[38;5;241m~\u001b[39msample_mask],\n\u001b[1;32m    659\u001b[0m         sample_weight[\u001b[38;5;241m~\u001b[39msample_mask],\n\u001b[1;32m    660\u001b[0m     )\n\u001b[1;32m    662\u001b[0m \u001b[38;5;66;03m# fit next stage of trees\u001b[39;00m\n\u001b[0;32m--> 663\u001b[0m raw_predictions \u001b[38;5;241m=\u001b[39m \u001b[38;5;28;43mself\u001b[39;49m\u001b[38;5;241;43m.\u001b[39;49m\u001b[43m_fit_stage\u001b[49m\u001b[43m(\u001b[49m\n\u001b[1;32m    664\u001b[0m \u001b[43m    \u001b[49m\u001b[43mi\u001b[49m\u001b[43m,\u001b[49m\n\u001b[1;32m    665\u001b[0m \u001b[43m    \u001b[49m\u001b[43mX\u001b[49m\u001b[43m,\u001b[49m\n\u001b[1;32m    666\u001b[0m \u001b[43m    \u001b[49m\u001b[43my\u001b[49m\u001b[43m,\u001b[49m\n\u001b[1;32m    667\u001b[0m \u001b[43m    \u001b[49m\u001b[43mraw_predictions\u001b[49m\u001b[43m,\u001b[49m\n\u001b[1;32m    668\u001b[0m \u001b[43m    \u001b[49m\u001b[43msample_weight\u001b[49m\u001b[43m,\u001b[49m\n\u001b[1;32m    669\u001b[0m \u001b[43m    \u001b[49m\u001b[43msample_mask\u001b[49m\u001b[43m,\u001b[49m\n\u001b[1;32m    670\u001b[0m \u001b[43m    \u001b[49m\u001b[43mrandom_state\u001b[49m\u001b[43m,\u001b[49m\n\u001b[1;32m    671\u001b[0m \u001b[43m    \u001b[49m\u001b[43mX_csc\u001b[49m\u001b[43m,\u001b[49m\n\u001b[1;32m    672\u001b[0m \u001b[43m    \u001b[49m\u001b[43mX_csr\u001b[49m\u001b[43m,\u001b[49m\n\u001b[1;32m    673\u001b[0m \u001b[43m\u001b[49m\u001b[43m)\u001b[49m\n\u001b[1;32m    675\u001b[0m \u001b[38;5;66;03m# track deviance (= loss)\u001b[39;00m\n\u001b[1;32m    676\u001b[0m \u001b[38;5;28;01mif\u001b[39;00m do_oob:\n",
      "File \u001b[0;32m~/anaconda3/envs/TFM/lib/python3.9/site-packages/sklearn/ensemble/_gb.py:246\u001b[0m, in \u001b[0;36mBaseGradientBoosting._fit_stage\u001b[0;34m(self, i, X, y, raw_predictions, sample_weight, sample_mask, random_state, X_csc, X_csr)\u001b[0m\n\u001b[1;32m    243\u001b[0m     sample_weight \u001b[38;5;241m=\u001b[39m sample_weight \u001b[38;5;241m*\u001b[39m sample_mask\u001b[38;5;241m.\u001b[39mastype(np\u001b[38;5;241m.\u001b[39mfloat64)\n\u001b[1;32m    245\u001b[0m X \u001b[38;5;241m=\u001b[39m X_csr \u001b[38;5;28;01mif\u001b[39;00m X_csr \u001b[38;5;129;01mis\u001b[39;00m \u001b[38;5;129;01mnot\u001b[39;00m \u001b[38;5;28;01mNone\u001b[39;00m \u001b[38;5;28;01melse\u001b[39;00m X\n\u001b[0;32m--> 246\u001b[0m \u001b[43mtree\u001b[49m\u001b[38;5;241;43m.\u001b[39;49m\u001b[43mfit\u001b[49m\u001b[43m(\u001b[49m\u001b[43mX\u001b[49m\u001b[43m,\u001b[49m\u001b[43m \u001b[49m\u001b[43mresidual\u001b[49m\u001b[43m,\u001b[49m\u001b[43m \u001b[49m\u001b[43msample_weight\u001b[49m\u001b[38;5;241;43m=\u001b[39;49m\u001b[43msample_weight\u001b[49m\u001b[43m,\u001b[49m\u001b[43m \u001b[49m\u001b[43mcheck_input\u001b[49m\u001b[38;5;241;43m=\u001b[39;49m\u001b[38;5;28;43;01mFalse\u001b[39;49;00m\u001b[43m)\u001b[49m\n\u001b[1;32m    248\u001b[0m \u001b[38;5;66;03m# update tree leaves\u001b[39;00m\n\u001b[1;32m    249\u001b[0m loss\u001b[38;5;241m.\u001b[39mupdate_terminal_regions(\n\u001b[1;32m    250\u001b[0m     tree\u001b[38;5;241m.\u001b[39mtree_,\n\u001b[1;32m    251\u001b[0m     X,\n\u001b[0;32m   (...)\u001b[0m\n\u001b[1;32m    258\u001b[0m     k\u001b[38;5;241m=\u001b[39mk,\n\u001b[1;32m    259\u001b[0m )\n",
      "File \u001b[0;32m~/anaconda3/envs/TFM/lib/python3.9/site-packages/sklearn/tree/_classes.py:1315\u001b[0m, in \u001b[0;36mDecisionTreeRegressor.fit\u001b[0;34m(self, X, y, sample_weight, check_input, X_idx_sorted)\u001b[0m\n\u001b[1;32m   1278\u001b[0m \u001b[38;5;28;01mdef\u001b[39;00m \u001b[38;5;21mfit\u001b[39m(\n\u001b[1;32m   1279\u001b[0m     \u001b[38;5;28mself\u001b[39m, X, y, sample_weight\u001b[38;5;241m=\u001b[39m\u001b[38;5;28;01mNone\u001b[39;00m, check_input\u001b[38;5;241m=\u001b[39m\u001b[38;5;28;01mTrue\u001b[39;00m, X_idx_sorted\u001b[38;5;241m=\u001b[39m\u001b[38;5;124m\"\u001b[39m\u001b[38;5;124mdeprecated\u001b[39m\u001b[38;5;124m\"\u001b[39m\n\u001b[1;32m   1280\u001b[0m ):\n\u001b[1;32m   1281\u001b[0m     \u001b[38;5;124;03m\"\"\"Build a decision tree regressor from the training set (X, y).\u001b[39;00m\n\u001b[1;32m   1282\u001b[0m \n\u001b[1;32m   1283\u001b[0m \u001b[38;5;124;03m    Parameters\u001b[39;00m\n\u001b[0;32m   (...)\u001b[0m\n\u001b[1;32m   1312\u001b[0m \u001b[38;5;124;03m        Fitted estimator.\u001b[39;00m\n\u001b[1;32m   1313\u001b[0m \u001b[38;5;124;03m    \"\"\"\u001b[39;00m\n\u001b[0;32m-> 1315\u001b[0m     \u001b[38;5;28;43msuper\u001b[39;49m\u001b[43m(\u001b[49m\u001b[43m)\u001b[49m\u001b[38;5;241;43m.\u001b[39;49m\u001b[43mfit\u001b[49m\u001b[43m(\u001b[49m\n\u001b[1;32m   1316\u001b[0m \u001b[43m        \u001b[49m\u001b[43mX\u001b[49m\u001b[43m,\u001b[49m\n\u001b[1;32m   1317\u001b[0m \u001b[43m        \u001b[49m\u001b[43my\u001b[49m\u001b[43m,\u001b[49m\n\u001b[1;32m   1318\u001b[0m \u001b[43m        \u001b[49m\u001b[43msample_weight\u001b[49m\u001b[38;5;241;43m=\u001b[39;49m\u001b[43msample_weight\u001b[49m\u001b[43m,\u001b[49m\n\u001b[1;32m   1319\u001b[0m \u001b[43m        \u001b[49m\u001b[43mcheck_input\u001b[49m\u001b[38;5;241;43m=\u001b[39;49m\u001b[43mcheck_input\u001b[49m\u001b[43m,\u001b[49m\n\u001b[1;32m   1320\u001b[0m \u001b[43m        \u001b[49m\u001b[43mX_idx_sorted\u001b[49m\u001b[38;5;241;43m=\u001b[39;49m\u001b[43mX_idx_sorted\u001b[49m\u001b[43m,\u001b[49m\n\u001b[1;32m   1321\u001b[0m \u001b[43m    \u001b[49m\u001b[43m)\u001b[49m\n\u001b[1;32m   1322\u001b[0m     \u001b[38;5;28;01mreturn\u001b[39;00m \u001b[38;5;28mself\u001b[39m\n",
      "File \u001b[0;32m~/anaconda3/envs/TFM/lib/python3.9/site-packages/sklearn/tree/_classes.py:420\u001b[0m, in \u001b[0;36mBaseDecisionTree.fit\u001b[0;34m(self, X, y, sample_weight, check_input, X_idx_sorted)\u001b[0m\n\u001b[1;32m    409\u001b[0m \u001b[38;5;28;01melse\u001b[39;00m:\n\u001b[1;32m    410\u001b[0m     builder \u001b[38;5;241m=\u001b[39m BestFirstTreeBuilder(\n\u001b[1;32m    411\u001b[0m         splitter,\n\u001b[1;32m    412\u001b[0m         min_samples_split,\n\u001b[0;32m   (...)\u001b[0m\n\u001b[1;32m    417\u001b[0m         \u001b[38;5;28mself\u001b[39m\u001b[38;5;241m.\u001b[39mmin_impurity_decrease,\n\u001b[1;32m    418\u001b[0m     )\n\u001b[0;32m--> 420\u001b[0m \u001b[43mbuilder\u001b[49m\u001b[38;5;241;43m.\u001b[39;49m\u001b[43mbuild\u001b[49m\u001b[43m(\u001b[49m\u001b[38;5;28;43mself\u001b[39;49m\u001b[38;5;241;43m.\u001b[39;49m\u001b[43mtree_\u001b[49m\u001b[43m,\u001b[49m\u001b[43m \u001b[49m\u001b[43mX\u001b[49m\u001b[43m,\u001b[49m\u001b[43m \u001b[49m\u001b[43my\u001b[49m\u001b[43m,\u001b[49m\u001b[43m \u001b[49m\u001b[43msample_weight\u001b[49m\u001b[43m)\u001b[49m\n\u001b[1;32m    422\u001b[0m \u001b[38;5;28;01mif\u001b[39;00m \u001b[38;5;28mself\u001b[39m\u001b[38;5;241m.\u001b[39mn_outputs_ \u001b[38;5;241m==\u001b[39m \u001b[38;5;241m1\u001b[39m \u001b[38;5;129;01mand\u001b[39;00m is_classifier(\u001b[38;5;28mself\u001b[39m):\n\u001b[1;32m    423\u001b[0m     \u001b[38;5;28mself\u001b[39m\u001b[38;5;241m.\u001b[39mn_classes_ \u001b[38;5;241m=\u001b[39m \u001b[38;5;28mself\u001b[39m\u001b[38;5;241m.\u001b[39mn_classes_[\u001b[38;5;241m0\u001b[39m]\n",
      "\u001b[0;31mKeyboardInterrupt\u001b[0m: "
     ]
    }
   ],
   "source": [
    "start = time.time()\n",
    "\n",
    "gradient_boosting_regressor = gradient_boosting.fit(X_train, y_train)\n",
    "\n",
    "end = time.time()\n",
    "\n",
    "ellapsed_time = round(end - start, 2)\n",
    "info[MODEL_NAME]['time'] = ellapsed_time\n",
    "\n",
    "print(f\"Done in {ellapsed_time} (s)\")"
   ]
  },
  {
   "cell_type": "markdown",
   "id": "12215aa4-4ed9-43d2-a510-cfaf4957a996",
   "metadata": {},
   "source": [
    "#### Metrics"
   ]
  },
  {
   "cell_type": "markdown",
   "id": "49a7b5ab-a696-4c8d-b32d-e903826c0dec",
   "metadata": {},
   "source": [
    "Calculamos los estadísticos **MSE**, **RMSE** y **R-Squared**."
   ]
  },
  {
   "cell_type": "code",
   "execution_count": null,
   "id": "6ee49747-2043-4b85-978a-27fa017fb0a1",
   "metadata": {},
   "outputs": [],
   "source": [
    "y_pred = gradient_boosting.predict(X_test)\n",
    "\n",
    "mse = mean_squared_error(y_test, y_pred)\n",
    "info[MODEL_NAME]['mse'] = mse\n",
    "\n",
    "print(\"MSE: \", info[MODEL_NAME]['mse'])\n",
    "\n",
    "rmse = mean_squared_error(y_true  = y_test,\n",
    "                          y_pred  = y_pred,\n",
    "                          squared = False\n",
    "                        )\n",
    "info[MODEL_NAME]['rmse'] = rmse\n",
    "\n",
    "print(\"RMSE: \", info[MODEL_NAME]['rmse'])\n",
    "\n",
    "score = gradient_boosting.score(X_test, y_test)\n",
    "info[MODEL_NAME]['score'] = score\n",
    "\n",
    "print(\"R-squared:\", info[MODEL_NAME]['score']) "
   ]
  },
  {
   "cell_type": "markdown",
   "id": "1e6e6028-aab3-4508-aa39-9ce5a316b4fb",
   "metadata": {
    "tags": []
   },
   "source": [
    "#### Graphic Results"
   ]
  },
  {
   "cell_type": "markdown",
   "id": "e90d0ed9-055b-4b1b-ac7a-e0e10c2190bc",
   "metadata": {},
   "source": [
    "Graficamos un interavalo de predicciones de 50 muestras de test."
   ]
  },
  {
   "cell_type": "code",
   "execution_count": null,
   "id": "2804b378-c385-4708-8fa4-17a5a7cd0786",
   "metadata": {},
   "outputs": [],
   "source": [
    "n_samples = range(len(y_test[:50]))\n",
    "\n",
    "info[MODEL_NAME]['y_pred'] = y_pred[:50]\n",
    "\n",
    "plt.figure(figsize=(15,10))\n",
    "\n",
    "plt.scatter(n_samples, y_test[:50], s = 15, color = 'red', label = \"original\")\n",
    "plt.plot(n_samples, y_pred[:50], linewidth = 1.1, color = 'blue', label = \"predicted\")\n",
    "\n",
    "plt.title(\"Y-true / Y-predicted (minutes)\")\n",
    "plt.xlabel('Sample')\n",
    "plt.ylabel('Minutes')\n",
    "\n",
    "plt.legend(loc='best',fancybox = True, shadow = True)\n",
    "\n",
    "GRAPH_PATH = f\"{SAMPLE_GRAPH_RESULTS_PATH}boosting/{MODEL_NAME}/\"\n",
    "FILE_NAME  = f\"{MODEL_NAME}_{MODEL_TIMESTAMP}.png\"\n",
    "\n",
    "plt.grid(True)\n",
    "plt.savefig(GRAPH_PATH + FILE_NAME, dpi = 100)\n",
    "plt.show()"
   ]
  },
  {
   "cell_type": "markdown",
   "id": "1ead2e90-de06-49f0-b201-4d0979a4490b",
   "metadata": {
    "toc-hr-collapsed": true
   },
   "source": [
    "## Stacking"
   ]
  },
  {
   "cell_type": "markdown",
   "id": "8246ac16-cd03-4503-990d-f627e0580ce1",
   "metadata": {},
   "source": [
    "Stacking permite utilizar distintas tipologías de modelos para crear una arquitectura que combine las predicciones de éstos.\n",
    "\n",
    "A diferencia del Bagging, el Stacking nos da la flexibilidad de explorar distintos modelos en lugar de siempre el mismo.\n",
    "\n",
    "Es por esto que en esta sección crearemos un Ensemble Stacking con los siguientes modelos:\n",
    "- **KNeighborsRegressor**: configurado con tres vecinos cercanos para calcular la regresión. \n",
    "- **DecisionTreeRegressor**: con los parámetros óptimos calculados en el apartado de Regresión.\n",
    "- **SVR**: con los paráemtros por defecto.\n",
    "\n",
    "Debido a motivos de tiempo de ejecución, no ha sido posible buscar los mejores hiperparámetros para cada uno de los modelos que pertenecen a la arquitectura de Stacking, por lo que un posible trabajo a futuro sería encontrar estos parámetros que logren minimizar los residuos.\n",
    "\n",
    "[Referencia](https://machinelearningmastery.com/stacking-ensemble-machine-learning-with-python/)"
   ]
  },
  {
   "cell_type": "markdown",
   "id": "a3ef212e-034f-4ac0-8abb-63338e7d11b1",
   "metadata": {},
   "source": [
    "### Definition"
   ]
  },
  {
   "cell_type": "code",
   "execution_count": null,
   "id": "3056c8f3-e819-4b69-9dea-c59bdbcc2d81",
   "metadata": {},
   "outputs": [],
   "source": [
    "from sklearn.neighbors import KNeighborsRegressor\n",
    "from sklearn.tree import DecisionTreeRegressor\n",
    "from sklearn.svm import SVR\n",
    "from sklearn.linear_model import LinearRegression\n",
    "from sklearn.ensemble import StackingRegressor\n",
    "\n",
    "\n",
    "MODEL_NAME = 'stacking'\n",
    "info[MODEL_NAME] = {}\n",
    "info[MODEL_NAME]['model_name'] = MODEL_NAME\n",
    "\n",
    "base_models = list()\n",
    "base_models.append(('knn', KNeighborsRegressor(n_neighbors = 3)))\n",
    "base_models.append(('cart', DecisionTreeRegressor(criterion = best_params['criterion'],\n",
    "                                                  max_depth = best_params['max_depth'],\n",
    "                                                  random_state = 2)))\n",
    "base_models.append(('svm', SVR()))\n",
    "\n",
    "\n",
    "meta_learner = DecisionTreeRegressor(criterion = best_params['criterion'],\n",
    "                                     max_depth = best_params['max_depth'],\n",
    "                                     random_state = 2)\n",
    "\n",
    "stacking = StackingRegressor(estimators = base_models,\n",
    "                             final_estimator = meta_learner,\n",
    "                             cv = 5)"
   ]
  },
  {
   "cell_type": "markdown",
   "id": "efe49d6c-b2e7-438f-a414-54c5deb5890e",
   "metadata": {},
   "source": [
    "### Training"
   ]
  },
  {
   "cell_type": "markdown",
   "id": "c635514c-c6f8-43ae-b282-f05b7ef6b5da",
   "metadata": {},
   "source": [
    "Entrenamos el ensemble Stacking y anotamos el tiempo de ejecución."
   ]
  },
  {
   "cell_type": "code",
   "execution_count": null,
   "id": "4b82c869-3250-4776-9844-46a781f6e45c",
   "metadata": {
    "tags": []
   },
   "outputs": [],
   "source": [
    "start = time.time()\n",
    "\n",
    "stacking_regressor = stacking.fit(X_train, y_train)\n",
    "\n",
    "end = time.time()\n",
    "\n",
    "ellapsed_time = round(end - start, 2)\n",
    "info[MODEL_NAME]['time'] = ellapsed_time\n",
    "\n",
    "print(f\"Done in {ellapsed_time} (s)\")"
   ]
  },
  {
   "cell_type": "markdown",
   "id": "df56592d-faa9-4bb3-a641-b94921cc75b6",
   "metadata": {},
   "source": [
    "### Metrics"
   ]
  },
  {
   "cell_type": "markdown",
   "id": "3690071f-fe37-4cd3-8cf0-1d8562d2b58d",
   "metadata": {},
   "source": [
    "Calculamos los estadísticos **MSE**, **RMSE** y **R-Squared**."
   ]
  },
  {
   "cell_type": "code",
   "execution_count": null,
   "id": "93de5172-c19b-4f61-bfd4-a44c834755f8",
   "metadata": {},
   "outputs": [],
   "source": [
    "from sklearn.metrics import mean_squared_error\n",
    "\n",
    "y_pred = stacking_regressor.predict(X_test)\n",
    "\n",
    "mse = mean_squared_error(y_test, y_pred)\n",
    "info[MODEL_NAME]['mse'] = mse\n",
    "\n",
    "print(\"MSE: \", info[MODEL_NAME]['mse'])\n",
    "\n",
    "rmse = mean_squared_error(y_true  = y_test,\n",
    "                          y_pred  = y_pred,\n",
    "                          squared = False\n",
    "                        )\n",
    "info[MODEL_NAME]['rmse'] = rmse\n",
    "\n",
    "print(\"RMSE: \", info[MODEL_NAME]['rmse'])\n",
    "\n",
    "\n",
    "score = stacking_regressor.score(X_test, y_test)\n",
    "info[MODEL_NAME]['score'] = score\n",
    "\n",
    "print(\"R-squared:\", info[MODEL_NAME]['score'])"
   ]
  },
  {
   "cell_type": "markdown",
   "id": "b4ba3fa7-e26b-438f-8ba5-8983678d5a69",
   "metadata": {},
   "source": [
    "### Graphic Results"
   ]
  },
  {
   "cell_type": "markdown",
   "id": "7151960f-1b3b-41ac-bd29-dcf6f53f4fad",
   "metadata": {},
   "source": [
    "Graficamos un interavalo de predicciones de 50 muestras de test."
   ]
  },
  {
   "cell_type": "code",
   "execution_count": null,
   "id": "ef2dab3e-096a-4f07-a437-8c52d9f87d0b",
   "metadata": {},
   "outputs": [],
   "source": [
    "n_samples = range(len(y_test[:50]))\n",
    "\n",
    "info[MODEL_NAME]['y_pred'] = y_pred[:50]\n",
    "\n",
    "plt.figure(figsize=(15,10))\n",
    "\n",
    "plt.scatter(n_samples, y_test[:50], s = 15, color = 'red', label = \"original\")\n",
    "plt.plot(n_samples, y_pred[:50], linewidth = 1.1, color = 'blue', label = \"predicted\")\n",
    "\n",
    "plt.title(\"Y-true / Y-predicted (minutes)\")\n",
    "plt.xlabel('Sample')\n",
    "plt.ylabel('Minutes')\n",
    "\n",
    "plt.legend(loc = 'best',\n",
    "           fancybox = True,\n",
    "           shadow = True)\n",
    "\n",
    "GRAPH_PATH = f\"{SAMPLE_GRAPH_RESULTS_PATH}{MODEL_NAME}/\"\n",
    "FILE_NAME  = f\"{MODEL_NAME}_{MODEL_TIMESTAMP}.png\"\n",
    "\n",
    "plt.grid(True)\n",
    "plt.savefig(GRAPH_PATH + FILE_NAME, dpi = 100)\n",
    "plt.show()"
   ]
  },
  {
   "cell_type": "markdown",
   "id": "30bb0cd7-a799-439d-95c3-c86b8f29d0e2",
   "metadata": {},
   "source": [
    "# Reports"
   ]
  },
  {
   "cell_type": "markdown",
   "id": "f0a55e51-ae81-4d59-a245-f4b8755adc9a",
   "metadata": {},
   "source": [
    "A continuación analizaremos los resultados de los ensembles obtenidos, centrándonos concretamente en:\n",
    "\n",
    "- **Tiempo**: tiempo empleado en entrenar el ensemble.\n",
    "- **Mean Squared Error (MSE)**: Error cuadrático medio de las predicciones respecto a su valor verdadero.\n",
    "- **Root-mean-square deviation (RMSE)**: Raíz cuadrada del error cuadrático medio o MSE.\n",
    "- **Score**: Media de la precisión de los modelos."
   ]
  },
  {
   "cell_type": "code",
   "execution_count": null,
   "id": "47775ea4-510d-4f6d-8f71-3e3fad95d7fe",
   "metadata": {},
   "outputs": [],
   "source": [
    "FEATURES = ['model_name', 'time', 'mse', 'rmse', 'score']\n",
    "summary_dataframe = pd.DataFrame(columns = FEATURES)\n",
    "\n",
    "for key in info:\n",
    "    row = info[key]\n",
    "    fields = []\n",
    "    for feature in row:\n",
    "        if (feature in FEATURES):\n",
    "            fields.append(row[feature])\n",
    "\n",
    "    row_series = pd. Series(fields, index = summary_dataframe.columns)\n",
    "    summary_dataframe = summary_dataframe.append(row_series, ignore_index = True)\n",
    "\n",
    "SAVE_PATH =  f\"{REPORTS_PATH}{MODEL_TIMESTAMP}.csv\"\n",
    "\n",
    "summary_dataframe.to_csv(SAVE_PATH, index = True)\n",
    "summary_dataframe.style.highlight_min(subset = ['time', 'mse', 'rmse'], color = 'green')\\\n",
    "                       .highlight_max(subset = ['score'], color = 'green')\\\n",
    "                       .highlight_max(subset = ['time', 'mse', 'rmse'], color = 'red')\\\n",
    "                       .highlight_min(subset = ['score'], color = 'red')\n"
   ]
  },
  {
   "cell_type": "markdown",
   "id": "2ae671d3-ab04-43f0-b245-6a3697e3ed02",
   "metadata": {},
   "source": [
    "Podemos observar que cada uno de los modelos emplea un tiempo de entrenamiento notablemente diferente. Esto, junto a la distinta precisión entre los modelos, genera la necesidad de analizar cada modelo individualmente.\n",
    "\n",
    "Como vemos en el reporte, el modelo que mejor resultados nos ofrece es el Bagging, además con un tiempo de ejecución razonable con respecto a los modelos Gradient Boosting y Stacking, no siendo así con respecto al Ensemble AdaBoost, sin embargo, debido a la diferencia de precisión, este modelo queda descartado para este problema. \n",
    "\n",
    "Por lo que, con esta configuración de hiperparámetros con los modelos actuales, eligiríamos el modelo Ensemble Bagging como solución a este problema."
   ]
  },
  {
   "cell_type": "code",
   "execution_count": null,
   "id": "bd1f7d7e-b786-4ab2-b0cd-72060339b4aa",
   "metadata": {},
   "outputs": [],
   "source": [
    "plt.figure(figsize=(15,10))\n",
    "\n",
    "plt.scatter(n_samples, y_test[:50], s = 20, color = 'red', label = \"original\")\n",
    "\n",
    "for key in info:\n",
    "    y_pred = info[key]['y_pred']\n",
    "    model_name = info[key]['model_name']\n",
    "    plt.plot(n_samples, y_pred, linewidth = 1.1, label = model_name)\n",
    "\n",
    "plt.title(\"Y-true / Y-predicted (minutes)\")\n",
    "plt.xlabel('Sample')\n",
    "plt.ylabel('Minutes')\n",
    "\n",
    "plt.legend(loc = 'best',\n",
    "           fancybox = True,\n",
    "           shadow = True)\n",
    "\n",
    "GRAPH_PATH = f\"{SAMPLE_GRAPH_RESULTS_PATH}/\"\n",
    "FILE_NAME  = f\"{MODEL_TIMESTAMP}.png\"\n",
    "\n",
    "plt.grid(True)\n",
    "plt.savefig(GRAPH_PATH + FILE_NAME, dpi = 100)\n",
    "plt.show()\n"
   ]
  },
  {
   "cell_type": "markdown",
   "id": "5dd5d6af-e9e2-45b2-ae31-bc599b9883d1",
   "metadata": {},
   "source": [
    "Observando la gráfica podemos apreciar dos casos contrapuestos en lo que a valores predichos se refiere.\n",
    "\n",
    "Si ponemos el foco en el ensemble Stacking (rojo) generalmente toma valores de regresión más cercanos al valor verdadero cuando se trata de partidos por debajo de 75 minutos aproximadamente.\n",
    "\n",
    "Encontramos también el caso contrario con el ensemble Gradient Boost (verde), que toma generalmente las predicciones más neutras con respecto al resto de ensembles."
   ]
  },
  {
   "cell_type": "markdown",
   "id": "2bf68840-2e7a-4f38-b22a-3e18a41c5e9b",
   "metadata": {},
   "source": [
    "# Conclusiones"
   ]
  },
  {
   "cell_type": "markdown",
   "id": "01fd74c0-c773-4253-b90b-9db457b05d3d",
   "metadata": {},
   "source": [
    "Como hemos podido comprobar, es posible aplicar distintas técnicas de ensembles a un problema, concretamente:\n",
    "- Bagging\n",
    "- Boosting\n",
    "    - AdaBoost:\n",
    "    - Gradient Boosting Regressor\n",
    "- Stacking\n",
    "\n",
    "Después de haber probado las distintas arquitecturas, los mejores resultados se han obtenido en MEJORMODELO con un RMSE de RMSEMEJOR con respecto a RMSE1 de MODELO1, RMSE2 MODELO2 y RMSE3 del MODELO3 respectivamente.\n",
    "    \n",
    "\n",
    "Por motivos de tiempo de ejecución no se han podido testar tantas combinaciones distintas de modelos e hiperparámetros deseadas a la hora de construir los ensembles.\n",
    "\n",
    "Por lo que se propone como trabajos futuros la implementación y el estudio de distintos modelos en las arquitecturas de los ensembles y realizar una búsqueda más profunda de hiperparámetros que logren minimizar aún más el error producido en la regresión y, por ende, mejorar la precisión de los resultados."
   ]
  }
 ],
 "metadata": {
  "kernelspec": {
   "display_name": "Python [conda env:TFM]",
   "language": "python",
   "name": "conda-env-TFM-py"
  },
  "language_info": {
   "codemirror_mode": {
    "name": "ipython",
    "version": 3
   },
   "file_extension": ".py",
   "mimetype": "text/x-python",
   "name": "python",
   "nbconvert_exporter": "python",
   "pygments_lexer": "ipython3",
   "version": "3.9.11"
  },
  "toc-autonumbering": true,
  "toc-showtags": false
 },
 "nbformat": 4,
 "nbformat_minor": 5
}
